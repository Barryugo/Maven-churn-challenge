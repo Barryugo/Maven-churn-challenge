{
 "cells": [
  {
   "cell_type": "markdown",
   "metadata": {},
   "source": [
    "<H1>Import required libraries for analysis and visualization "
   ]
  },
  {
   "cell_type": "code",
   "execution_count": 56,
   "metadata": {},
   "outputs": [],
   "source": [
    "import pandas as pd\n",
    "import numpy as np\n",
    "import matplotlib.pyplot as plt\n",
    "import plotly.express as px\n",
    "import seaborn as sns\n",
    "import plotly.io as pio\n"
   ]
  },
  {
   "cell_type": "markdown",
   "metadata": {},
   "source": [
    "<h1>Load the dataset for this analysis</h1>\n",
    "<p>This data set contains customers information on 7,043 customers from a Telecommunication company in California in Q2 2022</p>\n",
    "<p>This analysis will make use of 2 data set"
   ]
  },
  {
   "cell_type": "code",
   "execution_count": 57,
   "metadata": {},
   "outputs": [
    {
     "data": {
      "text/html": [
       "<div>\n",
       "<style scoped>\n",
       "    .dataframe tbody tr th:only-of-type {\n",
       "        vertical-align: middle;\n",
       "    }\n",
       "\n",
       "    .dataframe tbody tr th {\n",
       "        vertical-align: top;\n",
       "    }\n",
       "\n",
       "    .dataframe thead th {\n",
       "        text-align: right;\n",
       "    }\n",
       "</style>\n",
       "<table border=\"1\" class=\"dataframe\">\n",
       "  <thead>\n",
       "    <tr style=\"text-align: right;\">\n",
       "      <th></th>\n",
       "      <th>Customer ID</th>\n",
       "      <th>Gender</th>\n",
       "      <th>Age</th>\n",
       "      <th>Married</th>\n",
       "      <th>Number of Dependents</th>\n",
       "      <th>City</th>\n",
       "      <th>Zip Code</th>\n",
       "      <th>Latitude</th>\n",
       "      <th>Longitude</th>\n",
       "      <th>Number of Referrals</th>\n",
       "      <th>...</th>\n",
       "      <th>Payment Method</th>\n",
       "      <th>Monthly Charge</th>\n",
       "      <th>Total Charges</th>\n",
       "      <th>Total Refunds</th>\n",
       "      <th>Total Extra Data Charges</th>\n",
       "      <th>Total Long Distance Charges</th>\n",
       "      <th>Total Revenue</th>\n",
       "      <th>Customer Status</th>\n",
       "      <th>Churn Category</th>\n",
       "      <th>Churn Reason</th>\n",
       "    </tr>\n",
       "  </thead>\n",
       "  <tbody>\n",
       "    <tr>\n",
       "      <th>0</th>\n",
       "      <td>0002-ORFBO</td>\n",
       "      <td>Female</td>\n",
       "      <td>37</td>\n",
       "      <td>Yes</td>\n",
       "      <td>0</td>\n",
       "      <td>Frazier Park</td>\n",
       "      <td>93225</td>\n",
       "      <td>34.827662</td>\n",
       "      <td>-118.999073</td>\n",
       "      <td>2</td>\n",
       "      <td>...</td>\n",
       "      <td>Credit Card</td>\n",
       "      <td>65.6</td>\n",
       "      <td>593.30</td>\n",
       "      <td>0.00</td>\n",
       "      <td>0</td>\n",
       "      <td>381.51</td>\n",
       "      <td>974.81</td>\n",
       "      <td>Stayed</td>\n",
       "      <td>NaN</td>\n",
       "      <td>NaN</td>\n",
       "    </tr>\n",
       "    <tr>\n",
       "      <th>1</th>\n",
       "      <td>0003-MKNFE</td>\n",
       "      <td>Male</td>\n",
       "      <td>46</td>\n",
       "      <td>No</td>\n",
       "      <td>0</td>\n",
       "      <td>Glendale</td>\n",
       "      <td>91206</td>\n",
       "      <td>34.162515</td>\n",
       "      <td>-118.203869</td>\n",
       "      <td>0</td>\n",
       "      <td>...</td>\n",
       "      <td>Credit Card</td>\n",
       "      <td>-4.0</td>\n",
       "      <td>542.40</td>\n",
       "      <td>38.33</td>\n",
       "      <td>10</td>\n",
       "      <td>96.21</td>\n",
       "      <td>610.28</td>\n",
       "      <td>Stayed</td>\n",
       "      <td>NaN</td>\n",
       "      <td>NaN</td>\n",
       "    </tr>\n",
       "    <tr>\n",
       "      <th>2</th>\n",
       "      <td>0004-TLHLJ</td>\n",
       "      <td>Male</td>\n",
       "      <td>50</td>\n",
       "      <td>No</td>\n",
       "      <td>0</td>\n",
       "      <td>Costa Mesa</td>\n",
       "      <td>92627</td>\n",
       "      <td>33.645672</td>\n",
       "      <td>-117.922613</td>\n",
       "      <td>0</td>\n",
       "      <td>...</td>\n",
       "      <td>Bank Withdrawal</td>\n",
       "      <td>73.9</td>\n",
       "      <td>280.85</td>\n",
       "      <td>0.00</td>\n",
       "      <td>0</td>\n",
       "      <td>134.60</td>\n",
       "      <td>415.45</td>\n",
       "      <td>Churned</td>\n",
       "      <td>Competitor</td>\n",
       "      <td>Competitor had better devices</td>\n",
       "    </tr>\n",
       "    <tr>\n",
       "      <th>3</th>\n",
       "      <td>0011-IGKFF</td>\n",
       "      <td>Male</td>\n",
       "      <td>78</td>\n",
       "      <td>Yes</td>\n",
       "      <td>0</td>\n",
       "      <td>Martinez</td>\n",
       "      <td>94553</td>\n",
       "      <td>38.014457</td>\n",
       "      <td>-122.115432</td>\n",
       "      <td>1</td>\n",
       "      <td>...</td>\n",
       "      <td>Bank Withdrawal</td>\n",
       "      <td>98.0</td>\n",
       "      <td>1237.85</td>\n",
       "      <td>0.00</td>\n",
       "      <td>0</td>\n",
       "      <td>361.66</td>\n",
       "      <td>1599.51</td>\n",
       "      <td>Churned</td>\n",
       "      <td>Dissatisfaction</td>\n",
       "      <td>Product dissatisfaction</td>\n",
       "    </tr>\n",
       "    <tr>\n",
       "      <th>4</th>\n",
       "      <td>0013-EXCHZ</td>\n",
       "      <td>Female</td>\n",
       "      <td>75</td>\n",
       "      <td>Yes</td>\n",
       "      <td>0</td>\n",
       "      <td>Camarillo</td>\n",
       "      <td>93010</td>\n",
       "      <td>34.227846</td>\n",
       "      <td>-119.079903</td>\n",
       "      <td>3</td>\n",
       "      <td>...</td>\n",
       "      <td>Credit Card</td>\n",
       "      <td>83.9</td>\n",
       "      <td>267.40</td>\n",
       "      <td>0.00</td>\n",
       "      <td>0</td>\n",
       "      <td>22.14</td>\n",
       "      <td>289.54</td>\n",
       "      <td>Churned</td>\n",
       "      <td>Dissatisfaction</td>\n",
       "      <td>Network reliability</td>\n",
       "    </tr>\n",
       "  </tbody>\n",
       "</table>\n",
       "<p>5 rows × 38 columns</p>\n",
       "</div>"
      ],
      "text/plain": [
       "  Customer ID  Gender  Age Married  Number of Dependents          City  \\\n",
       "0  0002-ORFBO  Female   37     Yes                     0  Frazier Park   \n",
       "1  0003-MKNFE    Male   46      No                     0      Glendale   \n",
       "2  0004-TLHLJ    Male   50      No                     0    Costa Mesa   \n",
       "3  0011-IGKFF    Male   78     Yes                     0      Martinez   \n",
       "4  0013-EXCHZ  Female   75     Yes                     0     Camarillo   \n",
       "\n",
       "   Zip Code   Latitude   Longitude  Number of Referrals  ...   Payment Method  \\\n",
       "0     93225  34.827662 -118.999073                    2  ...      Credit Card   \n",
       "1     91206  34.162515 -118.203869                    0  ...      Credit Card   \n",
       "2     92627  33.645672 -117.922613                    0  ...  Bank Withdrawal   \n",
       "3     94553  38.014457 -122.115432                    1  ...  Bank Withdrawal   \n",
       "4     93010  34.227846 -119.079903                    3  ...      Credit Card   \n",
       "\n",
       "  Monthly Charge Total Charges  Total Refunds Total Extra Data Charges  \\\n",
       "0           65.6        593.30           0.00                        0   \n",
       "1           -4.0        542.40          38.33                       10   \n",
       "2           73.9        280.85           0.00                        0   \n",
       "3           98.0       1237.85           0.00                        0   \n",
       "4           83.9        267.40           0.00                        0   \n",
       "\n",
       "  Total Long Distance Charges Total Revenue  Customer Status   Churn Category  \\\n",
       "0                      381.51        974.81           Stayed              NaN   \n",
       "1                       96.21        610.28           Stayed              NaN   \n",
       "2                      134.60        415.45          Churned       Competitor   \n",
       "3                      361.66       1599.51          Churned  Dissatisfaction   \n",
       "4                       22.14        289.54          Churned  Dissatisfaction   \n",
       "\n",
       "                    Churn Reason  \n",
       "0                            NaN  \n",
       "1                            NaN  \n",
       "2  Competitor had better devices  \n",
       "3        Product dissatisfaction  \n",
       "4            Network reliability  \n",
       "\n",
       "[5 rows x 38 columns]"
      ]
     },
     "execution_count": 57,
     "metadata": {},
     "output_type": "execute_result"
    }
   ],
   "source": [
    "customer_churn= pd.read_csv(r'C:\\EXCEL\\Telecom+Customer+Churn\\telecom_customer_churn.csv')\n",
    "customer_churn.head()"
   ]
  },
  {
   "cell_type": "code",
   "execution_count": 58,
   "metadata": {},
   "outputs": [
    {
     "data": {
      "text/html": [
       "<div>\n",
       "<style scoped>\n",
       "    .dataframe tbody tr th:only-of-type {\n",
       "        vertical-align: middle;\n",
       "    }\n",
       "\n",
       "    .dataframe tbody tr th {\n",
       "        vertical-align: top;\n",
       "    }\n",
       "\n",
       "    .dataframe thead th {\n",
       "        text-align: right;\n",
       "    }\n",
       "</style>\n",
       "<table border=\"1\" class=\"dataframe\">\n",
       "  <thead>\n",
       "    <tr style=\"text-align: right;\">\n",
       "      <th></th>\n",
       "      <th>Zip Code</th>\n",
       "      <th>Population</th>\n",
       "    </tr>\n",
       "  </thead>\n",
       "  <tbody>\n",
       "    <tr>\n",
       "      <th>0</th>\n",
       "      <td>90001</td>\n",
       "      <td>54492</td>\n",
       "    </tr>\n",
       "    <tr>\n",
       "      <th>1</th>\n",
       "      <td>90002</td>\n",
       "      <td>44586</td>\n",
       "    </tr>\n",
       "  </tbody>\n",
       "</table>\n",
       "</div>"
      ],
      "text/plain": [
       "   Zip Code  Population\n",
       "0     90001       54492\n",
       "1     90002       44586"
      ]
     },
     "execution_count": 58,
     "metadata": {},
     "output_type": "execute_result"
    }
   ],
   "source": [
    "zip_code_pop= pd.read_csv(r'C:\\EXCEL\\Telecom+Customer+Churn\\telecom_zipcode_population.csv')\n",
    "zip_code_pop.head(2)"
   ]
  },
  {
   "cell_type": "markdown",
   "metadata": {},
   "source": [
    "<h1>Data wrangling"
   ]
  },
  {
   "cell_type": "code",
   "execution_count": 59,
   "metadata": {},
   "outputs": [
    {
     "name": "stdout",
     "output_type": "stream",
     "text": [
      "Customer ID                             0\n",
      "Gender                                  0\n",
      "Age                                     0\n",
      "Married                                 0\n",
      "Number of Dependents                    0\n",
      "City                                    0\n",
      "Zip Code                                0\n",
      "Latitude                                0\n",
      "Longitude                               0\n",
      "Number of Referrals                     0\n",
      "Tenure in Months                        0\n",
      "Offer                                   0\n",
      "Phone Service                           0\n",
      "Avg Monthly Long Distance Charges     682\n",
      "Multiple Lines                        682\n",
      "Internet Service                        0\n",
      "Internet Type                        1526\n",
      "Avg Monthly GB Download              1526\n",
      "Online Security                      1526\n",
      "Online Backup                        1526\n",
      "Device Protection Plan               1526\n",
      "Premium Tech Support                 1526\n",
      "Streaming TV                         1526\n",
      "Streaming Movies                     1526\n",
      "Streaming Music                      1526\n",
      "Unlimited Data                       1526\n",
      "Contract                                0\n",
      "Paperless Billing                       0\n",
      "Payment Method                          0\n",
      "Monthly Charge                          0\n",
      "Total Charges                           0\n",
      "Total Refunds                           0\n",
      "Total Extra Data Charges                0\n",
      "Total Long Distance Charges             0\n",
      "Total Revenue                           0\n",
      "Customer Status                         0\n",
      "Churn Category                       5174\n",
      "Churn Reason                         5174\n",
      "dtype: int64\n"
     ]
    }
   ],
   "source": [
    "#identify and count missing data\n",
    "print(customer_churn.isnull().sum())\n"
   ]
  },
  {
   "cell_type": "code",
   "execution_count": 60,
   "metadata": {},
   "outputs": [
    {
     "data": {
      "text/plain": [
       "Customer ID                           object\n",
       "Gender                                object\n",
       "Age                                    int64\n",
       "Married                               object\n",
       "Number of Dependents                   int64\n",
       "City                                  object\n",
       "Zip Code                               int64\n",
       "Latitude                             float64\n",
       "Longitude                            float64\n",
       "Number of Referrals                    int64\n",
       "Tenure in Months                       int64\n",
       "Offer                                 object\n",
       "Phone Service                         object\n",
       "Avg Monthly Long Distance Charges    float64\n",
       "Multiple Lines                        object\n",
       "Internet Service                      object\n",
       "Internet Type                         object\n",
       "Avg Monthly GB Download              float64\n",
       "Online Security                       object\n",
       "Online Backup                         object\n",
       "Device Protection Plan                object\n",
       "Premium Tech Support                  object\n",
       "Streaming TV                          object\n",
       "Streaming Movies                      object\n",
       "Streaming Music                       object\n",
       "Unlimited Data                        object\n",
       "Contract                              object\n",
       "Paperless Billing                     object\n",
       "Payment Method                        object\n",
       "Monthly Charge                       float64\n",
       "Total Charges                        float64\n",
       "Total Refunds                        float64\n",
       "Total Extra Data Charges               int64\n",
       "Total Long Distance Charges          float64\n",
       "Total Revenue                        float64\n",
       "Customer Status                       object\n",
       "Churn Category                        object\n",
       "Churn Reason                          object\n",
       "dtype: object"
      ]
     },
     "execution_count": 60,
     "metadata": {},
     "output_type": "execute_result"
    }
   ],
   "source": [
    "#convert data type\n",
    "# Firts i will check the data type\n",
    "customer_churn.dtypes"
   ]
  },
  {
   "cell_type": "markdown",
   "metadata": {},
   "source": [
    "I think the data type is okay for now so i will not change anything yet"
   ]
  },
  {
   "cell_type": "markdown",
   "metadata": {},
   "source": [
    "<h1>Now i will get into exploratory data analysis</h1>\n",
    "<p></p>\n",
    "<h3> We will find out why people leave and also indentify the high value customers</h3>\n",
    "<h4>Lets find out why poeple leave first</h4>"
   ]
  },
  {
   "cell_type": "code",
   "execution_count": 61,
   "metadata": {},
   "outputs": [
    {
     "name": "stdout",
     "output_type": "stream",
     "text": [
      "This dataframe will contain only the rows with churned customers\n"
     ]
    },
    {
     "data": {
      "text/html": [
       "<div>\n",
       "<style scoped>\n",
       "    .dataframe tbody tr th:only-of-type {\n",
       "        vertical-align: middle;\n",
       "    }\n",
       "\n",
       "    .dataframe tbody tr th {\n",
       "        vertical-align: top;\n",
       "    }\n",
       "\n",
       "    .dataframe thead th {\n",
       "        text-align: right;\n",
       "    }\n",
       "</style>\n",
       "<table border=\"1\" class=\"dataframe\">\n",
       "  <thead>\n",
       "    <tr style=\"text-align: right;\">\n",
       "      <th></th>\n",
       "      <th>Customer ID</th>\n",
       "      <th>Gender</th>\n",
       "      <th>Age</th>\n",
       "      <th>Married</th>\n",
       "      <th>Number of Dependents</th>\n",
       "      <th>City</th>\n",
       "      <th>Zip Code</th>\n",
       "      <th>Latitude</th>\n",
       "      <th>Longitude</th>\n",
       "      <th>Number of Referrals</th>\n",
       "      <th>...</th>\n",
       "      <th>Payment Method</th>\n",
       "      <th>Monthly Charge</th>\n",
       "      <th>Total Charges</th>\n",
       "      <th>Total Refunds</th>\n",
       "      <th>Total Extra Data Charges</th>\n",
       "      <th>Total Long Distance Charges</th>\n",
       "      <th>Total Revenue</th>\n",
       "      <th>Customer Status</th>\n",
       "      <th>Churn Category</th>\n",
       "      <th>Churn Reason</th>\n",
       "    </tr>\n",
       "  </thead>\n",
       "  <tbody>\n",
       "    <tr>\n",
       "      <th>2</th>\n",
       "      <td>0004-TLHLJ</td>\n",
       "      <td>Male</td>\n",
       "      <td>50</td>\n",
       "      <td>No</td>\n",
       "      <td>0</td>\n",
       "      <td>Costa Mesa</td>\n",
       "      <td>92627</td>\n",
       "      <td>33.645672</td>\n",
       "      <td>-117.922613</td>\n",
       "      <td>0</td>\n",
       "      <td>...</td>\n",
       "      <td>Bank Withdrawal</td>\n",
       "      <td>73.9</td>\n",
       "      <td>280.85</td>\n",
       "      <td>0.0</td>\n",
       "      <td>0</td>\n",
       "      <td>134.60</td>\n",
       "      <td>415.45</td>\n",
       "      <td>Churned</td>\n",
       "      <td>Competitor</td>\n",
       "      <td>Competitor had better devices</td>\n",
       "    </tr>\n",
       "    <tr>\n",
       "      <th>3</th>\n",
       "      <td>0011-IGKFF</td>\n",
       "      <td>Male</td>\n",
       "      <td>78</td>\n",
       "      <td>Yes</td>\n",
       "      <td>0</td>\n",
       "      <td>Martinez</td>\n",
       "      <td>94553</td>\n",
       "      <td>38.014457</td>\n",
       "      <td>-122.115432</td>\n",
       "      <td>1</td>\n",
       "      <td>...</td>\n",
       "      <td>Bank Withdrawal</td>\n",
       "      <td>98.0</td>\n",
       "      <td>1237.85</td>\n",
       "      <td>0.0</td>\n",
       "      <td>0</td>\n",
       "      <td>361.66</td>\n",
       "      <td>1599.51</td>\n",
       "      <td>Churned</td>\n",
       "      <td>Dissatisfaction</td>\n",
       "      <td>Product dissatisfaction</td>\n",
       "    </tr>\n",
       "  </tbody>\n",
       "</table>\n",
       "<p>2 rows × 38 columns</p>\n",
       "</div>"
      ],
      "text/plain": [
       "  Customer ID Gender  Age Married  Number of Dependents        City  Zip Code  \\\n",
       "2  0004-TLHLJ   Male   50      No                     0  Costa Mesa     92627   \n",
       "3  0011-IGKFF   Male   78     Yes                     0    Martinez     94553   \n",
       "\n",
       "    Latitude   Longitude  Number of Referrals  ...   Payment Method  \\\n",
       "2  33.645672 -117.922613                    0  ...  Bank Withdrawal   \n",
       "3  38.014457 -122.115432                    1  ...  Bank Withdrawal   \n",
       "\n",
       "  Monthly Charge Total Charges  Total Refunds Total Extra Data Charges  \\\n",
       "2           73.9        280.85            0.0                        0   \n",
       "3           98.0       1237.85            0.0                        0   \n",
       "\n",
       "  Total Long Distance Charges Total Revenue  Customer Status   Churn Category  \\\n",
       "2                      134.60        415.45          Churned       Competitor   \n",
       "3                      361.66       1599.51          Churned  Dissatisfaction   \n",
       "\n",
       "                    Churn Reason  \n",
       "2  Competitor had better devices  \n",
       "3        Product dissatisfaction  \n",
       "\n",
       "[2 rows x 38 columns]"
      ]
     },
     "execution_count": 61,
     "metadata": {},
     "output_type": "execute_result"
    }
   ],
   "source": [
    "#slice out the churn rows from the 'customer status' column\n",
    "churned_customers= customer_churn.loc[customer_churn['Customer Status']=='Churned']\n",
    "print('This dataframe will contain only the rows with churned customers')\n",
    "churned_customers.head(2)\n"
   ]
  },
  {
   "cell_type": "code",
   "execution_count": 62,
   "metadata": {},
   "outputs": [
    {
     "data": {
      "text/html": [
       "<div>\n",
       "<style scoped>\n",
       "    .dataframe tbody tr th:only-of-type {\n",
       "        vertical-align: middle;\n",
       "    }\n",
       "\n",
       "    .dataframe tbody tr th {\n",
       "        vertical-align: top;\n",
       "    }\n",
       "\n",
       "    .dataframe thead th {\n",
       "        text-align: right;\n",
       "    }\n",
       "</style>\n",
       "<table border=\"1\" class=\"dataframe\">\n",
       "  <thead>\n",
       "    <tr style=\"text-align: right;\">\n",
       "      <th></th>\n",
       "      <th>Customer ID</th>\n",
       "      <th>Gender</th>\n",
       "      <th>Age</th>\n",
       "      <th>Married</th>\n",
       "      <th>Number of Dependents</th>\n",
       "      <th>City</th>\n",
       "      <th>Zip Code</th>\n",
       "      <th>Latitude</th>\n",
       "      <th>Longitude</th>\n",
       "      <th>Number of Referrals</th>\n",
       "      <th>...</th>\n",
       "      <th>Paperless Billing</th>\n",
       "      <th>Payment Method</th>\n",
       "      <th>Monthly Charge</th>\n",
       "      <th>Total Charges</th>\n",
       "      <th>Total Refunds</th>\n",
       "      <th>Total Extra Data Charges</th>\n",
       "      <th>Total Long Distance Charges</th>\n",
       "      <th>Total Revenue</th>\n",
       "      <th>Customer Status</th>\n",
       "      <th>Churn Reason</th>\n",
       "    </tr>\n",
       "    <tr>\n",
       "      <th>Churn Category</th>\n",
       "      <th></th>\n",
       "      <th></th>\n",
       "      <th></th>\n",
       "      <th></th>\n",
       "      <th></th>\n",
       "      <th></th>\n",
       "      <th></th>\n",
       "      <th></th>\n",
       "      <th></th>\n",
       "      <th></th>\n",
       "      <th></th>\n",
       "      <th></th>\n",
       "      <th></th>\n",
       "      <th></th>\n",
       "      <th></th>\n",
       "      <th></th>\n",
       "      <th></th>\n",
       "      <th></th>\n",
       "      <th></th>\n",
       "      <th></th>\n",
       "      <th></th>\n",
       "    </tr>\n",
       "  </thead>\n",
       "  <tbody>\n",
       "    <tr>\n",
       "      <th>Competitor</th>\n",
       "      <td>0004-TLHLJ</td>\n",
       "      <td>Male</td>\n",
       "      <td>50</td>\n",
       "      <td>No</td>\n",
       "      <td>0</td>\n",
       "      <td>Costa Mesa</td>\n",
       "      <td>92627</td>\n",
       "      <td>33.645672</td>\n",
       "      <td>-117.922613</td>\n",
       "      <td>0</td>\n",
       "      <td>...</td>\n",
       "      <td>Yes</td>\n",
       "      <td>Bank Withdrawal</td>\n",
       "      <td>73.9</td>\n",
       "      <td>280.85</td>\n",
       "      <td>0.0</td>\n",
       "      <td>0</td>\n",
       "      <td>134.60</td>\n",
       "      <td>415.45</td>\n",
       "      <td>Churned</td>\n",
       "      <td>Competitor had better devices</td>\n",
       "    </tr>\n",
       "    <tr>\n",
       "      <th>Dissatisfaction</th>\n",
       "      <td>0011-IGKFF</td>\n",
       "      <td>Male</td>\n",
       "      <td>78</td>\n",
       "      <td>Yes</td>\n",
       "      <td>0</td>\n",
       "      <td>Martinez</td>\n",
       "      <td>94553</td>\n",
       "      <td>38.014457</td>\n",
       "      <td>-122.115432</td>\n",
       "      <td>1</td>\n",
       "      <td>...</td>\n",
       "      <td>Yes</td>\n",
       "      <td>Bank Withdrawal</td>\n",
       "      <td>98.0</td>\n",
       "      <td>1237.85</td>\n",
       "      <td>0.0</td>\n",
       "      <td>0</td>\n",
       "      <td>361.66</td>\n",
       "      <td>1599.51</td>\n",
       "      <td>Churned</td>\n",
       "      <td>Product dissatisfaction</td>\n",
       "    </tr>\n",
       "  </tbody>\n",
       "</table>\n",
       "<p>2 rows × 37 columns</p>\n",
       "</div>"
      ],
      "text/plain": [
       "                Customer ID Gender  Age Married  Number of Dependents  \\\n",
       "Churn Category                                                          \n",
       "Competitor       0004-TLHLJ   Male   50      No                     0   \n",
       "Dissatisfaction  0011-IGKFF   Male   78     Yes                     0   \n",
       "\n",
       "                       City  Zip Code   Latitude   Longitude  \\\n",
       "Churn Category                                                 \n",
       "Competitor       Costa Mesa     92627  33.645672 -117.922613   \n",
       "Dissatisfaction    Martinez     94553  38.014457 -122.115432   \n",
       "\n",
       "                 Number of Referrals  ...  Paperless Billing   Payment Method  \\\n",
       "Churn Category                        ...                                       \n",
       "Competitor                         0  ...                Yes  Bank Withdrawal   \n",
       "Dissatisfaction                    1  ...                Yes  Bank Withdrawal   \n",
       "\n",
       "                Monthly Charge  Total Charges Total Refunds  \\\n",
       "Churn Category                                                \n",
       "Competitor                73.9         280.85           0.0   \n",
       "Dissatisfaction           98.0        1237.85           0.0   \n",
       "\n",
       "                Total Extra Data Charges Total Long Distance Charges  \\\n",
       "Churn Category                                                         \n",
       "Competitor                             0                      134.60   \n",
       "Dissatisfaction                        0                      361.66   \n",
       "\n",
       "                 Total Revenue Customer Status                   Churn Reason  \n",
       "Churn Category                                                                 \n",
       "Competitor              415.45         Churned  Competitor had better devices  \n",
       "Dissatisfaction        1599.51         Churned        Product dissatisfaction  \n",
       "\n",
       "[2 rows x 37 columns]"
      ]
     },
     "execution_count": 62,
     "metadata": {},
     "output_type": "execute_result"
    }
   ],
   "source": [
    "#I will set the churn category as the index for easy analysis and visualization\n",
    "easy=churned_customers.set_index(\"Churn Category\")\n",
    "easy.head(2)"
   ]
  },
  {
   "cell_type": "code",
   "execution_count": 63,
   "metadata": {},
   "outputs": [
    {
     "data": {
      "text/plain": [
       "Other              182\n",
       "Price              211\n",
       "Attitude           314\n",
       "Dissatisfaction    321\n",
       "Competitor         841\n",
       "Name: Churn Category, dtype: int64"
      ]
     },
     "execution_count": 63,
     "metadata": {},
     "output_type": "execute_result"
    }
   ],
   "source": [
    "easy1=churned_customers['Churn Category'].value_counts().sort_values()\n",
    "easy1"
   ]
  },
  {
   "cell_type": "code",
   "execution_count": 90,
   "metadata": {},
   "outputs": [
    {
     "data": {
      "application/vnd.plotly.v1+json": {
       "config": {
        "plotlyServerURL": "https://plot.ly"
       },
       "data": [
        {
         "alignmentgroup": "True",
         "hovertemplate": "variable=Churn Category<br>Churn category=%{x}<br>Count of customers=%{y}<extra></extra>",
         "legendgroup": "Churn Category",
         "marker": {
          "color": "rgb(103,0,31)",
          "pattern": {
           "shape": ""
          }
         },
         "name": "Churn Category",
         "offsetgroup": "Churn Category",
         "orientation": "v",
         "showlegend": true,
         "textposition": "auto",
         "type": "bar",
         "x": [
          "Other",
          "Price",
          "Attitude",
          "Dissatisfaction",
          "Competitor"
         ],
         "xaxis": "x",
         "y": [
          182,
          211,
          314,
          321,
          841
         ],
         "yaxis": "y"
        }
       ],
       "layout": {
        "barmode": "relative",
        "legend": {
         "title": {
          "text": "variable"
         },
         "tracegroupgap": 0
        },
        "template": {
         "data": {
          "bar": [
           {
            "error_x": {
             "color": "#f2f5fa"
            },
            "error_y": {
             "color": "#f2f5fa"
            },
            "marker": {
             "line": {
              "color": "rgb(17,17,17)",
              "width": 0.5
             },
             "pattern": {
              "fillmode": "overlay",
              "size": 10,
              "solidity": 0.2
             }
            },
            "type": "bar"
           }
          ],
          "barpolar": [
           {
            "marker": {
             "line": {
              "color": "rgb(17,17,17)",
              "width": 0.5
             },
             "pattern": {
              "fillmode": "overlay",
              "size": 10,
              "solidity": 0.2
             }
            },
            "type": "barpolar"
           }
          ],
          "carpet": [
           {
            "aaxis": {
             "endlinecolor": "#A2B1C6",
             "gridcolor": "#506784",
             "linecolor": "#506784",
             "minorgridcolor": "#506784",
             "startlinecolor": "#A2B1C6"
            },
            "baxis": {
             "endlinecolor": "#A2B1C6",
             "gridcolor": "#506784",
             "linecolor": "#506784",
             "minorgridcolor": "#506784",
             "startlinecolor": "#A2B1C6"
            },
            "type": "carpet"
           }
          ],
          "choropleth": [
           {
            "colorbar": {
             "outlinewidth": 0,
             "ticks": ""
            },
            "type": "choropleth"
           }
          ],
          "contour": [
           {
            "colorbar": {
             "outlinewidth": 0,
             "ticks": ""
            },
            "colorscale": [
             [
              0,
              "#0d0887"
             ],
             [
              0.1111111111111111,
              "#46039f"
             ],
             [
              0.2222222222222222,
              "#7201a8"
             ],
             [
              0.3333333333333333,
              "#9c179e"
             ],
             [
              0.4444444444444444,
              "#bd3786"
             ],
             [
              0.5555555555555556,
              "#d8576b"
             ],
             [
              0.6666666666666666,
              "#ed7953"
             ],
             [
              0.7777777777777778,
              "#fb9f3a"
             ],
             [
              0.8888888888888888,
              "#fdca26"
             ],
             [
              1,
              "#f0f921"
             ]
            ],
            "type": "contour"
           }
          ],
          "contourcarpet": [
           {
            "colorbar": {
             "outlinewidth": 0,
             "ticks": ""
            },
            "type": "contourcarpet"
           }
          ],
          "heatmap": [
           {
            "colorbar": {
             "outlinewidth": 0,
             "ticks": ""
            },
            "colorscale": [
             [
              0,
              "#0d0887"
             ],
             [
              0.1111111111111111,
              "#46039f"
             ],
             [
              0.2222222222222222,
              "#7201a8"
             ],
             [
              0.3333333333333333,
              "#9c179e"
             ],
             [
              0.4444444444444444,
              "#bd3786"
             ],
             [
              0.5555555555555556,
              "#d8576b"
             ],
             [
              0.6666666666666666,
              "#ed7953"
             ],
             [
              0.7777777777777778,
              "#fb9f3a"
             ],
             [
              0.8888888888888888,
              "#fdca26"
             ],
             [
              1,
              "#f0f921"
             ]
            ],
            "type": "heatmap"
           }
          ],
          "heatmapgl": [
           {
            "colorbar": {
             "outlinewidth": 0,
             "ticks": ""
            },
            "colorscale": [
             [
              0,
              "#0d0887"
             ],
             [
              0.1111111111111111,
              "#46039f"
             ],
             [
              0.2222222222222222,
              "#7201a8"
             ],
             [
              0.3333333333333333,
              "#9c179e"
             ],
             [
              0.4444444444444444,
              "#bd3786"
             ],
             [
              0.5555555555555556,
              "#d8576b"
             ],
             [
              0.6666666666666666,
              "#ed7953"
             ],
             [
              0.7777777777777778,
              "#fb9f3a"
             ],
             [
              0.8888888888888888,
              "#fdca26"
             ],
             [
              1,
              "#f0f921"
             ]
            ],
            "type": "heatmapgl"
           }
          ],
          "histogram": [
           {
            "marker": {
             "pattern": {
              "fillmode": "overlay",
              "size": 10,
              "solidity": 0.2
             }
            },
            "type": "histogram"
           }
          ],
          "histogram2d": [
           {
            "colorbar": {
             "outlinewidth": 0,
             "ticks": ""
            },
            "colorscale": [
             [
              0,
              "#0d0887"
             ],
             [
              0.1111111111111111,
              "#46039f"
             ],
             [
              0.2222222222222222,
              "#7201a8"
             ],
             [
              0.3333333333333333,
              "#9c179e"
             ],
             [
              0.4444444444444444,
              "#bd3786"
             ],
             [
              0.5555555555555556,
              "#d8576b"
             ],
             [
              0.6666666666666666,
              "#ed7953"
             ],
             [
              0.7777777777777778,
              "#fb9f3a"
             ],
             [
              0.8888888888888888,
              "#fdca26"
             ],
             [
              1,
              "#f0f921"
             ]
            ],
            "type": "histogram2d"
           }
          ],
          "histogram2dcontour": [
           {
            "colorbar": {
             "outlinewidth": 0,
             "ticks": ""
            },
            "colorscale": [
             [
              0,
              "#0d0887"
             ],
             [
              0.1111111111111111,
              "#46039f"
             ],
             [
              0.2222222222222222,
              "#7201a8"
             ],
             [
              0.3333333333333333,
              "#9c179e"
             ],
             [
              0.4444444444444444,
              "#bd3786"
             ],
             [
              0.5555555555555556,
              "#d8576b"
             ],
             [
              0.6666666666666666,
              "#ed7953"
             ],
             [
              0.7777777777777778,
              "#fb9f3a"
             ],
             [
              0.8888888888888888,
              "#fdca26"
             ],
             [
              1,
              "#f0f921"
             ]
            ],
            "type": "histogram2dcontour"
           }
          ],
          "mesh3d": [
           {
            "colorbar": {
             "outlinewidth": 0,
             "ticks": ""
            },
            "type": "mesh3d"
           }
          ],
          "parcoords": [
           {
            "line": {
             "colorbar": {
              "outlinewidth": 0,
              "ticks": ""
             }
            },
            "type": "parcoords"
           }
          ],
          "pie": [
           {
            "automargin": true,
            "type": "pie"
           }
          ],
          "scatter": [
           {
            "marker": {
             "line": {
              "color": "#283442"
             }
            },
            "type": "scatter"
           }
          ],
          "scatter3d": [
           {
            "line": {
             "colorbar": {
              "outlinewidth": 0,
              "ticks": ""
             }
            },
            "marker": {
             "colorbar": {
              "outlinewidth": 0,
              "ticks": ""
             }
            },
            "type": "scatter3d"
           }
          ],
          "scattercarpet": [
           {
            "marker": {
             "colorbar": {
              "outlinewidth": 0,
              "ticks": ""
             }
            },
            "type": "scattercarpet"
           }
          ],
          "scattergeo": [
           {
            "marker": {
             "colorbar": {
              "outlinewidth": 0,
              "ticks": ""
             }
            },
            "type": "scattergeo"
           }
          ],
          "scattergl": [
           {
            "marker": {
             "line": {
              "color": "#283442"
             }
            },
            "type": "scattergl"
           }
          ],
          "scattermapbox": [
           {
            "marker": {
             "colorbar": {
              "outlinewidth": 0,
              "ticks": ""
             }
            },
            "type": "scattermapbox"
           }
          ],
          "scatterpolar": [
           {
            "marker": {
             "colorbar": {
              "outlinewidth": 0,
              "ticks": ""
             }
            },
            "type": "scatterpolar"
           }
          ],
          "scatterpolargl": [
           {
            "marker": {
             "colorbar": {
              "outlinewidth": 0,
              "ticks": ""
             }
            },
            "type": "scatterpolargl"
           }
          ],
          "scatterternary": [
           {
            "marker": {
             "colorbar": {
              "outlinewidth": 0,
              "ticks": ""
             }
            },
            "type": "scatterternary"
           }
          ],
          "surface": [
           {
            "colorbar": {
             "outlinewidth": 0,
             "ticks": ""
            },
            "colorscale": [
             [
              0,
              "#0d0887"
             ],
             [
              0.1111111111111111,
              "#46039f"
             ],
             [
              0.2222222222222222,
              "#7201a8"
             ],
             [
              0.3333333333333333,
              "#9c179e"
             ],
             [
              0.4444444444444444,
              "#bd3786"
             ],
             [
              0.5555555555555556,
              "#d8576b"
             ],
             [
              0.6666666666666666,
              "#ed7953"
             ],
             [
              0.7777777777777778,
              "#fb9f3a"
             ],
             [
              0.8888888888888888,
              "#fdca26"
             ],
             [
              1,
              "#f0f921"
             ]
            ],
            "type": "surface"
           }
          ],
          "table": [
           {
            "cells": {
             "fill": {
              "color": "#506784"
             },
             "line": {
              "color": "rgb(17,17,17)"
             }
            },
            "header": {
             "fill": {
              "color": "#2a3f5f"
             },
             "line": {
              "color": "rgb(17,17,17)"
             }
            },
            "type": "table"
           }
          ]
         },
         "layout": {
          "annotationdefaults": {
           "arrowcolor": "#f2f5fa",
           "arrowhead": 0,
           "arrowwidth": 1
          },
          "autotypenumbers": "strict",
          "coloraxis": {
           "colorbar": {
            "outlinewidth": 0,
            "ticks": ""
           }
          },
          "colorscale": {
           "diverging": [
            [
             0,
             "#8e0152"
            ],
            [
             0.1,
             "#c51b7d"
            ],
            [
             0.2,
             "#de77ae"
            ],
            [
             0.3,
             "#f1b6da"
            ],
            [
             0.4,
             "#fde0ef"
            ],
            [
             0.5,
             "#f7f7f7"
            ],
            [
             0.6,
             "#e6f5d0"
            ],
            [
             0.7,
             "#b8e186"
            ],
            [
             0.8,
             "#7fbc41"
            ],
            [
             0.9,
             "#4d9221"
            ],
            [
             1,
             "#276419"
            ]
           ],
           "sequential": [
            [
             0,
             "#0d0887"
            ],
            [
             0.1111111111111111,
             "#46039f"
            ],
            [
             0.2222222222222222,
             "#7201a8"
            ],
            [
             0.3333333333333333,
             "#9c179e"
            ],
            [
             0.4444444444444444,
             "#bd3786"
            ],
            [
             0.5555555555555556,
             "#d8576b"
            ],
            [
             0.6666666666666666,
             "#ed7953"
            ],
            [
             0.7777777777777778,
             "#fb9f3a"
            ],
            [
             0.8888888888888888,
             "#fdca26"
            ],
            [
             1,
             "#f0f921"
            ]
           ],
           "sequentialminus": [
            [
             0,
             "#0d0887"
            ],
            [
             0.1111111111111111,
             "#46039f"
            ],
            [
             0.2222222222222222,
             "#7201a8"
            ],
            [
             0.3333333333333333,
             "#9c179e"
            ],
            [
             0.4444444444444444,
             "#bd3786"
            ],
            [
             0.5555555555555556,
             "#d8576b"
            ],
            [
             0.6666666666666666,
             "#ed7953"
            ],
            [
             0.7777777777777778,
             "#fb9f3a"
            ],
            [
             0.8888888888888888,
             "#fdca26"
            ],
            [
             1,
             "#f0f921"
            ]
           ]
          },
          "colorway": [
           "#636efa",
           "#EF553B",
           "#00cc96",
           "#ab63fa",
           "#FFA15A",
           "#19d3f3",
           "#FF6692",
           "#B6E880",
           "#FF97FF",
           "#FECB52"
          ],
          "font": {
           "color": "#f2f5fa"
          },
          "geo": {
           "bgcolor": "rgb(17,17,17)",
           "lakecolor": "rgb(17,17,17)",
           "landcolor": "rgb(17,17,17)",
           "showlakes": true,
           "showland": true,
           "subunitcolor": "#506784"
          },
          "hoverlabel": {
           "align": "left"
          },
          "hovermode": "closest",
          "mapbox": {
           "style": "dark"
          },
          "paper_bgcolor": "rgb(17,17,17)",
          "plot_bgcolor": "rgb(17,17,17)",
          "polar": {
           "angularaxis": {
            "gridcolor": "#506784",
            "linecolor": "#506784",
            "ticks": ""
           },
           "bgcolor": "rgb(17,17,17)",
           "radialaxis": {
            "gridcolor": "#506784",
            "linecolor": "#506784",
            "ticks": ""
           }
          },
          "scene": {
           "xaxis": {
            "backgroundcolor": "rgb(17,17,17)",
            "gridcolor": "#506784",
            "gridwidth": 2,
            "linecolor": "#506784",
            "showbackground": true,
            "ticks": "",
            "zerolinecolor": "#C8D4E3"
           },
           "yaxis": {
            "backgroundcolor": "rgb(17,17,17)",
            "gridcolor": "#506784",
            "gridwidth": 2,
            "linecolor": "#506784",
            "showbackground": true,
            "ticks": "",
            "zerolinecolor": "#C8D4E3"
           },
           "zaxis": {
            "backgroundcolor": "rgb(17,17,17)",
            "gridcolor": "#506784",
            "gridwidth": 2,
            "linecolor": "#506784",
            "showbackground": true,
            "ticks": "",
            "zerolinecolor": "#C8D4E3"
           }
          },
          "shapedefaults": {
           "line": {
            "color": "#f2f5fa"
           }
          },
          "sliderdefaults": {
           "bgcolor": "#C8D4E3",
           "bordercolor": "rgb(17,17,17)",
           "borderwidth": 1,
           "tickwidth": 0
          },
          "ternary": {
           "aaxis": {
            "gridcolor": "#506784",
            "linecolor": "#506784",
            "ticks": ""
           },
           "baxis": {
            "gridcolor": "#506784",
            "linecolor": "#506784",
            "ticks": ""
           },
           "bgcolor": "rgb(17,17,17)",
           "caxis": {
            "gridcolor": "#506784",
            "linecolor": "#506784",
            "ticks": ""
           }
          },
          "title": {
           "x": 0.05
          },
          "updatemenudefaults": {
           "bgcolor": "#506784",
           "borderwidth": 0
          },
          "xaxis": {
           "automargin": true,
           "gridcolor": "#283442",
           "linecolor": "#506784",
           "ticks": "",
           "title": {
            "standoff": 15
           },
           "zerolinecolor": "#283442",
           "zerolinewidth": 2
          },
          "yaxis": {
           "automargin": true,
           "gridcolor": "#283442",
           "linecolor": "#506784",
           "ticks": "",
           "title": {
            "standoff": 15
           },
           "zerolinecolor": "#283442",
           "zerolinewidth": 2
          }
         }
        },
        "title": {
         "text": "Categories of churned customers "
        },
        "xaxis": {
         "anchor": "y",
         "domain": [
          0,
          1
         ],
         "title": {
          "text": "Churn category"
         }
        },
        "yaxis": {
         "anchor": "x",
         "domain": [
          0,
          1
         ],
         "title": {
          "text": "Count of customers"
         }
        }
       }
      }
     },
     "metadata": {},
     "output_type": "display_data"
    }
   ],
   "source": [
    "px.data.gapminder()\n",
    "for templates in ['plotly_dark']:\n",
    " category_fig=px.bar(easy1,color_discrete_sequence=px.colors.sequential.RdBu,\n",
    "title= 'Categories of churned customers ', template=templates,\n",
    "labels={'index':'Churn category', 'value':'Count of customers',}\n",
    "\n",
    ")\n",
    "category_fig.show()\n"
   ]
  },
  {
   "cell_type": "markdown",
   "metadata": {},
   "source": [
    "It is clear that customers leave because of competitors. Now lets find out there reasons for going to the competitors. "
   ]
  },
  {
   "cell_type": "code",
   "execution_count": 65,
   "metadata": {},
   "outputs": [
    {
     "data": {
      "text/plain": [
       "Network reliability                           72\n",
       "Product dissatisfaction                       77\n",
       "Price too high                                78\n",
       "Attitude of service provider                  94\n",
       "Competitor offered higher download speeds    100\n",
       "Competitor offered more data                 117\n",
       "Don't know                                   130\n",
       "Attitude of support person                   220\n",
       "Competitor made better offer                 311\n",
       "Competitor had better devices                313\n",
       "Name: Churn Reason, dtype: int64"
      ]
     },
     "execution_count": 65,
     "metadata": {},
     "output_type": "execute_result"
    }
   ],
   "source": [
    "comp=churned_customers['Churn Reason'].value_counts().sort_values(ascending=True)\n",
    "comp1=comp.tail(10)\n",
    "comp1"
   ]
  },
  {
   "cell_type": "code",
   "execution_count": 66,
   "metadata": {},
   "outputs": [
    {
     "data": {
      "application/vnd.plotly.v1+json": {
       "config": {
        "plotlyServerURL": "https://plot.ly"
       },
       "data": [
        {
         "alignmentgroup": "True",
         "hovertemplate": "variable=Churn Reason<br>Count of customers=%{x}<br>Churn reason=%{y}<extra></extra>",
         "legendgroup": "Churn Reason",
         "marker": {
          "color": "rgb(103,0,31)",
          "pattern": {
           "shape": ""
          }
         },
         "name": "Churn Reason",
         "offsetgroup": "Churn Reason",
         "orientation": "h",
         "showlegend": true,
         "textposition": "auto",
         "type": "bar",
         "x": [
          72,
          77,
          78,
          94,
          100,
          117,
          130,
          220,
          311,
          313
         ],
         "xaxis": "x",
         "y": [
          "Network reliability",
          "Product dissatisfaction",
          "Price too high",
          "Attitude of service provider",
          "Competitor offered higher download speeds",
          "Competitor offered more data",
          "Don't know",
          "Attitude of support person",
          "Competitor made better offer",
          "Competitor had better devices"
         ],
         "yaxis": "y"
        }
       ],
       "layout": {
        "barmode": "relative",
        "legend": {
         "title": {
          "text": "variable"
         },
         "tracegroupgap": 0
        },
        "template": {
         "data": {
          "bar": [
           {
            "error_x": {
             "color": "#f2f5fa"
            },
            "error_y": {
             "color": "#f2f5fa"
            },
            "marker": {
             "line": {
              "color": "rgb(17,17,17)",
              "width": 0.5
             },
             "pattern": {
              "fillmode": "overlay",
              "size": 10,
              "solidity": 0.2
             }
            },
            "type": "bar"
           }
          ],
          "barpolar": [
           {
            "marker": {
             "line": {
              "color": "rgb(17,17,17)",
              "width": 0.5
             },
             "pattern": {
              "fillmode": "overlay",
              "size": 10,
              "solidity": 0.2
             }
            },
            "type": "barpolar"
           }
          ],
          "carpet": [
           {
            "aaxis": {
             "endlinecolor": "#A2B1C6",
             "gridcolor": "#506784",
             "linecolor": "#506784",
             "minorgridcolor": "#506784",
             "startlinecolor": "#A2B1C6"
            },
            "baxis": {
             "endlinecolor": "#A2B1C6",
             "gridcolor": "#506784",
             "linecolor": "#506784",
             "minorgridcolor": "#506784",
             "startlinecolor": "#A2B1C6"
            },
            "type": "carpet"
           }
          ],
          "choropleth": [
           {
            "colorbar": {
             "outlinewidth": 0,
             "ticks": ""
            },
            "type": "choropleth"
           }
          ],
          "contour": [
           {
            "colorbar": {
             "outlinewidth": 0,
             "ticks": ""
            },
            "colorscale": [
             [
              0,
              "#0d0887"
             ],
             [
              0.1111111111111111,
              "#46039f"
             ],
             [
              0.2222222222222222,
              "#7201a8"
             ],
             [
              0.3333333333333333,
              "#9c179e"
             ],
             [
              0.4444444444444444,
              "#bd3786"
             ],
             [
              0.5555555555555556,
              "#d8576b"
             ],
             [
              0.6666666666666666,
              "#ed7953"
             ],
             [
              0.7777777777777778,
              "#fb9f3a"
             ],
             [
              0.8888888888888888,
              "#fdca26"
             ],
             [
              1,
              "#f0f921"
             ]
            ],
            "type": "contour"
           }
          ],
          "contourcarpet": [
           {
            "colorbar": {
             "outlinewidth": 0,
             "ticks": ""
            },
            "type": "contourcarpet"
           }
          ],
          "heatmap": [
           {
            "colorbar": {
             "outlinewidth": 0,
             "ticks": ""
            },
            "colorscale": [
             [
              0,
              "#0d0887"
             ],
             [
              0.1111111111111111,
              "#46039f"
             ],
             [
              0.2222222222222222,
              "#7201a8"
             ],
             [
              0.3333333333333333,
              "#9c179e"
             ],
             [
              0.4444444444444444,
              "#bd3786"
             ],
             [
              0.5555555555555556,
              "#d8576b"
             ],
             [
              0.6666666666666666,
              "#ed7953"
             ],
             [
              0.7777777777777778,
              "#fb9f3a"
             ],
             [
              0.8888888888888888,
              "#fdca26"
             ],
             [
              1,
              "#f0f921"
             ]
            ],
            "type": "heatmap"
           }
          ],
          "heatmapgl": [
           {
            "colorbar": {
             "outlinewidth": 0,
             "ticks": ""
            },
            "colorscale": [
             [
              0,
              "#0d0887"
             ],
             [
              0.1111111111111111,
              "#46039f"
             ],
             [
              0.2222222222222222,
              "#7201a8"
             ],
             [
              0.3333333333333333,
              "#9c179e"
             ],
             [
              0.4444444444444444,
              "#bd3786"
             ],
             [
              0.5555555555555556,
              "#d8576b"
             ],
             [
              0.6666666666666666,
              "#ed7953"
             ],
             [
              0.7777777777777778,
              "#fb9f3a"
             ],
             [
              0.8888888888888888,
              "#fdca26"
             ],
             [
              1,
              "#f0f921"
             ]
            ],
            "type": "heatmapgl"
           }
          ],
          "histogram": [
           {
            "marker": {
             "pattern": {
              "fillmode": "overlay",
              "size": 10,
              "solidity": 0.2
             }
            },
            "type": "histogram"
           }
          ],
          "histogram2d": [
           {
            "colorbar": {
             "outlinewidth": 0,
             "ticks": ""
            },
            "colorscale": [
             [
              0,
              "#0d0887"
             ],
             [
              0.1111111111111111,
              "#46039f"
             ],
             [
              0.2222222222222222,
              "#7201a8"
             ],
             [
              0.3333333333333333,
              "#9c179e"
             ],
             [
              0.4444444444444444,
              "#bd3786"
             ],
             [
              0.5555555555555556,
              "#d8576b"
             ],
             [
              0.6666666666666666,
              "#ed7953"
             ],
             [
              0.7777777777777778,
              "#fb9f3a"
             ],
             [
              0.8888888888888888,
              "#fdca26"
             ],
             [
              1,
              "#f0f921"
             ]
            ],
            "type": "histogram2d"
           }
          ],
          "histogram2dcontour": [
           {
            "colorbar": {
             "outlinewidth": 0,
             "ticks": ""
            },
            "colorscale": [
             [
              0,
              "#0d0887"
             ],
             [
              0.1111111111111111,
              "#46039f"
             ],
             [
              0.2222222222222222,
              "#7201a8"
             ],
             [
              0.3333333333333333,
              "#9c179e"
             ],
             [
              0.4444444444444444,
              "#bd3786"
             ],
             [
              0.5555555555555556,
              "#d8576b"
             ],
             [
              0.6666666666666666,
              "#ed7953"
             ],
             [
              0.7777777777777778,
              "#fb9f3a"
             ],
             [
              0.8888888888888888,
              "#fdca26"
             ],
             [
              1,
              "#f0f921"
             ]
            ],
            "type": "histogram2dcontour"
           }
          ],
          "mesh3d": [
           {
            "colorbar": {
             "outlinewidth": 0,
             "ticks": ""
            },
            "type": "mesh3d"
           }
          ],
          "parcoords": [
           {
            "line": {
             "colorbar": {
              "outlinewidth": 0,
              "ticks": ""
             }
            },
            "type": "parcoords"
           }
          ],
          "pie": [
           {
            "automargin": true,
            "type": "pie"
           }
          ],
          "scatter": [
           {
            "marker": {
             "line": {
              "color": "#283442"
             }
            },
            "type": "scatter"
           }
          ],
          "scatter3d": [
           {
            "line": {
             "colorbar": {
              "outlinewidth": 0,
              "ticks": ""
             }
            },
            "marker": {
             "colorbar": {
              "outlinewidth": 0,
              "ticks": ""
             }
            },
            "type": "scatter3d"
           }
          ],
          "scattercarpet": [
           {
            "marker": {
             "colorbar": {
              "outlinewidth": 0,
              "ticks": ""
             }
            },
            "type": "scattercarpet"
           }
          ],
          "scattergeo": [
           {
            "marker": {
             "colorbar": {
              "outlinewidth": 0,
              "ticks": ""
             }
            },
            "type": "scattergeo"
           }
          ],
          "scattergl": [
           {
            "marker": {
             "line": {
              "color": "#283442"
             }
            },
            "type": "scattergl"
           }
          ],
          "scattermapbox": [
           {
            "marker": {
             "colorbar": {
              "outlinewidth": 0,
              "ticks": ""
             }
            },
            "type": "scattermapbox"
           }
          ],
          "scatterpolar": [
           {
            "marker": {
             "colorbar": {
              "outlinewidth": 0,
              "ticks": ""
             }
            },
            "type": "scatterpolar"
           }
          ],
          "scatterpolargl": [
           {
            "marker": {
             "colorbar": {
              "outlinewidth": 0,
              "ticks": ""
             }
            },
            "type": "scatterpolargl"
           }
          ],
          "scatterternary": [
           {
            "marker": {
             "colorbar": {
              "outlinewidth": 0,
              "ticks": ""
             }
            },
            "type": "scatterternary"
           }
          ],
          "surface": [
           {
            "colorbar": {
             "outlinewidth": 0,
             "ticks": ""
            },
            "colorscale": [
             [
              0,
              "#0d0887"
             ],
             [
              0.1111111111111111,
              "#46039f"
             ],
             [
              0.2222222222222222,
              "#7201a8"
             ],
             [
              0.3333333333333333,
              "#9c179e"
             ],
             [
              0.4444444444444444,
              "#bd3786"
             ],
             [
              0.5555555555555556,
              "#d8576b"
             ],
             [
              0.6666666666666666,
              "#ed7953"
             ],
             [
              0.7777777777777778,
              "#fb9f3a"
             ],
             [
              0.8888888888888888,
              "#fdca26"
             ],
             [
              1,
              "#f0f921"
             ]
            ],
            "type": "surface"
           }
          ],
          "table": [
           {
            "cells": {
             "fill": {
              "color": "#506784"
             },
             "line": {
              "color": "rgb(17,17,17)"
             }
            },
            "header": {
             "fill": {
              "color": "#2a3f5f"
             },
             "line": {
              "color": "rgb(17,17,17)"
             }
            },
            "type": "table"
           }
          ]
         },
         "layout": {
          "annotationdefaults": {
           "arrowcolor": "#f2f5fa",
           "arrowhead": 0,
           "arrowwidth": 1
          },
          "autotypenumbers": "strict",
          "coloraxis": {
           "colorbar": {
            "outlinewidth": 0,
            "ticks": ""
           }
          },
          "colorscale": {
           "diverging": [
            [
             0,
             "#8e0152"
            ],
            [
             0.1,
             "#c51b7d"
            ],
            [
             0.2,
             "#de77ae"
            ],
            [
             0.3,
             "#f1b6da"
            ],
            [
             0.4,
             "#fde0ef"
            ],
            [
             0.5,
             "#f7f7f7"
            ],
            [
             0.6,
             "#e6f5d0"
            ],
            [
             0.7,
             "#b8e186"
            ],
            [
             0.8,
             "#7fbc41"
            ],
            [
             0.9,
             "#4d9221"
            ],
            [
             1,
             "#276419"
            ]
           ],
           "sequential": [
            [
             0,
             "#0d0887"
            ],
            [
             0.1111111111111111,
             "#46039f"
            ],
            [
             0.2222222222222222,
             "#7201a8"
            ],
            [
             0.3333333333333333,
             "#9c179e"
            ],
            [
             0.4444444444444444,
             "#bd3786"
            ],
            [
             0.5555555555555556,
             "#d8576b"
            ],
            [
             0.6666666666666666,
             "#ed7953"
            ],
            [
             0.7777777777777778,
             "#fb9f3a"
            ],
            [
             0.8888888888888888,
             "#fdca26"
            ],
            [
             1,
             "#f0f921"
            ]
           ],
           "sequentialminus": [
            [
             0,
             "#0d0887"
            ],
            [
             0.1111111111111111,
             "#46039f"
            ],
            [
             0.2222222222222222,
             "#7201a8"
            ],
            [
             0.3333333333333333,
             "#9c179e"
            ],
            [
             0.4444444444444444,
             "#bd3786"
            ],
            [
             0.5555555555555556,
             "#d8576b"
            ],
            [
             0.6666666666666666,
             "#ed7953"
            ],
            [
             0.7777777777777778,
             "#fb9f3a"
            ],
            [
             0.8888888888888888,
             "#fdca26"
            ],
            [
             1,
             "#f0f921"
            ]
           ]
          },
          "colorway": [
           "#636efa",
           "#EF553B",
           "#00cc96",
           "#ab63fa",
           "#FFA15A",
           "#19d3f3",
           "#FF6692",
           "#B6E880",
           "#FF97FF",
           "#FECB52"
          ],
          "font": {
           "color": "#f2f5fa"
          },
          "geo": {
           "bgcolor": "rgb(17,17,17)",
           "lakecolor": "rgb(17,17,17)",
           "landcolor": "rgb(17,17,17)",
           "showlakes": true,
           "showland": true,
           "subunitcolor": "#506784"
          },
          "hoverlabel": {
           "align": "left"
          },
          "hovermode": "closest",
          "mapbox": {
           "style": "dark"
          },
          "paper_bgcolor": "rgb(17,17,17)",
          "plot_bgcolor": "rgb(17,17,17)",
          "polar": {
           "angularaxis": {
            "gridcolor": "#506784",
            "linecolor": "#506784",
            "ticks": ""
           },
           "bgcolor": "rgb(17,17,17)",
           "radialaxis": {
            "gridcolor": "#506784",
            "linecolor": "#506784",
            "ticks": ""
           }
          },
          "scene": {
           "xaxis": {
            "backgroundcolor": "rgb(17,17,17)",
            "gridcolor": "#506784",
            "gridwidth": 2,
            "linecolor": "#506784",
            "showbackground": true,
            "ticks": "",
            "zerolinecolor": "#C8D4E3"
           },
           "yaxis": {
            "backgroundcolor": "rgb(17,17,17)",
            "gridcolor": "#506784",
            "gridwidth": 2,
            "linecolor": "#506784",
            "showbackground": true,
            "ticks": "",
            "zerolinecolor": "#C8D4E3"
           },
           "zaxis": {
            "backgroundcolor": "rgb(17,17,17)",
            "gridcolor": "#506784",
            "gridwidth": 2,
            "linecolor": "#506784",
            "showbackground": true,
            "ticks": "",
            "zerolinecolor": "#C8D4E3"
           }
          },
          "shapedefaults": {
           "line": {
            "color": "#f2f5fa"
           }
          },
          "sliderdefaults": {
           "bgcolor": "#C8D4E3",
           "bordercolor": "rgb(17,17,17)",
           "borderwidth": 1,
           "tickwidth": 0
          },
          "ternary": {
           "aaxis": {
            "gridcolor": "#506784",
            "linecolor": "#506784",
            "ticks": ""
           },
           "baxis": {
            "gridcolor": "#506784",
            "linecolor": "#506784",
            "ticks": ""
           },
           "bgcolor": "rgb(17,17,17)",
           "caxis": {
            "gridcolor": "#506784",
            "linecolor": "#506784",
            "ticks": ""
           }
          },
          "title": {
           "x": 0.05
          },
          "updatemenudefaults": {
           "bgcolor": "#506784",
           "borderwidth": 0
          },
          "xaxis": {
           "automargin": true,
           "gridcolor": "#283442",
           "linecolor": "#506784",
           "ticks": "",
           "title": {
            "standoff": 15
           },
           "zerolinecolor": "#283442",
           "zerolinewidth": 2
          },
          "yaxis": {
           "automargin": true,
           "gridcolor": "#283442",
           "linecolor": "#506784",
           "ticks": "",
           "title": {
            "standoff": 15
           },
           "zerolinecolor": "#283442",
           "zerolinewidth": 2
          }
         }
        },
        "title": {
         "text": "Number of customer that churn and their reasons "
        },
        "xaxis": {
         "anchor": "y",
         "domain": [
          0,
          1
         ],
         "title": {
          "text": "Count of customers"
         }
        },
        "yaxis": {
         "anchor": "x",
         "domain": [
          0,
          1
         ],
         "title": {
          "text": "Churn reason"
         }
        }
       }
      }
     },
     "metadata": {},
     "output_type": "display_data"
    }
   ],
   "source": [
    "#To visualize the above numbers\n",
    "px.data.gapminder()\n",
    "for templates in ['plotly_dark']:\n",
    " reason_for_leaving_fig=px.bar(comp1,color_discrete_sequence=px.colors.sequential.RdBu,\n",
    "title= 'Number of customer that churn and their reasons ',template=templates,\n",
    "labels={'index':'Churn reason', 'value':'Count of customers'},\n",
    "orientation='h' )\n",
    "reason_for_leaving_fig.show()\n",
    "\n"
   ]
  },
  {
   "cell_type": "markdown",
   "metadata": {},
   "source": [
    "Seems most people left because <b>competitors had better device and made better offer</b>"
   ]
  },
  {
   "cell_type": "markdown",
   "metadata": {},
   "source": [
    "<h4> The second largest number of customers left when they got better offer, so lets find out the offers that is given to these customers"
   ]
  },
  {
   "cell_type": "code",
   "execution_count": 67,
   "metadata": {},
   "outputs": [
    {
     "data": {
      "text/plain": [
       "Offer A      35\n",
       "Offer C      95\n",
       "Offer B     101\n",
       "Offer D     161\n",
       "Offer E     426\n",
       "None       1051\n",
       "Name: Offer, dtype: int64"
      ]
     },
     "execution_count": 67,
     "metadata": {},
     "output_type": "execute_result"
    }
   ],
   "source": [
    "offer=churned_customers['Offer'].value_counts().sort_values()\n",
    "\n",
    "offer"
   ]
  },
  {
   "cell_type": "markdown",
   "metadata": {},
   "source": [
    "Customers without offers have left mostly but those with offer E and has also a high number of churned customers"
   ]
  },
  {
   "cell_type": "code",
   "execution_count": 68,
   "metadata": {},
   "outputs": [
    {
     "data": {
      "application/vnd.plotly.v1+json": {
       "config": {
        "plotlyServerURL": "https://plot.ly"
       },
       "data": [
        {
         "hovertemplate": "variable=Offer<br>Offers=%{x}<br>Count of customers=%{y}<extra></extra>",
         "legendgroup": "Offer",
         "marker": {
          "color": "rgb(103,0,31)",
          "symbol": "circle"
         },
         "mode": "markers",
         "name": "Offer",
         "orientation": "v",
         "showlegend": true,
         "type": "scatter",
         "x": [
          "Offer A",
          "Offer C",
          "Offer B",
          "Offer D",
          "Offer E",
          "None"
         ],
         "xaxis": "x",
         "y": [
          35,
          95,
          101,
          161,
          426,
          1051
         ],
         "yaxis": "y"
        }
       ],
       "layout": {
        "legend": {
         "title": {
          "text": "variable"
         },
         "tracegroupgap": 0
        },
        "template": {
         "data": {
          "bar": [
           {
            "error_x": {
             "color": "#f2f5fa"
            },
            "error_y": {
             "color": "#f2f5fa"
            },
            "marker": {
             "line": {
              "color": "rgb(17,17,17)",
              "width": 0.5
             },
             "pattern": {
              "fillmode": "overlay",
              "size": 10,
              "solidity": 0.2
             }
            },
            "type": "bar"
           }
          ],
          "barpolar": [
           {
            "marker": {
             "line": {
              "color": "rgb(17,17,17)",
              "width": 0.5
             },
             "pattern": {
              "fillmode": "overlay",
              "size": 10,
              "solidity": 0.2
             }
            },
            "type": "barpolar"
           }
          ],
          "carpet": [
           {
            "aaxis": {
             "endlinecolor": "#A2B1C6",
             "gridcolor": "#506784",
             "linecolor": "#506784",
             "minorgridcolor": "#506784",
             "startlinecolor": "#A2B1C6"
            },
            "baxis": {
             "endlinecolor": "#A2B1C6",
             "gridcolor": "#506784",
             "linecolor": "#506784",
             "minorgridcolor": "#506784",
             "startlinecolor": "#A2B1C6"
            },
            "type": "carpet"
           }
          ],
          "choropleth": [
           {
            "colorbar": {
             "outlinewidth": 0,
             "ticks": ""
            },
            "type": "choropleth"
           }
          ],
          "contour": [
           {
            "colorbar": {
             "outlinewidth": 0,
             "ticks": ""
            },
            "colorscale": [
             [
              0,
              "#0d0887"
             ],
             [
              0.1111111111111111,
              "#46039f"
             ],
             [
              0.2222222222222222,
              "#7201a8"
             ],
             [
              0.3333333333333333,
              "#9c179e"
             ],
             [
              0.4444444444444444,
              "#bd3786"
             ],
             [
              0.5555555555555556,
              "#d8576b"
             ],
             [
              0.6666666666666666,
              "#ed7953"
             ],
             [
              0.7777777777777778,
              "#fb9f3a"
             ],
             [
              0.8888888888888888,
              "#fdca26"
             ],
             [
              1,
              "#f0f921"
             ]
            ],
            "type": "contour"
           }
          ],
          "contourcarpet": [
           {
            "colorbar": {
             "outlinewidth": 0,
             "ticks": ""
            },
            "type": "contourcarpet"
           }
          ],
          "heatmap": [
           {
            "colorbar": {
             "outlinewidth": 0,
             "ticks": ""
            },
            "colorscale": [
             [
              0,
              "#0d0887"
             ],
             [
              0.1111111111111111,
              "#46039f"
             ],
             [
              0.2222222222222222,
              "#7201a8"
             ],
             [
              0.3333333333333333,
              "#9c179e"
             ],
             [
              0.4444444444444444,
              "#bd3786"
             ],
             [
              0.5555555555555556,
              "#d8576b"
             ],
             [
              0.6666666666666666,
              "#ed7953"
             ],
             [
              0.7777777777777778,
              "#fb9f3a"
             ],
             [
              0.8888888888888888,
              "#fdca26"
             ],
             [
              1,
              "#f0f921"
             ]
            ],
            "type": "heatmap"
           }
          ],
          "heatmapgl": [
           {
            "colorbar": {
             "outlinewidth": 0,
             "ticks": ""
            },
            "colorscale": [
             [
              0,
              "#0d0887"
             ],
             [
              0.1111111111111111,
              "#46039f"
             ],
             [
              0.2222222222222222,
              "#7201a8"
             ],
             [
              0.3333333333333333,
              "#9c179e"
             ],
             [
              0.4444444444444444,
              "#bd3786"
             ],
             [
              0.5555555555555556,
              "#d8576b"
             ],
             [
              0.6666666666666666,
              "#ed7953"
             ],
             [
              0.7777777777777778,
              "#fb9f3a"
             ],
             [
              0.8888888888888888,
              "#fdca26"
             ],
             [
              1,
              "#f0f921"
             ]
            ],
            "type": "heatmapgl"
           }
          ],
          "histogram": [
           {
            "marker": {
             "pattern": {
              "fillmode": "overlay",
              "size": 10,
              "solidity": 0.2
             }
            },
            "type": "histogram"
           }
          ],
          "histogram2d": [
           {
            "colorbar": {
             "outlinewidth": 0,
             "ticks": ""
            },
            "colorscale": [
             [
              0,
              "#0d0887"
             ],
             [
              0.1111111111111111,
              "#46039f"
             ],
             [
              0.2222222222222222,
              "#7201a8"
             ],
             [
              0.3333333333333333,
              "#9c179e"
             ],
             [
              0.4444444444444444,
              "#bd3786"
             ],
             [
              0.5555555555555556,
              "#d8576b"
             ],
             [
              0.6666666666666666,
              "#ed7953"
             ],
             [
              0.7777777777777778,
              "#fb9f3a"
             ],
             [
              0.8888888888888888,
              "#fdca26"
             ],
             [
              1,
              "#f0f921"
             ]
            ],
            "type": "histogram2d"
           }
          ],
          "histogram2dcontour": [
           {
            "colorbar": {
             "outlinewidth": 0,
             "ticks": ""
            },
            "colorscale": [
             [
              0,
              "#0d0887"
             ],
             [
              0.1111111111111111,
              "#46039f"
             ],
             [
              0.2222222222222222,
              "#7201a8"
             ],
             [
              0.3333333333333333,
              "#9c179e"
             ],
             [
              0.4444444444444444,
              "#bd3786"
             ],
             [
              0.5555555555555556,
              "#d8576b"
             ],
             [
              0.6666666666666666,
              "#ed7953"
             ],
             [
              0.7777777777777778,
              "#fb9f3a"
             ],
             [
              0.8888888888888888,
              "#fdca26"
             ],
             [
              1,
              "#f0f921"
             ]
            ],
            "type": "histogram2dcontour"
           }
          ],
          "mesh3d": [
           {
            "colorbar": {
             "outlinewidth": 0,
             "ticks": ""
            },
            "type": "mesh3d"
           }
          ],
          "parcoords": [
           {
            "line": {
             "colorbar": {
              "outlinewidth": 0,
              "ticks": ""
             }
            },
            "type": "parcoords"
           }
          ],
          "pie": [
           {
            "automargin": true,
            "type": "pie"
           }
          ],
          "scatter": [
           {
            "marker": {
             "line": {
              "color": "#283442"
             }
            },
            "type": "scatter"
           }
          ],
          "scatter3d": [
           {
            "line": {
             "colorbar": {
              "outlinewidth": 0,
              "ticks": ""
             }
            },
            "marker": {
             "colorbar": {
              "outlinewidth": 0,
              "ticks": ""
             }
            },
            "type": "scatter3d"
           }
          ],
          "scattercarpet": [
           {
            "marker": {
             "colorbar": {
              "outlinewidth": 0,
              "ticks": ""
             }
            },
            "type": "scattercarpet"
           }
          ],
          "scattergeo": [
           {
            "marker": {
             "colorbar": {
              "outlinewidth": 0,
              "ticks": ""
             }
            },
            "type": "scattergeo"
           }
          ],
          "scattergl": [
           {
            "marker": {
             "line": {
              "color": "#283442"
             }
            },
            "type": "scattergl"
           }
          ],
          "scattermapbox": [
           {
            "marker": {
             "colorbar": {
              "outlinewidth": 0,
              "ticks": ""
             }
            },
            "type": "scattermapbox"
           }
          ],
          "scatterpolar": [
           {
            "marker": {
             "colorbar": {
              "outlinewidth": 0,
              "ticks": ""
             }
            },
            "type": "scatterpolar"
           }
          ],
          "scatterpolargl": [
           {
            "marker": {
             "colorbar": {
              "outlinewidth": 0,
              "ticks": ""
             }
            },
            "type": "scatterpolargl"
           }
          ],
          "scatterternary": [
           {
            "marker": {
             "colorbar": {
              "outlinewidth": 0,
              "ticks": ""
             }
            },
            "type": "scatterternary"
           }
          ],
          "surface": [
           {
            "colorbar": {
             "outlinewidth": 0,
             "ticks": ""
            },
            "colorscale": [
             [
              0,
              "#0d0887"
             ],
             [
              0.1111111111111111,
              "#46039f"
             ],
             [
              0.2222222222222222,
              "#7201a8"
             ],
             [
              0.3333333333333333,
              "#9c179e"
             ],
             [
              0.4444444444444444,
              "#bd3786"
             ],
             [
              0.5555555555555556,
              "#d8576b"
             ],
             [
              0.6666666666666666,
              "#ed7953"
             ],
             [
              0.7777777777777778,
              "#fb9f3a"
             ],
             [
              0.8888888888888888,
              "#fdca26"
             ],
             [
              1,
              "#f0f921"
             ]
            ],
            "type": "surface"
           }
          ],
          "table": [
           {
            "cells": {
             "fill": {
              "color": "#506784"
             },
             "line": {
              "color": "rgb(17,17,17)"
             }
            },
            "header": {
             "fill": {
              "color": "#2a3f5f"
             },
             "line": {
              "color": "rgb(17,17,17)"
             }
            },
            "type": "table"
           }
          ]
         },
         "layout": {
          "annotationdefaults": {
           "arrowcolor": "#f2f5fa",
           "arrowhead": 0,
           "arrowwidth": 1
          },
          "autotypenumbers": "strict",
          "coloraxis": {
           "colorbar": {
            "outlinewidth": 0,
            "ticks": ""
           }
          },
          "colorscale": {
           "diverging": [
            [
             0,
             "#8e0152"
            ],
            [
             0.1,
             "#c51b7d"
            ],
            [
             0.2,
             "#de77ae"
            ],
            [
             0.3,
             "#f1b6da"
            ],
            [
             0.4,
             "#fde0ef"
            ],
            [
             0.5,
             "#f7f7f7"
            ],
            [
             0.6,
             "#e6f5d0"
            ],
            [
             0.7,
             "#b8e186"
            ],
            [
             0.8,
             "#7fbc41"
            ],
            [
             0.9,
             "#4d9221"
            ],
            [
             1,
             "#276419"
            ]
           ],
           "sequential": [
            [
             0,
             "#0d0887"
            ],
            [
             0.1111111111111111,
             "#46039f"
            ],
            [
             0.2222222222222222,
             "#7201a8"
            ],
            [
             0.3333333333333333,
             "#9c179e"
            ],
            [
             0.4444444444444444,
             "#bd3786"
            ],
            [
             0.5555555555555556,
             "#d8576b"
            ],
            [
             0.6666666666666666,
             "#ed7953"
            ],
            [
             0.7777777777777778,
             "#fb9f3a"
            ],
            [
             0.8888888888888888,
             "#fdca26"
            ],
            [
             1,
             "#f0f921"
            ]
           ],
           "sequentialminus": [
            [
             0,
             "#0d0887"
            ],
            [
             0.1111111111111111,
             "#46039f"
            ],
            [
             0.2222222222222222,
             "#7201a8"
            ],
            [
             0.3333333333333333,
             "#9c179e"
            ],
            [
             0.4444444444444444,
             "#bd3786"
            ],
            [
             0.5555555555555556,
             "#d8576b"
            ],
            [
             0.6666666666666666,
             "#ed7953"
            ],
            [
             0.7777777777777778,
             "#fb9f3a"
            ],
            [
             0.8888888888888888,
             "#fdca26"
            ],
            [
             1,
             "#f0f921"
            ]
           ]
          },
          "colorway": [
           "#636efa",
           "#EF553B",
           "#00cc96",
           "#ab63fa",
           "#FFA15A",
           "#19d3f3",
           "#FF6692",
           "#B6E880",
           "#FF97FF",
           "#FECB52"
          ],
          "font": {
           "color": "#f2f5fa"
          },
          "geo": {
           "bgcolor": "rgb(17,17,17)",
           "lakecolor": "rgb(17,17,17)",
           "landcolor": "rgb(17,17,17)",
           "showlakes": true,
           "showland": true,
           "subunitcolor": "#506784"
          },
          "hoverlabel": {
           "align": "left"
          },
          "hovermode": "closest",
          "mapbox": {
           "style": "dark"
          },
          "paper_bgcolor": "rgb(17,17,17)",
          "plot_bgcolor": "rgb(17,17,17)",
          "polar": {
           "angularaxis": {
            "gridcolor": "#506784",
            "linecolor": "#506784",
            "ticks": ""
           },
           "bgcolor": "rgb(17,17,17)",
           "radialaxis": {
            "gridcolor": "#506784",
            "linecolor": "#506784",
            "ticks": ""
           }
          },
          "scene": {
           "xaxis": {
            "backgroundcolor": "rgb(17,17,17)",
            "gridcolor": "#506784",
            "gridwidth": 2,
            "linecolor": "#506784",
            "showbackground": true,
            "ticks": "",
            "zerolinecolor": "#C8D4E3"
           },
           "yaxis": {
            "backgroundcolor": "rgb(17,17,17)",
            "gridcolor": "#506784",
            "gridwidth": 2,
            "linecolor": "#506784",
            "showbackground": true,
            "ticks": "",
            "zerolinecolor": "#C8D4E3"
           },
           "zaxis": {
            "backgroundcolor": "rgb(17,17,17)",
            "gridcolor": "#506784",
            "gridwidth": 2,
            "linecolor": "#506784",
            "showbackground": true,
            "ticks": "",
            "zerolinecolor": "#C8D4E3"
           }
          },
          "shapedefaults": {
           "line": {
            "color": "#f2f5fa"
           }
          },
          "sliderdefaults": {
           "bgcolor": "#C8D4E3",
           "bordercolor": "rgb(17,17,17)",
           "borderwidth": 1,
           "tickwidth": 0
          },
          "ternary": {
           "aaxis": {
            "gridcolor": "#506784",
            "linecolor": "#506784",
            "ticks": ""
           },
           "baxis": {
            "gridcolor": "#506784",
            "linecolor": "#506784",
            "ticks": ""
           },
           "bgcolor": "rgb(17,17,17)",
           "caxis": {
            "gridcolor": "#506784",
            "linecolor": "#506784",
            "ticks": ""
           }
          },
          "title": {
           "x": 0.05
          },
          "updatemenudefaults": {
           "bgcolor": "#506784",
           "borderwidth": 0
          },
          "xaxis": {
           "automargin": true,
           "gridcolor": "#283442",
           "linecolor": "#506784",
           "ticks": "",
           "title": {
            "standoff": 15
           },
           "zerolinecolor": "#283442",
           "zerolinewidth": 2
          },
          "yaxis": {
           "automargin": true,
           "gridcolor": "#283442",
           "linecolor": "#506784",
           "ticks": "",
           "title": {
            "standoff": 15
           },
           "zerolinecolor": "#283442",
           "zerolinewidth": 2
          }
         }
        },
        "title": {
         "text": "Offers made to churned customers"
        },
        "xaxis": {
         "anchor": "y",
         "domain": [
          0,
          1
         ],
         "title": {
          "text": "Offers"
         }
        },
        "yaxis": {
         "anchor": "x",
         "domain": [
          0,
          1
         ],
         "title": {
          "text": "Count of customers"
         }
        }
       }
      }
     },
     "metadata": {},
     "output_type": "display_data"
    }
   ],
   "source": [
    "#Lets shoe the above in a chart\n",
    "px.data.gapminder()\n",
    "for templates in ['plotly_dark']:\n",
    " offer_no_fig=px.scatter(offer,color_discrete_sequence=px.colors.sequential.RdBu,\n",
    "title= 'Offers made to churned customers',template=templates,\n",
    "labels={'index':'Offers', 'value':'Count of customers'} )\n",
    "offer_no_fig.show()"
   ]
  },
  {
   "cell_type": "code",
   "execution_count": 69,
   "metadata": {},
   "outputs": [
    {
     "data": {
      "text/html": [
       "<div>\n",
       "<style scoped>\n",
       "    .dataframe tbody tr th:only-of-type {\n",
       "        vertical-align: middle;\n",
       "    }\n",
       "\n",
       "    .dataframe tbody tr th {\n",
       "        vertical-align: top;\n",
       "    }\n",
       "\n",
       "    .dataframe thead th {\n",
       "        text-align: right;\n",
       "    }\n",
       "</style>\n",
       "<table border=\"1\" class=\"dataframe\">\n",
       "  <thead>\n",
       "    <tr style=\"text-align: right;\">\n",
       "      <th></th>\n",
       "      <th>Customer ID</th>\n",
       "      <th>Gender</th>\n",
       "      <th>Age</th>\n",
       "      <th>Married</th>\n",
       "      <th>Number of Dependents</th>\n",
       "      <th>City</th>\n",
       "      <th>Zip Code</th>\n",
       "      <th>Latitude</th>\n",
       "      <th>Longitude</th>\n",
       "      <th>Number of Referrals</th>\n",
       "      <th>...</th>\n",
       "      <th>Payment Method</th>\n",
       "      <th>Monthly Charge</th>\n",
       "      <th>Total Charges</th>\n",
       "      <th>Total Refunds</th>\n",
       "      <th>Total Extra Data Charges</th>\n",
       "      <th>Total Long Distance Charges</th>\n",
       "      <th>Total Revenue</th>\n",
       "      <th>Customer Status</th>\n",
       "      <th>Churn Category</th>\n",
       "      <th>Churn Reason</th>\n",
       "    </tr>\n",
       "  </thead>\n",
       "  <tbody>\n",
       "  </tbody>\n",
       "</table>\n",
       "<p>0 rows × 38 columns</p>\n",
       "</div>"
      ],
      "text/plain": [
       "Empty DataFrame\n",
       "Columns: [Customer ID, Gender, Age, Married, Number of Dependents, City, Zip Code, Latitude, Longitude, Number of Referrals, Tenure in Months, Offer, Phone Service, Avg Monthly Long Distance Charges, Multiple Lines, Internet Service, Internet Type, Avg Monthly GB Download, Online Security, Online Backup, Device Protection Plan, Premium Tech Support, Streaming TV, Streaming Movies, Streaming Music, Unlimited Data, Contract, Paperless Billing, Payment Method, Monthly Charge, Total Charges, Total Refunds, Total Extra Data Charges, Total Long Distance Charges, Total Revenue, Customer Status, Churn Category, Churn Reason]\n",
       "Index: []\n",
       "\n",
       "[0 rows x 38 columns]"
      ]
     },
     "execution_count": 69,
     "metadata": {},
     "output_type": "execute_result"
    }
   ],
   "source": [
    "churned_customers[churned_customers['Number of Referrals'] > 9 ]\n"
   ]
  },
  {
   "cell_type": "markdown",
   "metadata": {},
   "source": [
    "<h2> Now to indentify high valued customers"
   ]
  },
  {
   "cell_type": "markdown",
   "metadata": {},
   "source": [
    "<h3>The goal of most companies is to grow and also generate more income, so it is very likely that the valued customer will be customers that generate more revenue in any way, so only customers with high total revenue and high number of referral will be analysed in this section"
   ]
  },
  {
   "cell_type": "code",
   "execution_count": 70,
   "metadata": {},
   "outputs": [
    {
     "data": {
      "text/html": [
       "<div>\n",
       "<style scoped>\n",
       "    .dataframe tbody tr th:only-of-type {\n",
       "        vertical-align: middle;\n",
       "    }\n",
       "\n",
       "    .dataframe tbody tr th {\n",
       "        vertical-align: top;\n",
       "    }\n",
       "\n",
       "    .dataframe thead th {\n",
       "        text-align: right;\n",
       "    }\n",
       "</style>\n",
       "<table border=\"1\" class=\"dataframe\">\n",
       "  <thead>\n",
       "    <tr style=\"text-align: right;\">\n",
       "      <th></th>\n",
       "      <th>Customer ID</th>\n",
       "      <th>Gender</th>\n",
       "      <th>Age</th>\n",
       "      <th>Married</th>\n",
       "      <th>Number of Dependents</th>\n",
       "      <th>City</th>\n",
       "      <th>Zip Code</th>\n",
       "      <th>Latitude</th>\n",
       "      <th>Longitude</th>\n",
       "      <th>Number of Referrals</th>\n",
       "      <th>...</th>\n",
       "      <th>Payment Method</th>\n",
       "      <th>Monthly Charge</th>\n",
       "      <th>Total Charges</th>\n",
       "      <th>Total Refunds</th>\n",
       "      <th>Total Extra Data Charges</th>\n",
       "      <th>Total Long Distance Charges</th>\n",
       "      <th>Total Revenue</th>\n",
       "      <th>Customer Status</th>\n",
       "      <th>Churn Category</th>\n",
       "      <th>Churn Reason</th>\n",
       "    </tr>\n",
       "  </thead>\n",
       "  <tbody>\n",
       "    <tr>\n",
       "      <th>0</th>\n",
       "      <td>0002-ORFBO</td>\n",
       "      <td>Female</td>\n",
       "      <td>37</td>\n",
       "      <td>Yes</td>\n",
       "      <td>0</td>\n",
       "      <td>Frazier Park</td>\n",
       "      <td>93225</td>\n",
       "      <td>34.827662</td>\n",
       "      <td>-118.999073</td>\n",
       "      <td>2</td>\n",
       "      <td>...</td>\n",
       "      <td>Credit Card</td>\n",
       "      <td>65.6</td>\n",
       "      <td>593.3</td>\n",
       "      <td>0.00</td>\n",
       "      <td>0</td>\n",
       "      <td>381.51</td>\n",
       "      <td>974.81</td>\n",
       "      <td>Stayed</td>\n",
       "      <td>NaN</td>\n",
       "      <td>NaN</td>\n",
       "    </tr>\n",
       "    <tr>\n",
       "      <th>1</th>\n",
       "      <td>0003-MKNFE</td>\n",
       "      <td>Male</td>\n",
       "      <td>46</td>\n",
       "      <td>No</td>\n",
       "      <td>0</td>\n",
       "      <td>Glendale</td>\n",
       "      <td>91206</td>\n",
       "      <td>34.162515</td>\n",
       "      <td>-118.203869</td>\n",
       "      <td>0</td>\n",
       "      <td>...</td>\n",
       "      <td>Credit Card</td>\n",
       "      <td>-4.0</td>\n",
       "      <td>542.4</td>\n",
       "      <td>38.33</td>\n",
       "      <td>10</td>\n",
       "      <td>96.21</td>\n",
       "      <td>610.28</td>\n",
       "      <td>Stayed</td>\n",
       "      <td>NaN</td>\n",
       "      <td>NaN</td>\n",
       "    </tr>\n",
       "  </tbody>\n",
       "</table>\n",
       "<p>2 rows × 38 columns</p>\n",
       "</div>"
      ],
      "text/plain": [
       "  Customer ID  Gender  Age Married  Number of Dependents          City  \\\n",
       "0  0002-ORFBO  Female   37     Yes                     0  Frazier Park   \n",
       "1  0003-MKNFE    Male   46      No                     0      Glendale   \n",
       "\n",
       "   Zip Code   Latitude   Longitude  Number of Referrals  ...  Payment Method  \\\n",
       "0     93225  34.827662 -118.999073                    2  ...     Credit Card   \n",
       "1     91206  34.162515 -118.203869                    0  ...     Credit Card   \n",
       "\n",
       "  Monthly Charge Total Charges  Total Refunds Total Extra Data Charges  \\\n",
       "0           65.6         593.3           0.00                        0   \n",
       "1           -4.0         542.4          38.33                       10   \n",
       "\n",
       "  Total Long Distance Charges Total Revenue  Customer Status Churn Category  \\\n",
       "0                      381.51        974.81           Stayed            NaN   \n",
       "1                       96.21        610.28           Stayed            NaN   \n",
       "\n",
       "  Churn Reason  \n",
       "0          NaN  \n",
       "1          NaN  \n",
       "\n",
       "[2 rows x 38 columns]"
      ]
     },
     "execution_count": 70,
     "metadata": {},
     "output_type": "execute_result"
    }
   ],
   "source": [
    "#To filter customers that are churned because they are obviously not high valued customers.\n",
    "unchurned_customers= customer_churn[customer_churn['Customer Status'] != 'Churned']\n",
    "unchurned_customers.head(2)"
   ]
  },
  {
   "cell_type": "code",
   "execution_count": 71,
   "metadata": {},
   "outputs": [
    {
     "data": {
      "text/html": [
       "<div>\n",
       "<style scoped>\n",
       "    .dataframe tbody tr th:only-of-type {\n",
       "        vertical-align: middle;\n",
       "    }\n",
       "\n",
       "    .dataframe tbody tr th {\n",
       "        vertical-align: top;\n",
       "    }\n",
       "\n",
       "    .dataframe thead th {\n",
       "        text-align: right;\n",
       "    }\n",
       "</style>\n",
       "<table border=\"1\" class=\"dataframe\">\n",
       "  <thead>\n",
       "    <tr style=\"text-align: right;\">\n",
       "      <th></th>\n",
       "      <th>Customer ID</th>\n",
       "      <th>Gender</th>\n",
       "      <th>Age</th>\n",
       "      <th>Married</th>\n",
       "      <th>Number of Dependents</th>\n",
       "      <th>City</th>\n",
       "      <th>Zip Code</th>\n",
       "      <th>Latitude</th>\n",
       "      <th>Longitude</th>\n",
       "      <th>Number of Referrals</th>\n",
       "      <th>...</th>\n",
       "      <th>Payment Method</th>\n",
       "      <th>Monthly Charge</th>\n",
       "      <th>Total Charges</th>\n",
       "      <th>Total Refunds</th>\n",
       "      <th>Total Extra Data Charges</th>\n",
       "      <th>Total Long Distance Charges</th>\n",
       "      <th>Total Revenue</th>\n",
       "      <th>Customer Status</th>\n",
       "      <th>Churn Category</th>\n",
       "      <th>Churn Reason</th>\n",
       "    </tr>\n",
       "  </thead>\n",
       "  <tbody>\n",
       "    <tr>\n",
       "      <th>26</th>\n",
       "      <td>0036-IHMOT</td>\n",
       "      <td>Female</td>\n",
       "      <td>37</td>\n",
       "      <td>Yes</td>\n",
       "      <td>3</td>\n",
       "      <td>Parlier</td>\n",
       "      <td>93648</td>\n",
       "      <td>36.622237</td>\n",
       "      <td>-119.521126</td>\n",
       "      <td>10</td>\n",
       "      <td>...</td>\n",
       "      <td>Bank Withdrawal</td>\n",
       "      <td>103.70</td>\n",
       "      <td>5656.75</td>\n",
       "      <td>0.00</td>\n",
       "      <td>20</td>\n",
       "      <td>1927.20</td>\n",
       "      <td>7603.95</td>\n",
       "      <td>Stayed</td>\n",
       "      <td>NaN</td>\n",
       "      <td>NaN</td>\n",
       "    </tr>\n",
       "    <tr>\n",
       "      <th>59</th>\n",
       "      <td>0103-CSITQ</td>\n",
       "      <td>Female</td>\n",
       "      <td>20</td>\n",
       "      <td>Yes</td>\n",
       "      <td>0</td>\n",
       "      <td>Modesto</td>\n",
       "      <td>95357</td>\n",
       "      <td>37.670526</td>\n",
       "      <td>-120.877572</td>\n",
       "      <td>10</td>\n",
       "      <td>...</td>\n",
       "      <td>Bank Withdrawal</td>\n",
       "      <td>109.40</td>\n",
       "      <td>6252.70</td>\n",
       "      <td>0.00</td>\n",
       "      <td>0</td>\n",
       "      <td>456.57</td>\n",
       "      <td>6709.27</td>\n",
       "      <td>Stayed</td>\n",
       "      <td>NaN</td>\n",
       "      <td>NaN</td>\n",
       "    </tr>\n",
       "    <tr>\n",
       "      <th>145</th>\n",
       "      <td>0238-WHBIQ</td>\n",
       "      <td>Male</td>\n",
       "      <td>25</td>\n",
       "      <td>Yes</td>\n",
       "      <td>1</td>\n",
       "      <td>Folsom</td>\n",
       "      <td>95630</td>\n",
       "      <td>38.672638</td>\n",
       "      <td>-121.147403</td>\n",
       "      <td>10</td>\n",
       "      <td>...</td>\n",
       "      <td>Credit Card</td>\n",
       "      <td>89.70</td>\n",
       "      <td>6339.30</td>\n",
       "      <td>0.00</td>\n",
       "      <td>0</td>\n",
       "      <td>2430.00</td>\n",
       "      <td>8769.30</td>\n",
       "      <td>Stayed</td>\n",
       "      <td>NaN</td>\n",
       "      <td>NaN</td>\n",
       "    </tr>\n",
       "    <tr>\n",
       "      <th>236</th>\n",
       "      <td>0363-SVHYR</td>\n",
       "      <td>Male</td>\n",
       "      <td>28</td>\n",
       "      <td>Yes</td>\n",
       "      <td>3</td>\n",
       "      <td>Paramount</td>\n",
       "      <td>90723</td>\n",
       "      <td>33.897122</td>\n",
       "      <td>-118.164432</td>\n",
       "      <td>10</td>\n",
       "      <td>...</td>\n",
       "      <td>Bank Withdrawal</td>\n",
       "      <td>86.85</td>\n",
       "      <td>6263.80</td>\n",
       "      <td>0.00</td>\n",
       "      <td>0</td>\n",
       "      <td>717.81</td>\n",
       "      <td>6981.61</td>\n",
       "      <td>Stayed</td>\n",
       "      <td>NaN</td>\n",
       "      <td>NaN</td>\n",
       "    </tr>\n",
       "    <tr>\n",
       "      <th>387</th>\n",
       "      <td>0572-ZJKLT</td>\n",
       "      <td>Female</td>\n",
       "      <td>32</td>\n",
       "      <td>Yes</td>\n",
       "      <td>1</td>\n",
       "      <td>Chester</td>\n",
       "      <td>96020</td>\n",
       "      <td>40.243494</td>\n",
       "      <td>-121.154733</td>\n",
       "      <td>10</td>\n",
       "      <td>...</td>\n",
       "      <td>Credit Card</td>\n",
       "      <td>99.65</td>\n",
       "      <td>4630.20</td>\n",
       "      <td>9.35</td>\n",
       "      <td>0</td>\n",
       "      <td>2265.96</td>\n",
       "      <td>6886.81</td>\n",
       "      <td>Stayed</td>\n",
       "      <td>NaN</td>\n",
       "      <td>NaN</td>\n",
       "    </tr>\n",
       "    <tr>\n",
       "      <th>388</th>\n",
       "      <td>0575-CUQOV</td>\n",
       "      <td>Male</td>\n",
       "      <td>76</td>\n",
       "      <td>Yes</td>\n",
       "      <td>0</td>\n",
       "      <td>Hilmar</td>\n",
       "      <td>95324</td>\n",
       "      <td>37.394536</td>\n",
       "      <td>-120.890747</td>\n",
       "      <td>10</td>\n",
       "      <td>...</td>\n",
       "      <td>Bank Withdrawal</td>\n",
       "      <td>97.95</td>\n",
       "      <td>5867.00</td>\n",
       "      <td>0.00</td>\n",
       "      <td>0</td>\n",
       "      <td>1023.00</td>\n",
       "      <td>6890.00</td>\n",
       "      <td>Stayed</td>\n",
       "      <td>NaN</td>\n",
       "      <td>NaN</td>\n",
       "    </tr>\n",
       "    <tr>\n",
       "      <th>733</th>\n",
       "      <td>1084-MNSMJ</td>\n",
       "      <td>Female</td>\n",
       "      <td>63</td>\n",
       "      <td>Yes</td>\n",
       "      <td>0</td>\n",
       "      <td>El Dorado</td>\n",
       "      <td>95623</td>\n",
       "      <td>38.631530</td>\n",
       "      <td>-120.842609</td>\n",
       "      <td>10</td>\n",
       "      <td>...</td>\n",
       "      <td>Credit Card</td>\n",
       "      <td>85.50</td>\n",
       "      <td>4421.95</td>\n",
       "      <td>0.00</td>\n",
       "      <td>0</td>\n",
       "      <td>1730.43</td>\n",
       "      <td>6152.38</td>\n",
       "      <td>Stayed</td>\n",
       "      <td>NaN</td>\n",
       "      <td>NaN</td>\n",
       "    </tr>\n",
       "    <tr>\n",
       "      <th>911</th>\n",
       "      <td>1325-USMEC</td>\n",
       "      <td>Male</td>\n",
       "      <td>58</td>\n",
       "      <td>Yes</td>\n",
       "      <td>0</td>\n",
       "      <td>Pearblossom</td>\n",
       "      <td>93553</td>\n",
       "      <td>34.445239</td>\n",
       "      <td>-117.894868</td>\n",
       "      <td>10</td>\n",
       "      <td>...</td>\n",
       "      <td>Credit Card</td>\n",
       "      <td>99.35</td>\n",
       "      <td>6944.50</td>\n",
       "      <td>0.00</td>\n",
       "      <td>0</td>\n",
       "      <td>3360.00</td>\n",
       "      <td>10304.50</td>\n",
       "      <td>Stayed</td>\n",
       "      <td>NaN</td>\n",
       "      <td>NaN</td>\n",
       "    </tr>\n",
       "    <tr>\n",
       "      <th>929</th>\n",
       "      <td>1347-KTTTA</td>\n",
       "      <td>Male</td>\n",
       "      <td>22</td>\n",
       "      <td>Yes</td>\n",
       "      <td>0</td>\n",
       "      <td>Canyon Country</td>\n",
       "      <td>91351</td>\n",
       "      <td>34.422519</td>\n",
       "      <td>-118.420717</td>\n",
       "      <td>10</td>\n",
       "      <td>...</td>\n",
       "      <td>Credit Card</td>\n",
       "      <td>102.45</td>\n",
       "      <td>6654.10</td>\n",
       "      <td>0.00</td>\n",
       "      <td>0</td>\n",
       "      <td>2591.36</td>\n",
       "      <td>9245.46</td>\n",
       "      <td>Stayed</td>\n",
       "      <td>NaN</td>\n",
       "      <td>NaN</td>\n",
       "    </tr>\n",
       "    <tr>\n",
       "      <th>938</th>\n",
       "      <td>1357-BIJKI</td>\n",
       "      <td>Male</td>\n",
       "      <td>46</td>\n",
       "      <td>Yes</td>\n",
       "      <td>0</td>\n",
       "      <td>Mission Viejo</td>\n",
       "      <td>92691</td>\n",
       "      <td>33.611945</td>\n",
       "      <td>-117.665867</td>\n",
       "      <td>10</td>\n",
       "      <td>...</td>\n",
       "      <td>Bank Withdrawal</td>\n",
       "      <td>98.25</td>\n",
       "      <td>4858.70</td>\n",
       "      <td>3.55</td>\n",
       "      <td>0</td>\n",
       "      <td>1914.50</td>\n",
       "      <td>6769.65</td>\n",
       "      <td>Stayed</td>\n",
       "      <td>NaN</td>\n",
       "      <td>NaN</td>\n",
       "    </tr>\n",
       "  </tbody>\n",
       "</table>\n",
       "<p>10 rows × 38 columns</p>\n",
       "</div>"
      ],
      "text/plain": [
       "    Customer ID  Gender  Age Married  Number of Dependents            City  \\\n",
       "26   0036-IHMOT  Female   37     Yes                     3         Parlier   \n",
       "59   0103-CSITQ  Female   20     Yes                     0         Modesto   \n",
       "145  0238-WHBIQ    Male   25     Yes                     1          Folsom   \n",
       "236  0363-SVHYR    Male   28     Yes                     3       Paramount   \n",
       "387  0572-ZJKLT  Female   32     Yes                     1         Chester   \n",
       "388  0575-CUQOV    Male   76     Yes                     0          Hilmar   \n",
       "733  1084-MNSMJ  Female   63     Yes                     0       El Dorado   \n",
       "911  1325-USMEC    Male   58     Yes                     0     Pearblossom   \n",
       "929  1347-KTTTA    Male   22     Yes                     0  Canyon Country   \n",
       "938  1357-BIJKI    Male   46     Yes                     0   Mission Viejo   \n",
       "\n",
       "     Zip Code   Latitude   Longitude  Number of Referrals  ...  \\\n",
       "26      93648  36.622237 -119.521126                   10  ...   \n",
       "59      95357  37.670526 -120.877572                   10  ...   \n",
       "145     95630  38.672638 -121.147403                   10  ...   \n",
       "236     90723  33.897122 -118.164432                   10  ...   \n",
       "387     96020  40.243494 -121.154733                   10  ...   \n",
       "388     95324  37.394536 -120.890747                   10  ...   \n",
       "733     95623  38.631530 -120.842609                   10  ...   \n",
       "911     93553  34.445239 -117.894868                   10  ...   \n",
       "929     91351  34.422519 -118.420717                   10  ...   \n",
       "938     92691  33.611945 -117.665867                   10  ...   \n",
       "\n",
       "      Payment Method Monthly Charge Total Charges  Total Refunds  \\\n",
       "26   Bank Withdrawal         103.70       5656.75           0.00   \n",
       "59   Bank Withdrawal         109.40       6252.70           0.00   \n",
       "145      Credit Card          89.70       6339.30           0.00   \n",
       "236  Bank Withdrawal          86.85       6263.80           0.00   \n",
       "387      Credit Card          99.65       4630.20           9.35   \n",
       "388  Bank Withdrawal          97.95       5867.00           0.00   \n",
       "733      Credit Card          85.50       4421.95           0.00   \n",
       "911      Credit Card          99.35       6944.50           0.00   \n",
       "929      Credit Card         102.45       6654.10           0.00   \n",
       "938  Bank Withdrawal          98.25       4858.70           3.55   \n",
       "\n",
       "    Total Extra Data Charges Total Long Distance Charges Total Revenue  \\\n",
       "26                        20                     1927.20       7603.95   \n",
       "59                         0                      456.57       6709.27   \n",
       "145                        0                     2430.00       8769.30   \n",
       "236                        0                      717.81       6981.61   \n",
       "387                        0                     2265.96       6886.81   \n",
       "388                        0                     1023.00       6890.00   \n",
       "733                        0                     1730.43       6152.38   \n",
       "911                        0                     3360.00      10304.50   \n",
       "929                        0                     2591.36       9245.46   \n",
       "938                        0                     1914.50       6769.65   \n",
       "\n",
       "     Customer Status Churn Category Churn Reason  \n",
       "26            Stayed            NaN          NaN  \n",
       "59            Stayed            NaN          NaN  \n",
       "145           Stayed            NaN          NaN  \n",
       "236           Stayed            NaN          NaN  \n",
       "387           Stayed            NaN          NaN  \n",
       "388           Stayed            NaN          NaN  \n",
       "733           Stayed            NaN          NaN  \n",
       "911           Stayed            NaN          NaN  \n",
       "929           Stayed            NaN          NaN  \n",
       "938           Stayed            NaN          NaN  \n",
       "\n",
       "[10 rows x 38 columns]"
      ]
     },
     "execution_count": 71,
     "metadata": {},
     "output_type": "execute_result"
    }
   ],
   "source": [
    "#Number of customers that has generated more than 6000 revenue and has more than 9 referrals\n",
    "ref= unchurned_customers[unchurned_customers['Number of Referrals']> 9]\n",
    "rev=ref[ref['Total Revenue']>6000]\n",
    "rev.sort_values(by ='Total Revenue', ascending=False)\n",
    "rev10=rev.head(10)\n",
    "rev10"
   ]
  },
  {
   "cell_type": "code",
   "execution_count": 72,
   "metadata": {},
   "outputs": [
    {
     "data": {
      "application/vnd.plotly.v1+json": {
       "config": {
        "plotlyServerURL": "https://plot.ly"
       },
       "data": [
        {
         "alignmentgroup": "True",
         "hovertemplate": "Customer ID=%{x}<br>Total Revenue=%{y}<extra></extra>",
         "legendgroup": "",
         "marker": {
          "color": "rgb(103,0,31)",
          "pattern": {
           "shape": ""
          }
         },
         "name": "",
         "offsetgroup": "",
         "orientation": "v",
         "showlegend": false,
         "textposition": "auto",
         "type": "bar",
         "x": [
          "0036-IHMOT",
          "0103-CSITQ",
          "0238-WHBIQ",
          "0363-SVHYR",
          "0572-ZJKLT",
          "0575-CUQOV",
          "1084-MNSMJ",
          "1325-USMEC",
          "1347-KTTTA",
          "1357-BIJKI"
         ],
         "xaxis": "x",
         "y": [
          7603.95,
          6709.27,
          8769.3,
          6981.61,
          6886.81,
          6890,
          6152.38,
          10304.5,
          9245.46,
          6769.65
         ],
         "yaxis": "y"
        }
       ],
       "layout": {
        "barmode": "relative",
        "legend": {
         "tracegroupgap": 0
        },
        "template": {
         "data": {
          "bar": [
           {
            "error_x": {
             "color": "#f2f5fa"
            },
            "error_y": {
             "color": "#f2f5fa"
            },
            "marker": {
             "line": {
              "color": "rgb(17,17,17)",
              "width": 0.5
             },
             "pattern": {
              "fillmode": "overlay",
              "size": 10,
              "solidity": 0.2
             }
            },
            "type": "bar"
           }
          ],
          "barpolar": [
           {
            "marker": {
             "line": {
              "color": "rgb(17,17,17)",
              "width": 0.5
             },
             "pattern": {
              "fillmode": "overlay",
              "size": 10,
              "solidity": 0.2
             }
            },
            "type": "barpolar"
           }
          ],
          "carpet": [
           {
            "aaxis": {
             "endlinecolor": "#A2B1C6",
             "gridcolor": "#506784",
             "linecolor": "#506784",
             "minorgridcolor": "#506784",
             "startlinecolor": "#A2B1C6"
            },
            "baxis": {
             "endlinecolor": "#A2B1C6",
             "gridcolor": "#506784",
             "linecolor": "#506784",
             "minorgridcolor": "#506784",
             "startlinecolor": "#A2B1C6"
            },
            "type": "carpet"
           }
          ],
          "choropleth": [
           {
            "colorbar": {
             "outlinewidth": 0,
             "ticks": ""
            },
            "type": "choropleth"
           }
          ],
          "contour": [
           {
            "colorbar": {
             "outlinewidth": 0,
             "ticks": ""
            },
            "colorscale": [
             [
              0,
              "#0d0887"
             ],
             [
              0.1111111111111111,
              "#46039f"
             ],
             [
              0.2222222222222222,
              "#7201a8"
             ],
             [
              0.3333333333333333,
              "#9c179e"
             ],
             [
              0.4444444444444444,
              "#bd3786"
             ],
             [
              0.5555555555555556,
              "#d8576b"
             ],
             [
              0.6666666666666666,
              "#ed7953"
             ],
             [
              0.7777777777777778,
              "#fb9f3a"
             ],
             [
              0.8888888888888888,
              "#fdca26"
             ],
             [
              1,
              "#f0f921"
             ]
            ],
            "type": "contour"
           }
          ],
          "contourcarpet": [
           {
            "colorbar": {
             "outlinewidth": 0,
             "ticks": ""
            },
            "type": "contourcarpet"
           }
          ],
          "heatmap": [
           {
            "colorbar": {
             "outlinewidth": 0,
             "ticks": ""
            },
            "colorscale": [
             [
              0,
              "#0d0887"
             ],
             [
              0.1111111111111111,
              "#46039f"
             ],
             [
              0.2222222222222222,
              "#7201a8"
             ],
             [
              0.3333333333333333,
              "#9c179e"
             ],
             [
              0.4444444444444444,
              "#bd3786"
             ],
             [
              0.5555555555555556,
              "#d8576b"
             ],
             [
              0.6666666666666666,
              "#ed7953"
             ],
             [
              0.7777777777777778,
              "#fb9f3a"
             ],
             [
              0.8888888888888888,
              "#fdca26"
             ],
             [
              1,
              "#f0f921"
             ]
            ],
            "type": "heatmap"
           }
          ],
          "heatmapgl": [
           {
            "colorbar": {
             "outlinewidth": 0,
             "ticks": ""
            },
            "colorscale": [
             [
              0,
              "#0d0887"
             ],
             [
              0.1111111111111111,
              "#46039f"
             ],
             [
              0.2222222222222222,
              "#7201a8"
             ],
             [
              0.3333333333333333,
              "#9c179e"
             ],
             [
              0.4444444444444444,
              "#bd3786"
             ],
             [
              0.5555555555555556,
              "#d8576b"
             ],
             [
              0.6666666666666666,
              "#ed7953"
             ],
             [
              0.7777777777777778,
              "#fb9f3a"
             ],
             [
              0.8888888888888888,
              "#fdca26"
             ],
             [
              1,
              "#f0f921"
             ]
            ],
            "type": "heatmapgl"
           }
          ],
          "histogram": [
           {
            "marker": {
             "pattern": {
              "fillmode": "overlay",
              "size": 10,
              "solidity": 0.2
             }
            },
            "type": "histogram"
           }
          ],
          "histogram2d": [
           {
            "colorbar": {
             "outlinewidth": 0,
             "ticks": ""
            },
            "colorscale": [
             [
              0,
              "#0d0887"
             ],
             [
              0.1111111111111111,
              "#46039f"
             ],
             [
              0.2222222222222222,
              "#7201a8"
             ],
             [
              0.3333333333333333,
              "#9c179e"
             ],
             [
              0.4444444444444444,
              "#bd3786"
             ],
             [
              0.5555555555555556,
              "#d8576b"
             ],
             [
              0.6666666666666666,
              "#ed7953"
             ],
             [
              0.7777777777777778,
              "#fb9f3a"
             ],
             [
              0.8888888888888888,
              "#fdca26"
             ],
             [
              1,
              "#f0f921"
             ]
            ],
            "type": "histogram2d"
           }
          ],
          "histogram2dcontour": [
           {
            "colorbar": {
             "outlinewidth": 0,
             "ticks": ""
            },
            "colorscale": [
             [
              0,
              "#0d0887"
             ],
             [
              0.1111111111111111,
              "#46039f"
             ],
             [
              0.2222222222222222,
              "#7201a8"
             ],
             [
              0.3333333333333333,
              "#9c179e"
             ],
             [
              0.4444444444444444,
              "#bd3786"
             ],
             [
              0.5555555555555556,
              "#d8576b"
             ],
             [
              0.6666666666666666,
              "#ed7953"
             ],
             [
              0.7777777777777778,
              "#fb9f3a"
             ],
             [
              0.8888888888888888,
              "#fdca26"
             ],
             [
              1,
              "#f0f921"
             ]
            ],
            "type": "histogram2dcontour"
           }
          ],
          "mesh3d": [
           {
            "colorbar": {
             "outlinewidth": 0,
             "ticks": ""
            },
            "type": "mesh3d"
           }
          ],
          "parcoords": [
           {
            "line": {
             "colorbar": {
              "outlinewidth": 0,
              "ticks": ""
             }
            },
            "type": "parcoords"
           }
          ],
          "pie": [
           {
            "automargin": true,
            "type": "pie"
           }
          ],
          "scatter": [
           {
            "marker": {
             "line": {
              "color": "#283442"
             }
            },
            "type": "scatter"
           }
          ],
          "scatter3d": [
           {
            "line": {
             "colorbar": {
              "outlinewidth": 0,
              "ticks": ""
             }
            },
            "marker": {
             "colorbar": {
              "outlinewidth": 0,
              "ticks": ""
             }
            },
            "type": "scatter3d"
           }
          ],
          "scattercarpet": [
           {
            "marker": {
             "colorbar": {
              "outlinewidth": 0,
              "ticks": ""
             }
            },
            "type": "scattercarpet"
           }
          ],
          "scattergeo": [
           {
            "marker": {
             "colorbar": {
              "outlinewidth": 0,
              "ticks": ""
             }
            },
            "type": "scattergeo"
           }
          ],
          "scattergl": [
           {
            "marker": {
             "line": {
              "color": "#283442"
             }
            },
            "type": "scattergl"
           }
          ],
          "scattermapbox": [
           {
            "marker": {
             "colorbar": {
              "outlinewidth": 0,
              "ticks": ""
             }
            },
            "type": "scattermapbox"
           }
          ],
          "scatterpolar": [
           {
            "marker": {
             "colorbar": {
              "outlinewidth": 0,
              "ticks": ""
             }
            },
            "type": "scatterpolar"
           }
          ],
          "scatterpolargl": [
           {
            "marker": {
             "colorbar": {
              "outlinewidth": 0,
              "ticks": ""
             }
            },
            "type": "scatterpolargl"
           }
          ],
          "scatterternary": [
           {
            "marker": {
             "colorbar": {
              "outlinewidth": 0,
              "ticks": ""
             }
            },
            "type": "scatterternary"
           }
          ],
          "surface": [
           {
            "colorbar": {
             "outlinewidth": 0,
             "ticks": ""
            },
            "colorscale": [
             [
              0,
              "#0d0887"
             ],
             [
              0.1111111111111111,
              "#46039f"
             ],
             [
              0.2222222222222222,
              "#7201a8"
             ],
             [
              0.3333333333333333,
              "#9c179e"
             ],
             [
              0.4444444444444444,
              "#bd3786"
             ],
             [
              0.5555555555555556,
              "#d8576b"
             ],
             [
              0.6666666666666666,
              "#ed7953"
             ],
             [
              0.7777777777777778,
              "#fb9f3a"
             ],
             [
              0.8888888888888888,
              "#fdca26"
             ],
             [
              1,
              "#f0f921"
             ]
            ],
            "type": "surface"
           }
          ],
          "table": [
           {
            "cells": {
             "fill": {
              "color": "#506784"
             },
             "line": {
              "color": "rgb(17,17,17)"
             }
            },
            "header": {
             "fill": {
              "color": "#2a3f5f"
             },
             "line": {
              "color": "rgb(17,17,17)"
             }
            },
            "type": "table"
           }
          ]
         },
         "layout": {
          "annotationdefaults": {
           "arrowcolor": "#f2f5fa",
           "arrowhead": 0,
           "arrowwidth": 1
          },
          "autotypenumbers": "strict",
          "coloraxis": {
           "colorbar": {
            "outlinewidth": 0,
            "ticks": ""
           }
          },
          "colorscale": {
           "diverging": [
            [
             0,
             "#8e0152"
            ],
            [
             0.1,
             "#c51b7d"
            ],
            [
             0.2,
             "#de77ae"
            ],
            [
             0.3,
             "#f1b6da"
            ],
            [
             0.4,
             "#fde0ef"
            ],
            [
             0.5,
             "#f7f7f7"
            ],
            [
             0.6,
             "#e6f5d0"
            ],
            [
             0.7,
             "#b8e186"
            ],
            [
             0.8,
             "#7fbc41"
            ],
            [
             0.9,
             "#4d9221"
            ],
            [
             1,
             "#276419"
            ]
           ],
           "sequential": [
            [
             0,
             "#0d0887"
            ],
            [
             0.1111111111111111,
             "#46039f"
            ],
            [
             0.2222222222222222,
             "#7201a8"
            ],
            [
             0.3333333333333333,
             "#9c179e"
            ],
            [
             0.4444444444444444,
             "#bd3786"
            ],
            [
             0.5555555555555556,
             "#d8576b"
            ],
            [
             0.6666666666666666,
             "#ed7953"
            ],
            [
             0.7777777777777778,
             "#fb9f3a"
            ],
            [
             0.8888888888888888,
             "#fdca26"
            ],
            [
             1,
             "#f0f921"
            ]
           ],
           "sequentialminus": [
            [
             0,
             "#0d0887"
            ],
            [
             0.1111111111111111,
             "#46039f"
            ],
            [
             0.2222222222222222,
             "#7201a8"
            ],
            [
             0.3333333333333333,
             "#9c179e"
            ],
            [
             0.4444444444444444,
             "#bd3786"
            ],
            [
             0.5555555555555556,
             "#d8576b"
            ],
            [
             0.6666666666666666,
             "#ed7953"
            ],
            [
             0.7777777777777778,
             "#fb9f3a"
            ],
            [
             0.8888888888888888,
             "#fdca26"
            ],
            [
             1,
             "#f0f921"
            ]
           ]
          },
          "colorway": [
           "#636efa",
           "#EF553B",
           "#00cc96",
           "#ab63fa",
           "#FFA15A",
           "#19d3f3",
           "#FF6692",
           "#B6E880",
           "#FF97FF",
           "#FECB52"
          ],
          "font": {
           "color": "#f2f5fa"
          },
          "geo": {
           "bgcolor": "rgb(17,17,17)",
           "lakecolor": "rgb(17,17,17)",
           "landcolor": "rgb(17,17,17)",
           "showlakes": true,
           "showland": true,
           "subunitcolor": "#506784"
          },
          "hoverlabel": {
           "align": "left"
          },
          "hovermode": "closest",
          "mapbox": {
           "style": "dark"
          },
          "paper_bgcolor": "rgb(17,17,17)",
          "plot_bgcolor": "rgb(17,17,17)",
          "polar": {
           "angularaxis": {
            "gridcolor": "#506784",
            "linecolor": "#506784",
            "ticks": ""
           },
           "bgcolor": "rgb(17,17,17)",
           "radialaxis": {
            "gridcolor": "#506784",
            "linecolor": "#506784",
            "ticks": ""
           }
          },
          "scene": {
           "xaxis": {
            "backgroundcolor": "rgb(17,17,17)",
            "gridcolor": "#506784",
            "gridwidth": 2,
            "linecolor": "#506784",
            "showbackground": true,
            "ticks": "",
            "zerolinecolor": "#C8D4E3"
           },
           "yaxis": {
            "backgroundcolor": "rgb(17,17,17)",
            "gridcolor": "#506784",
            "gridwidth": 2,
            "linecolor": "#506784",
            "showbackground": true,
            "ticks": "",
            "zerolinecolor": "#C8D4E3"
           },
           "zaxis": {
            "backgroundcolor": "rgb(17,17,17)",
            "gridcolor": "#506784",
            "gridwidth": 2,
            "linecolor": "#506784",
            "showbackground": true,
            "ticks": "",
            "zerolinecolor": "#C8D4E3"
           }
          },
          "shapedefaults": {
           "line": {
            "color": "#f2f5fa"
           }
          },
          "sliderdefaults": {
           "bgcolor": "#C8D4E3",
           "bordercolor": "rgb(17,17,17)",
           "borderwidth": 1,
           "tickwidth": 0
          },
          "ternary": {
           "aaxis": {
            "gridcolor": "#506784",
            "linecolor": "#506784",
            "ticks": ""
           },
           "baxis": {
            "gridcolor": "#506784",
            "linecolor": "#506784",
            "ticks": ""
           },
           "bgcolor": "rgb(17,17,17)",
           "caxis": {
            "gridcolor": "#506784",
            "linecolor": "#506784",
            "ticks": ""
           }
          },
          "title": {
           "x": 0.05
          },
          "updatemenudefaults": {
           "bgcolor": "#506784",
           "borderwidth": 0
          },
          "xaxis": {
           "automargin": true,
           "gridcolor": "#283442",
           "linecolor": "#506784",
           "ticks": "",
           "title": {
            "standoff": 15
           },
           "zerolinecolor": "#283442",
           "zerolinewidth": 2
          },
          "yaxis": {
           "automargin": true,
           "gridcolor": "#283442",
           "linecolor": "#506784",
           "ticks": "",
           "title": {
            "standoff": 15
           },
           "zerolinecolor": "#283442",
           "zerolinewidth": 2
          }
         }
        },
        "title": {
         "text": " Top 10 customers with highest number of referrals and total revenue"
        },
        "xaxis": {
         "anchor": "y",
         "domain": [
          0,
          1
         ],
         "title": {
          "text": "Customer ID"
         }
        },
        "yaxis": {
         "anchor": "x",
         "domain": [
          0,
          1
         ],
         "title": {
          "text": "Total Revenue"
         }
        }
       }
      }
     },
     "metadata": {},
     "output_type": "display_data"
    }
   ],
   "source": [
    "#Let`s visualize the table above\n",
    "px.data.gapminder()\n",
    "for templates in ['plotly_dark']:\n",
    " highest_no_rev_fig=px.bar(rev10, x='Customer ID', y='Total Revenue',color_discrete_sequence=px.colors.sequential.RdBu,\n",
    "  title=' Top 10 customers with highest number of referrals and total revenue', template=templates)\n",
    "highest_no_rev_fig.show()"
   ]
  },
  {
   "cell_type": "code",
   "execution_count": 73,
   "metadata": {},
   "outputs": [
    {
     "data": {
      "application/vnd.plotly.v1+json": {
       "config": {
        "plotlyServerURL": "https://plot.ly"
       },
       "data": [
        {
         "domain": {
          "x": [
           0,
           1
          ],
          "y": [
           0,
           1
          ]
         },
         "hole": 0.4,
         "hovertemplate": "Married=%{label}<br>Total Revenue=%{value}<extra></extra>",
         "labels": [
          "No",
          "Yes",
          "Yes",
          "Yes",
          "Yes",
          "No",
          "Yes",
          "Yes",
          "Yes",
          "No",
          "Yes",
          "Yes",
          "Yes",
          "Yes",
          "Yes",
          "Yes",
          "Yes",
          "Yes",
          "No",
          "No",
          "Yes",
          "Yes",
          "Yes",
          "Yes",
          "No",
          "Yes",
          "Yes",
          "No",
          "Yes",
          "No",
          "Yes",
          "Yes",
          "Yes",
          "Yes",
          "Yes",
          "Yes",
          "No",
          "Yes",
          "Yes",
          "Yes",
          "Yes",
          "No",
          "Yes",
          "Yes",
          "Yes",
          "Yes",
          "Yes",
          "No",
          "No",
          "Yes",
          "Yes",
          "Yes",
          "Yes",
          "No",
          "Yes",
          "Yes",
          "Yes",
          "Yes",
          "No",
          "Yes",
          "Yes",
          "No",
          "Yes",
          "Yes",
          "Yes",
          "Yes",
          "Yes",
          "Yes",
          "Yes",
          "Yes",
          "Yes",
          "Yes",
          "Yes",
          "Yes",
          "Yes",
          "No",
          "Yes",
          "Yes",
          "Yes",
          "Yes",
          "Yes",
          "Yes",
          "Yes",
          "Yes",
          "Yes",
          "Yes",
          "Yes",
          "No",
          "Yes",
          "Yes",
          "No",
          "Yes",
          "Yes",
          "Yes",
          "No",
          "Yes",
          "Yes",
          "No",
          "Yes",
          "Yes",
          "Yes",
          "Yes",
          "Yes",
          "Yes",
          "Yes",
          "No",
          "No",
          "Yes",
          "No",
          "Yes",
          "Yes",
          "Yes",
          "No",
          "Yes",
          "Yes",
          "Yes",
          "Yes",
          "No",
          "Yes",
          "Yes",
          "Yes",
          "Yes",
          "Yes",
          "Yes",
          "Yes",
          "Yes",
          "No",
          "Yes",
          "Yes",
          "Yes",
          "Yes",
          "Yes",
          "No",
          "Yes",
          "No",
          "No",
          "Yes",
          "Yes",
          "Yes",
          "Yes",
          "Yes",
          "Yes",
          "Yes",
          "No",
          "Yes",
          "No",
          "No",
          "Yes",
          "Yes",
          "Yes",
          "Yes",
          "No",
          "Yes",
          "Yes",
          "Yes",
          "No",
          "No",
          "Yes",
          "Yes",
          "No",
          "Yes",
          "Yes",
          "Yes",
          "Yes",
          "Yes",
          "No",
          "Yes",
          "No",
          "Yes",
          "Yes",
          "Yes",
          "Yes",
          "No",
          "Yes",
          "Yes",
          "Yes",
          "No",
          "Yes",
          "Yes",
          "Yes",
          "Yes",
          "Yes",
          "Yes",
          "Yes",
          "Yes",
          "No",
          "Yes",
          "Yes",
          "Yes",
          "Yes",
          "No",
          "Yes",
          "No",
          "Yes",
          "No",
          "Yes",
          "No",
          "Yes",
          "Yes",
          "Yes",
          "No",
          "Yes",
          "Yes",
          "Yes",
          "No",
          "Yes",
          "No",
          "Yes",
          "Yes",
          "Yes",
          "No",
          "Yes",
          "Yes",
          "Yes",
          "Yes",
          "No",
          "Yes",
          "Yes",
          "Yes",
          "Yes",
          "No",
          "Yes",
          "Yes",
          "Yes",
          "Yes",
          "Yes",
          "No",
          "Yes",
          "Yes",
          "Yes",
          "Yes",
          "No",
          "Yes",
          "Yes",
          "Yes",
          "Yes",
          "Yes",
          "Yes",
          "Yes",
          "Yes",
          "Yes",
          "No",
          "No",
          "Yes",
          "Yes",
          "Yes",
          "Yes",
          "No",
          "Yes",
          "No",
          "No",
          "Yes",
          "No",
          "No",
          "Yes",
          "Yes",
          "Yes",
          "Yes",
          "Yes",
          "No",
          "Yes",
          "Yes",
          "Yes",
          "Yes",
          "Yes",
          "Yes",
          "Yes",
          "No",
          "Yes",
          "Yes",
          "Yes",
          "Yes",
          "Yes",
          "Yes",
          "Yes",
          "Yes",
          "Yes",
          "Yes",
          "Yes",
          "Yes",
          "Yes",
          "Yes",
          "Yes",
          "No",
          "No",
          "No",
          "Yes",
          "Yes",
          "Yes",
          "Yes",
          "Yes",
          "Yes",
          "Yes",
          "Yes",
          "Yes",
          "Yes",
          "Yes",
          "Yes",
          "Yes",
          "Yes",
          "Yes",
          "Yes",
          "Yes",
          "Yes",
          "Yes",
          "No",
          "Yes",
          "Yes",
          "Yes",
          "Yes",
          "Yes",
          "Yes",
          "Yes",
          "Yes",
          "No",
          "Yes",
          "Yes",
          "Yes",
          "Yes",
          "Yes",
          "No",
          "Yes",
          "Yes",
          "Yes",
          "Yes",
          "Yes",
          "Yes",
          "Yes",
          "Yes",
          "Yes",
          "Yes",
          "Yes",
          "Yes",
          "Yes",
          "No",
          "Yes",
          "Yes",
          "Yes",
          "Yes",
          "Yes",
          "Yes",
          "Yes",
          "No",
          "Yes",
          "Yes",
          "Yes",
          "Yes",
          "No",
          "Yes",
          "Yes",
          "No",
          "Yes",
          "Yes",
          "No",
          "Yes",
          "Yes",
          "Yes",
          "Yes",
          "Yes",
          "Yes",
          "Yes",
          "No",
          "Yes",
          "No",
          "Yes",
          "Yes",
          "Yes",
          "Yes",
          "No",
          "Yes",
          "Yes",
          "Yes",
          "No",
          "Yes",
          "Yes",
          "No",
          "Yes",
          "Yes",
          "No",
          "No",
          "Yes",
          "Yes",
          "Yes",
          "Yes",
          "Yes",
          "Yes",
          "No",
          "No",
          "Yes",
          "Yes",
          "Yes",
          "Yes",
          "Yes",
          "Yes",
          "Yes",
          "Yes",
          "Yes",
          "Yes",
          "Yes",
          "No",
          "Yes",
          "Yes",
          "Yes",
          "Yes",
          "Yes",
          "No",
          "No",
          "Yes",
          "Yes",
          "Yes",
          "No",
          "Yes",
          "Yes",
          "Yes",
          "Yes",
          "Yes",
          "Yes",
          "Yes",
          "No",
          "Yes",
          "Yes",
          "No",
          "Yes",
          "Yes",
          "Yes",
          "No",
          "Yes",
          "Yes",
          "No",
          "Yes",
          "Yes",
          "Yes",
          "Yes",
          "Yes",
          "Yes",
          "Yes",
          "No",
          "Yes",
          "Yes",
          "Yes",
          "Yes",
          "Yes",
          "No",
          "Yes",
          "Yes",
          "Yes",
          "Yes",
          "Yes",
          "Yes",
          "Yes",
          "Yes",
          "Yes",
          "Yes",
          "Yes",
          "Yes",
          "No",
          "Yes",
          "Yes",
          "Yes",
          "Yes",
          "Yes",
          "Yes",
          "No",
          "No",
          "Yes",
          "Yes",
          "Yes",
          "Yes",
          "Yes",
          "Yes",
          "Yes",
          "Yes",
          "Yes",
          "Yes",
          "Yes",
          "Yes",
          "No",
          "Yes",
          "Yes",
          "No",
          "Yes",
          "Yes",
          "Yes",
          "Yes",
          "Yes",
          "Yes",
          "Yes",
          "Yes",
          "Yes",
          "Yes",
          "Yes",
          "Yes",
          "Yes",
          "No",
          "Yes",
          "Yes",
          "Yes",
          "Yes",
          "No",
          "Yes",
          "Yes",
          "Yes",
          "No",
          "No",
          "No",
          "No",
          "Yes",
          "Yes",
          "Yes",
          "Yes",
          "Yes",
          "Yes",
          "Yes",
          "Yes",
          "Yes",
          "No",
          "Yes",
          "Yes",
          "Yes",
          "No",
          "Yes",
          "Yes",
          "Yes",
          "Yes",
          "No",
          "Yes",
          "Yes",
          "Yes",
          "Yes",
          "Yes",
          "Yes",
          "Yes",
          "Yes",
          "Yes",
          "Yes",
          "Yes",
          "Yes",
          "Yes",
          "Yes",
          "No",
          "No",
          "No",
          "No",
          "Yes",
          "Yes",
          "No",
          "No",
          "No",
          "No",
          "Yes",
          "Yes",
          "No",
          "No",
          "Yes",
          "Yes",
          "Yes",
          "Yes",
          "No",
          "Yes",
          "No",
          "Yes",
          "Yes",
          "No",
          "Yes",
          "Yes",
          "Yes",
          "No",
          "No",
          "No",
          "Yes",
          "Yes",
          "Yes",
          "Yes",
          "Yes",
          "No",
          "Yes",
          "No",
          "No",
          "Yes",
          "Yes",
          "Yes",
          "Yes",
          "No",
          "No",
          "No",
          "Yes",
          "Yes",
          "Yes",
          "Yes",
          "Yes",
          "No",
          "Yes",
          "Yes",
          "Yes",
          "Yes",
          "Yes",
          "No",
          "Yes",
          "Yes",
          "Yes",
          "No",
          "Yes",
          "No",
          "Yes",
          "No",
          "Yes",
          "Yes",
          "No",
          "Yes",
          "Yes",
          "Yes",
          "Yes",
          "Yes",
          "Yes",
          "Yes",
          "Yes",
          "Yes",
          "Yes",
          "Yes",
          "Yes",
          "Yes",
          "Yes",
          "Yes",
          "No",
          "Yes",
          "Yes",
          "No",
          "No",
          "Yes",
          "Yes",
          "Yes",
          "Yes",
          "No",
          "Yes",
          "Yes",
          "Yes",
          "Yes",
          "Yes",
          "Yes",
          "Yes",
          "Yes",
          "Yes",
          "Yes",
          "Yes",
          "Yes",
          "Yes",
          "Yes",
          "Yes",
          "Yes",
          "Yes",
          "Yes",
          "Yes",
          "Yes",
          "Yes",
          "Yes",
          "Yes",
          "Yes",
          "No",
          "No",
          "Yes",
          "Yes",
          "No",
          "Yes",
          "No",
          "Yes",
          "No",
          "Yes",
          "Yes",
          "Yes",
          "Yes",
          "Yes",
          "Yes",
          "Yes",
          "No",
          "No",
          "Yes",
          "No",
          "Yes",
          "Yes",
          "Yes",
          "Yes",
          "Yes",
          "No",
          "Yes",
          "No",
          "Yes",
          "Yes",
          "Yes",
          "Yes",
          "Yes",
          "Yes",
          "No",
          "No",
          "Yes",
          "No",
          "No",
          "Yes",
          "Yes",
          "No",
          "No",
          "Yes",
          "Yes",
          "No",
          "No",
          "Yes",
          "No",
          "Yes",
          "Yes",
          "Yes",
          "No",
          "Yes",
          "Yes",
          "No",
          "Yes",
          "Yes",
          "Yes",
          "Yes",
          "Yes",
          "Yes",
          "Yes",
          "No",
          "No",
          "Yes",
          "Yes",
          "Yes",
          "No",
          "No",
          "Yes",
          "No",
          "Yes",
          "Yes",
          "Yes",
          "Yes",
          "Yes",
          "No",
          "Yes",
          "Yes",
          "Yes",
          "Yes",
          "No",
          "Yes",
          "No",
          "No",
          "Yes",
          "Yes",
          "Yes",
          "Yes",
          "No",
          "No",
          "No",
          "Yes",
          "Yes",
          "No",
          "No",
          "Yes",
          "Yes",
          "Yes",
          "Yes",
          "Yes",
          "Yes",
          "Yes",
          "No",
          "Yes",
          "Yes",
          "Yes",
          "Yes",
          "Yes",
          "No",
          "Yes",
          "Yes",
          "Yes",
          "Yes",
          "Yes",
          "Yes",
          "No",
          "No",
          "No",
          "Yes",
          "Yes",
          "No",
          "Yes",
          "Yes",
          "No",
          "Yes",
          "No",
          "Yes",
          "Yes",
          "Yes",
          "Yes",
          "No",
          "Yes",
          "Yes",
          "Yes",
          "Yes",
          "Yes",
          "Yes",
          "Yes",
          "Yes",
          "Yes",
          "No",
          "No",
          "Yes",
          "No",
          "Yes",
          "No",
          "Yes",
          "Yes",
          "Yes",
          "Yes",
          "Yes",
          "No",
          "No",
          "Yes",
          "Yes",
          "No",
          "Yes",
          "Yes",
          "Yes",
          "No",
          "No",
          "No",
          "Yes",
          "Yes",
          "Yes",
          "Yes",
          "Yes",
          "No",
          "Yes",
          "Yes",
          "Yes",
          "Yes",
          "No",
          "Yes",
          "No",
          "Yes",
          "Yes",
          "Yes",
          "Yes",
          "Yes",
          "Yes",
          "Yes",
          "Yes",
          "Yes",
          "Yes",
          "Yes",
          "Yes",
          "Yes",
          "No",
          "Yes",
          "Yes",
          "No",
          "No",
          "Yes",
          "Yes",
          "Yes",
          "Yes",
          "Yes",
          "Yes",
          "Yes",
          "No",
          "No",
          "Yes",
          "No",
          "No",
          "Yes",
          "No",
          "Yes",
          "Yes",
          "Yes",
          "Yes",
          "Yes",
          "Yes",
          "No",
          "No",
          "No",
          "Yes",
          "Yes",
          "No",
          "No",
          "Yes",
          "Yes",
          "No",
          "No",
          "Yes",
          "Yes",
          "No",
          "Yes",
          "Yes",
          "Yes",
          "Yes",
          "No",
          "Yes",
          "Yes",
          "No",
          "Yes",
          "Yes",
          "No",
          "Yes",
          "No",
          "Yes",
          "Yes",
          "Yes",
          "No",
          "Yes",
          "No",
          "No",
          "Yes",
          "Yes",
          "Yes",
          "Yes",
          "Yes",
          "Yes",
          "No",
          "Yes",
          "No",
          "Yes",
          "Yes",
          "Yes",
          "Yes",
          "Yes",
          "No",
          "No",
          "Yes",
          "Yes",
          "No",
          "Yes",
          "Yes",
          "Yes",
          "No",
          "Yes",
          "No",
          "Yes",
          "Yes",
          "No",
          "Yes",
          "Yes",
          "No",
          "Yes",
          "Yes",
          "Yes",
          "No",
          "No",
          "Yes",
          "Yes",
          "Yes",
          "Yes",
          "Yes",
          "Yes",
          "Yes",
          "Yes",
          "Yes",
          "Yes",
          "Yes",
          "Yes",
          "Yes",
          "No",
          "Yes",
          "No",
          "Yes",
          "Yes",
          "Yes",
          "Yes",
          "Yes",
          "Yes",
          "Yes",
          "Yes",
          "No",
          "Yes",
          "No",
          "No",
          "Yes",
          "Yes",
          "Yes",
          "No",
          "No",
          "No",
          "No",
          "Yes",
          "Yes",
          "Yes",
          "No",
          "No",
          "No",
          "Yes",
          "Yes",
          "Yes",
          "Yes",
          "Yes",
          "Yes",
          "Yes",
          "No",
          "Yes",
          "Yes",
          "No",
          "Yes",
          "No",
          "No",
          "No",
          "Yes",
          "Yes",
          "Yes",
          "No",
          "Yes",
          "Yes",
          "No",
          "Yes",
          "Yes",
          "Yes",
          "No",
          "Yes",
          "Yes",
          "Yes",
          "No",
          "Yes",
          "Yes",
          "No",
          "Yes",
          "No",
          "Yes",
          "No",
          "Yes",
          "Yes",
          "Yes",
          "Yes",
          "Yes",
          "Yes",
          "Yes",
          "Yes",
          "Yes",
          "Yes",
          "No",
          "Yes",
          "Yes",
          "Yes",
          "Yes",
          "Yes",
          "No",
          "Yes",
          "No",
          "Yes",
          "Yes",
          "Yes",
          "No",
          "Yes",
          "No",
          "No",
          "Yes",
          "Yes",
          "Yes",
          "No",
          "Yes",
          "No",
          "Yes",
          "No",
          "Yes",
          "Yes",
          "Yes",
          "Yes",
          "No",
          "No",
          "Yes",
          "Yes",
          "Yes",
          "Yes",
          "Yes",
          "No",
          "Yes",
          "Yes",
          "Yes",
          "Yes",
          "Yes",
          "No",
          "Yes",
          "No",
          "Yes",
          "Yes",
          "Yes",
          "No",
          "No",
          "Yes",
          "Yes",
          "No",
          "Yes",
          "Yes",
          "No",
          "Yes",
          "Yes",
          "Yes",
          "Yes",
          "No",
          "Yes",
          "No",
          "No",
          "No",
          "Yes",
          "Yes",
          "No",
          "No",
          "Yes",
          "Yes",
          "Yes",
          "Yes",
          "Yes",
          "Yes",
          "Yes",
          "Yes",
          "No",
          "No",
          "Yes",
          "Yes",
          "Yes",
          "No",
          "Yes",
          "Yes",
          "Yes",
          "No",
          "Yes",
          "Yes",
          "Yes",
          "No",
          "Yes",
          "No",
          "Yes",
          "Yes",
          "No",
          "No",
          "Yes",
          "Yes",
          "Yes",
          "Yes",
          "Yes",
          "Yes",
          "Yes",
          "Yes",
          "No",
          "No",
          "No",
          "Yes",
          "Yes",
          "Yes",
          "No",
          "Yes",
          "No",
          "No",
          "No",
          "No",
          "No",
          "Yes",
          "Yes",
          "Yes",
          "No",
          "No",
          "No",
          "Yes",
          "No",
          "Yes",
          "Yes",
          "Yes",
          "Yes",
          "Yes",
          "Yes",
          "Yes",
          "Yes",
          "Yes",
          "Yes",
          "No",
          "Yes",
          "No",
          "No",
          "Yes",
          "Yes",
          "Yes",
          "No",
          "No",
          "Yes",
          "Yes",
          "No",
          "Yes",
          "No",
          "No",
          "No",
          "Yes",
          "Yes",
          "No",
          "Yes",
          "Yes",
          "Yes",
          "Yes",
          "Yes",
          "No",
          "Yes",
          "Yes",
          "No",
          "No",
          "Yes",
          "Yes",
          "Yes",
          "Yes",
          "No",
          "Yes",
          "No",
          "Yes",
          "No",
          "Yes",
          "No",
          "No",
          "Yes",
          "No",
          "Yes",
          "No",
          "No",
          "Yes",
          "Yes",
          "No",
          "Yes",
          "No",
          "No",
          "No",
          "Yes",
          "No",
          "Yes",
          "Yes",
          "No",
          "Yes",
          "No",
          "Yes",
          "No",
          "Yes",
          "Yes",
          "Yes",
          "Yes",
          "No",
          "Yes",
          "Yes",
          "No",
          "No",
          "Yes",
          "Yes",
          "Yes",
          "No",
          "No",
          "No",
          "Yes",
          "Yes",
          "No",
          "Yes",
          "Yes",
          "No",
          "No",
          "No",
          "Yes",
          "Yes",
          "Yes",
          "Yes",
          "Yes",
          "Yes",
          "Yes",
          "Yes",
          "Yes",
          "Yes",
          "No",
          "No",
          "Yes",
          "Yes",
          "Yes",
          "Yes",
          "Yes",
          "No",
          "Yes",
          "Yes",
          "Yes",
          "Yes",
          "Yes",
          "No",
          "No",
          "Yes",
          "No",
          "Yes",
          "No",
          "No",
          "Yes",
          "No",
          "Yes",
          "Yes",
          "No",
          "No",
          "Yes",
          "No",
          "Yes",
          "Yes",
          "Yes",
          "Yes",
          "Yes",
          "No",
          "No",
          "Yes",
          "Yes",
          "No",
          "Yes",
          "No",
          "No",
          "Yes",
          "Yes",
          "No",
          "Yes",
          "Yes",
          "Yes",
          "Yes",
          "No",
          "Yes",
          "Yes",
          "No",
          "Yes",
          "No",
          "No",
          "Yes",
          "Yes",
          "Yes",
          "Yes",
          "No",
          "Yes",
          "Yes",
          "Yes",
          "Yes",
          "No",
          "Yes",
          "Yes",
          "Yes",
          "No",
          "Yes",
          "No",
          "Yes",
          "Yes",
          "No",
          "No",
          "No",
          "No",
          "No",
          "Yes",
          "No",
          "Yes",
          "No",
          "Yes",
          "Yes",
          "Yes",
          "Yes",
          "No",
          "No",
          "No",
          "Yes",
          "Yes",
          "Yes",
          "Yes",
          "No",
          "No",
          "Yes",
          "No",
          "Yes",
          "Yes",
          "Yes",
          "Yes",
          "Yes",
          "Yes",
          "Yes",
          "No",
          "Yes",
          "No",
          "Yes",
          "No",
          "Yes",
          "No",
          "No",
          "Yes",
          "No",
          "No",
          "Yes",
          "No",
          "No",
          "No",
          "Yes",
          "Yes",
          "No",
          "Yes",
          "Yes",
          "No",
          "Yes",
          "Yes",
          "No",
          "No",
          "No",
          "Yes",
          "Yes",
          "Yes",
          "Yes",
          "Yes",
          "Yes",
          "No",
          "Yes",
          "No",
          "Yes",
          "Yes",
          "Yes",
          "Yes",
          "Yes",
          "No",
          "Yes",
          "No",
          "No",
          "No",
          "Yes",
          "No",
          "No",
          "Yes",
          "Yes",
          "No",
          "No",
          "Yes",
          "Yes",
          "Yes",
          "Yes",
          "Yes",
          "Yes",
          "Yes",
          "Yes",
          "Yes",
          "No",
          "Yes",
          "Yes",
          "Yes",
          "No",
          "Yes",
          "No",
          "Yes",
          "No",
          "Yes",
          "No",
          "No",
          "No",
          "No",
          "Yes",
          "Yes",
          "No",
          "No",
          "No",
          "Yes",
          "Yes",
          "No",
          "Yes",
          "No",
          "No",
          "No",
          "Yes",
          "Yes",
          "No",
          "Yes",
          "Yes",
          "No",
          "Yes",
          "Yes",
          "No",
          "No",
          "Yes",
          "No",
          "No",
          "Yes",
          "Yes",
          "Yes",
          "No",
          "No",
          "No",
          "Yes",
          "Yes",
          "No",
          "No",
          "No",
          "Yes",
          "Yes",
          "Yes",
          "Yes",
          "Yes",
          "No",
          "Yes",
          "No",
          "Yes",
          "No",
          "Yes",
          "Yes",
          "Yes",
          "Yes",
          "Yes",
          "Yes",
          "Yes",
          "Yes",
          "Yes",
          "Yes",
          "No",
          "No",
          "No",
          "No",
          "No",
          "Yes",
          "Yes",
          "Yes",
          "Yes",
          "Yes",
          "Yes",
          "No",
          "Yes",
          "Yes",
          "No",
          "Yes",
          "Yes",
          "Yes",
          "No",
          "Yes",
          "Yes",
          "Yes",
          "Yes",
          "Yes",
          "Yes",
          "Yes",
          "Yes",
          "Yes",
          "Yes",
          "Yes",
          "Yes",
          "No",
          "Yes",
          "Yes",
          "No",
          "Yes",
          "Yes",
          "Yes",
          "Yes",
          "No",
          "Yes",
          "Yes",
          "No",
          "Yes",
          "Yes",
          "Yes",
          "No",
          "No",
          "No",
          "Yes",
          "Yes",
          "Yes",
          "Yes",
          "Yes",
          "Yes",
          "Yes",
          "Yes",
          "Yes",
          "Yes",
          "Yes",
          "Yes",
          "Yes",
          "Yes",
          "No",
          "Yes",
          "No",
          "No",
          "No",
          "No",
          "Yes",
          "No",
          "Yes",
          "No",
          "No",
          "No",
          "Yes",
          "No",
          "Yes",
          "No",
          "Yes",
          "No",
          "No",
          "Yes",
          "Yes",
          "No",
          "Yes",
          "Yes",
          "No",
          "Yes",
          "Yes",
          "No",
          "No",
          "Yes",
          "No",
          "No",
          "Yes",
          "Yes",
          "Yes",
          "No",
          "Yes",
          "No",
          "Yes",
          "Yes",
          "Yes",
          "Yes",
          "No",
          "Yes",
          "No",
          "Yes",
          "Yes",
          "No",
          "No",
          "Yes",
          "Yes",
          "No",
          "No",
          "No",
          "Yes",
          "Yes",
          "Yes",
          "Yes",
          "No",
          "Yes",
          "No",
          "Yes",
          "Yes",
          "Yes",
          "No",
          "No",
          "No",
          "No",
          "Yes",
          "Yes",
          "Yes",
          "Yes",
          "No",
          "Yes",
          "Yes",
          "Yes",
          "Yes",
          "No",
          "Yes",
          "Yes",
          "Yes",
          "Yes",
          "No",
          "Yes",
          "Yes",
          "Yes",
          "Yes",
          "Yes",
          "Yes",
          "Yes",
          "Yes",
          "Yes",
          "Yes",
          "No",
          "No",
          "No",
          "No",
          "Yes",
          "Yes",
          "No",
          "Yes",
          "Yes",
          "No",
          "No",
          "Yes",
          "Yes",
          "Yes",
          "Yes",
          "Yes",
          "Yes",
          "Yes",
          "Yes",
          "No",
          "No",
          "Yes",
          "No",
          "Yes",
          "Yes",
          "Yes",
          "Yes",
          "No",
          "Yes",
          "No",
          "No",
          "No",
          "No",
          "No",
          "Yes",
          "No",
          "No",
          "No",
          "Yes",
          "Yes",
          "Yes",
          "No",
          "Yes",
          "Yes",
          "Yes",
          "Yes",
          "Yes",
          "Yes",
          "Yes",
          "Yes",
          "Yes",
          "No",
          "Yes",
          "Yes",
          "Yes",
          "No",
          "Yes",
          "No",
          "Yes",
          "No",
          "Yes",
          "No",
          "No",
          "No",
          "Yes",
          "No",
          "No",
          "Yes",
          "No",
          "No",
          "No",
          "Yes",
          "Yes",
          "No",
          "Yes",
          "Yes",
          "No",
          "Yes",
          "Yes",
          "No",
          "No",
          "No",
          "No",
          "No",
          "No",
          "Yes",
          "Yes",
          "Yes",
          "No",
          "Yes",
          "No",
          "Yes",
          "No",
          "Yes",
          "No",
          "No",
          "Yes",
          "Yes",
          "No",
          "No",
          "Yes",
          "No",
          "Yes",
          "No",
          "Yes",
          "Yes",
          "Yes",
          "Yes",
          "Yes",
          "Yes",
          "Yes",
          "Yes",
          "Yes",
          "Yes",
          "No",
          "Yes",
          "Yes",
          "Yes",
          "Yes",
          "No",
          "Yes",
          "Yes",
          "Yes",
          "No",
          "Yes",
          "Yes",
          "Yes",
          "No",
          "Yes",
          "No",
          "No",
          "No",
          "No",
          "No",
          "Yes",
          "No",
          "Yes",
          "Yes",
          "Yes",
          "Yes",
          "Yes",
          "Yes",
          "Yes",
          "Yes",
          "No",
          "Yes",
          "Yes",
          "No",
          "Yes",
          "Yes",
          "No",
          "No",
          "No",
          "Yes",
          "Yes",
          "No",
          "Yes",
          "Yes",
          "No",
          "Yes",
          "No",
          "Yes",
          "No",
          "Yes",
          "Yes",
          "No",
          "Yes",
          "No",
          "Yes",
          "No",
          "No",
          "Yes",
          "Yes",
          "No",
          "No",
          "Yes",
          "Yes",
          "Yes",
          "Yes",
          "Yes",
          "Yes",
          "Yes",
          "No",
          "Yes",
          "No",
          "Yes",
          "Yes",
          "Yes",
          "Yes",
          "Yes",
          "No",
          "Yes",
          "No",
          "Yes",
          "Yes",
          "Yes",
          "No",
          "Yes",
          "Yes",
          "No",
          "Yes",
          "Yes",
          "Yes",
          "No",
          "Yes",
          "Yes",
          "No",
          "Yes",
          "Yes",
          "No",
          "Yes",
          "Yes",
          "Yes",
          "Yes",
          "Yes",
          "Yes",
          "No",
          "No",
          "No",
          "Yes",
          "No",
          "Yes",
          "No",
          "No",
          "No",
          "Yes",
          "Yes",
          "No",
          "Yes",
          "No",
          "No",
          "Yes",
          "Yes",
          "Yes",
          "Yes",
          "No",
          "No",
          "No",
          "No",
          "Yes",
          "No",
          "Yes",
          "No",
          "No",
          "Yes",
          "No",
          "Yes",
          "Yes",
          "Yes",
          "Yes",
          "Yes",
          "No",
          "Yes",
          "No",
          "No",
          "No",
          "No",
          "Yes",
          "Yes",
          "No",
          "Yes",
          "No",
          "No",
          "Yes",
          "Yes",
          "No",
          "No",
          "Yes",
          "Yes",
          "No",
          "No",
          "No",
          "Yes",
          "No",
          "No",
          "Yes",
          "No",
          "Yes",
          "No",
          "Yes",
          "No",
          "Yes",
          "No",
          "No",
          "Yes",
          "Yes",
          "Yes",
          "Yes",
          "Yes",
          "Yes",
          "Yes",
          "No",
          "No",
          "Yes",
          "Yes",
          "Yes",
          "Yes",
          "No",
          "No",
          "Yes",
          "Yes",
          "No",
          "Yes",
          "Yes",
          "Yes",
          "No",
          "No",
          "Yes",
          "No",
          "Yes",
          "No",
          "No",
          "Yes",
          "No",
          "Yes",
          "No",
          "Yes",
          "No",
          "Yes",
          "Yes",
          "Yes",
          "Yes",
          "Yes",
          "Yes",
          "No",
          "Yes",
          "No",
          "No",
          "No",
          "Yes",
          "Yes",
          "No",
          "No",
          "No",
          "No",
          "Yes",
          "No",
          "No",
          "Yes",
          "Yes",
          "No",
          "No",
          "No",
          "No",
          "Yes",
          "Yes",
          "Yes",
          "Yes",
          "Yes",
          "Yes",
          "No",
          "Yes",
          "Yes",
          "Yes",
          "Yes",
          "Yes",
          "Yes",
          "No",
          "Yes",
          "No",
          "No",
          "No",
          "No",
          "Yes",
          "Yes",
          "Yes",
          "Yes",
          "Yes",
          "Yes",
          "Yes",
          "Yes",
          "Yes",
          "Yes",
          "Yes",
          "No",
          "Yes",
          "Yes",
          "Yes",
          "Yes",
          "Yes",
          "Yes",
          "No",
          "No",
          "Yes",
          "Yes",
          "No",
          "Yes",
          "No",
          "No",
          "No",
          "No",
          "No",
          "Yes",
          "Yes",
          "No",
          "No",
          "No",
          "No",
          "No",
          "Yes",
          "No",
          "Yes",
          "Yes",
          "No",
          "No",
          "No",
          "Yes",
          "Yes",
          "No",
          "Yes",
          "No",
          "Yes",
          "No",
          "No",
          "No",
          "Yes",
          "Yes",
          "Yes",
          "Yes",
          "Yes",
          "Yes",
          "No",
          "Yes",
          "Yes",
          "Yes",
          "Yes",
          "Yes",
          "Yes",
          "No",
          "Yes",
          "No",
          "Yes",
          "No",
          "No",
          "Yes",
          "No",
          "No",
          "No",
          "No",
          "No",
          "No",
          "No",
          "No",
          "Yes",
          "Yes",
          "No",
          "Yes",
          "Yes",
          "Yes",
          "Yes",
          "No",
          "Yes",
          "Yes",
          "No",
          "Yes",
          "Yes",
          "Yes",
          "No",
          "Yes",
          "Yes",
          "Yes",
          "Yes",
          "Yes",
          "Yes",
          "Yes",
          "Yes",
          "Yes",
          "No",
          "Yes",
          "Yes",
          "Yes",
          "No",
          "No",
          "Yes",
          "No",
          "Yes",
          "Yes",
          "Yes",
          "No",
          "Yes",
          "No",
          "Yes",
          "Yes",
          "Yes",
          "No",
          "No",
          "Yes",
          "No",
          "Yes",
          "Yes",
          "Yes",
          "Yes",
          "Yes",
          "No",
          "No",
          "No",
          "Yes",
          "Yes",
          "No",
          "Yes",
          "Yes",
          "Yes",
          "Yes",
          "Yes",
          "No",
          "No",
          "Yes",
          "No",
          "No",
          "No",
          "Yes",
          "No",
          "No",
          "Yes",
          "Yes",
          "No",
          "Yes",
          "No",
          "Yes",
          "Yes",
          "Yes",
          "Yes",
          "No",
          "Yes",
          "Yes",
          "Yes",
          "No",
          "Yes",
          "No",
          "No",
          "Yes",
          "No",
          "Yes",
          "No",
          "Yes",
          "No",
          "Yes",
          "Yes",
          "No",
          "No",
          "Yes",
          "Yes",
          "Yes",
          "Yes",
          "Yes",
          "No",
          "Yes",
          "Yes",
          "Yes",
          "Yes",
          "Yes",
          "Yes",
          "Yes",
          "Yes",
          "Yes",
          "Yes",
          "Yes",
          "Yes",
          "Yes",
          "No",
          "Yes",
          "No",
          "No",
          "No",
          "Yes",
          "Yes",
          "No",
          "No",
          "No",
          "Yes",
          "Yes",
          "No",
          "No",
          "No",
          "Yes",
          "No",
          "Yes",
          "No",
          "No",
          "Yes",
          "No",
          "No",
          "Yes",
          "Yes",
          "No",
          "Yes",
          "Yes",
          "No",
          "No",
          "No",
          "No",
          "Yes",
          "Yes",
          "Yes",
          "Yes",
          "Yes",
          "No",
          "Yes",
          "No",
          "Yes",
          "No",
          "Yes",
          "No",
          "Yes",
          "Yes",
          "Yes",
          "Yes",
          "Yes",
          "Yes",
          "Yes",
          "Yes",
          "Yes",
          "Yes",
          "Yes",
          "Yes",
          "Yes",
          "Yes",
          "No",
          "Yes",
          "Yes",
          "No",
          "Yes",
          "No",
          "Yes",
          "Yes",
          "No",
          "Yes",
          "Yes",
          "Yes",
          "Yes",
          "Yes",
          "No",
          "No",
          "Yes",
          "No",
          "Yes",
          "No",
          "Yes",
          "Yes",
          "No",
          "Yes",
          "Yes",
          "No",
          "No",
          "Yes",
          "No",
          "No",
          "Yes",
          "No",
          "Yes",
          "No",
          "No",
          "No",
          "Yes",
          "No",
          "No",
          "Yes",
          "No",
          "Yes",
          "No",
          "No",
          "No",
          "No",
          "No",
          "Yes",
          "No",
          "No",
          "Yes",
          "Yes",
          "Yes",
          "Yes",
          "Yes",
          "No",
          "Yes",
          "Yes",
          "Yes",
          "No",
          "Yes",
          "No",
          "No",
          "No",
          "Yes",
          "Yes",
          "No",
          "Yes",
          "No",
          "Yes",
          "Yes",
          "No",
          "Yes",
          "Yes",
          "Yes",
          "No",
          "Yes",
          "Yes",
          "Yes",
          "Yes",
          "No",
          "Yes",
          "No",
          "No",
          "Yes",
          "Yes",
          "No",
          "No",
          "Yes",
          "Yes",
          "Yes",
          "Yes",
          "Yes",
          "Yes",
          "No",
          "Yes",
          "No",
          "No",
          "Yes",
          "No",
          "No",
          "Yes",
          "No",
          "No",
          "Yes",
          "Yes",
          "No",
          "Yes",
          "Yes",
          "Yes",
          "Yes",
          "Yes",
          "No",
          "Yes",
          "Yes",
          "Yes",
          "No",
          "No",
          "No",
          "Yes",
          "No",
          "Yes",
          "Yes",
          "No",
          "Yes",
          "Yes",
          "No",
          "Yes",
          "No",
          "Yes",
          "Yes",
          "Yes",
          "No",
          "No",
          "No",
          "No",
          "Yes",
          "No",
          "Yes",
          "Yes",
          "Yes",
          "Yes",
          "Yes",
          "Yes",
          "Yes",
          "No",
          "Yes",
          "No",
          "No",
          "Yes",
          "No",
          "Yes",
          "Yes",
          "No",
          "No",
          "Yes",
          "No",
          "No",
          "Yes",
          "Yes",
          "Yes",
          "Yes",
          "Yes",
          "Yes",
          "No",
          "No",
          "No",
          "No",
          "Yes",
          "Yes",
          "Yes",
          "Yes",
          "Yes",
          "No",
          "Yes",
          "No",
          "Yes",
          "Yes",
          "Yes",
          "Yes",
          "No",
          "No",
          "Yes",
          "Yes",
          "No",
          "Yes",
          "No",
          "Yes",
          "No",
          "No",
          "Yes",
          "No",
          "Yes",
          "No",
          "Yes",
          "Yes",
          "Yes",
          "No",
          "No",
          "Yes",
          "Yes",
          "Yes",
          "No",
          "Yes",
          "No",
          "No",
          "No",
          "Yes",
          "Yes",
          "No",
          "No",
          "Yes",
          "Yes",
          "No",
          "Yes",
          "No",
          "No",
          "No",
          "Yes",
          "No",
          "Yes",
          "No",
          "No",
          "Yes",
          "Yes",
          "Yes",
          "Yes",
          "Yes",
          "No",
          "Yes",
          "No",
          "No",
          "No",
          "No",
          "Yes",
          "No",
          "No",
          "Yes",
          "No",
          "Yes",
          "Yes",
          "Yes",
          "Yes",
          "No",
          "No",
          "No",
          "Yes",
          "Yes",
          "Yes",
          "No",
          "Yes",
          "Yes",
          "No",
          "Yes",
          "No",
          "Yes",
          "Yes",
          "Yes",
          "Yes",
          "No",
          "No",
          "No",
          "Yes",
          "No",
          "Yes",
          "Yes",
          "Yes",
          "Yes",
          "Yes",
          "No",
          "No",
          "Yes",
          "No",
          "Yes",
          "Yes",
          "Yes",
          "Yes",
          "Yes",
          "Yes",
          "No",
          "No",
          "Yes",
          "Yes",
          "No",
          "No",
          "No",
          "Yes",
          "No",
          "No",
          "Yes",
          "No",
          "No",
          "No",
          "Yes",
          "No",
          "No",
          "Yes",
          "Yes",
          "No",
          "Yes",
          "No",
          "No",
          "No",
          "Yes",
          "No",
          "Yes",
          "Yes",
          "Yes",
          "Yes",
          "No",
          "No",
          "Yes",
          "Yes",
          "No",
          "Yes",
          "Yes",
          "No",
          "Yes",
          "No",
          "No",
          "No",
          "Yes",
          "No",
          "Yes",
          "Yes",
          "Yes",
          "No",
          "Yes",
          "Yes",
          "No",
          "No",
          "Yes",
          "Yes",
          "Yes",
          "No",
          "No",
          "Yes",
          "No",
          "No",
          "No",
          "No",
          "Yes",
          "Yes",
          "Yes",
          "No",
          "No",
          "No",
          "Yes",
          "No",
          "Yes",
          "No",
          "Yes",
          "No",
          "No",
          "No",
          "Yes",
          "No",
          "Yes",
          "Yes",
          "No",
          "Yes",
          "Yes",
          "Yes",
          "Yes",
          "No",
          "Yes",
          "Yes",
          "Yes",
          "Yes",
          "Yes",
          "No",
          "Yes",
          "Yes",
          "Yes",
          "No",
          "Yes",
          "Yes",
          "Yes",
          "No",
          "Yes",
          "No",
          "No",
          "No",
          "No",
          "No",
          "Yes",
          "Yes",
          "Yes",
          "No",
          "No",
          "Yes",
          "Yes",
          "Yes",
          "No",
          "Yes",
          "Yes",
          "Yes",
          "No",
          "Yes",
          "No",
          "Yes",
          "No",
          "No",
          "Yes",
          "No",
          "Yes",
          "Yes",
          "No",
          "No",
          "Yes",
          "No",
          "No",
          "No",
          "Yes",
          "No",
          "No",
          "Yes",
          "No",
          "No",
          "Yes",
          "Yes",
          "Yes",
          "Yes",
          "Yes",
          "No",
          "No",
          "Yes",
          "No",
          "Yes",
          "No",
          "Yes",
          "Yes",
          "Yes",
          "Yes",
          "No",
          "No",
          "No",
          "No",
          "Yes",
          "Yes",
          "No",
          "Yes",
          "Yes",
          "No",
          "Yes",
          "Yes",
          "No",
          "No",
          "Yes",
          "Yes",
          "Yes",
          "Yes",
          "Yes",
          "Yes",
          "Yes",
          "Yes",
          "No",
          "Yes",
          "Yes",
          "Yes",
          "Yes",
          "Yes",
          "Yes",
          "No",
          "Yes",
          "Yes",
          "No",
          "Yes",
          "No",
          "Yes",
          "No",
          "Yes",
          "Yes",
          "Yes",
          "No",
          "Yes",
          "No",
          "No",
          "No",
          "No",
          "Yes",
          "Yes",
          "Yes",
          "No",
          "No",
          "Yes",
          "No",
          "No",
          "Yes",
          "No",
          "Yes",
          "Yes",
          "Yes",
          "Yes",
          "Yes",
          "Yes",
          "Yes",
          "No",
          "No",
          "No",
          "Yes",
          "Yes",
          "No",
          "No",
          "No",
          "No",
          "Yes",
          "No",
          "Yes",
          "No",
          "No",
          "Yes",
          "Yes",
          "No",
          "No",
          "No",
          "Yes",
          "Yes",
          "No",
          "Yes",
          "Yes",
          "Yes",
          "Yes",
          "Yes",
          "No",
          "Yes",
          "No",
          "Yes",
          "Yes",
          "No",
          "Yes",
          "No",
          "Yes",
          "No",
          "No",
          "Yes",
          "No",
          "Yes",
          "No",
          "No",
          "Yes",
          "No",
          "Yes",
          "Yes",
          "Yes",
          "No",
          "Yes",
          "No",
          "No",
          "Yes",
          "No",
          "Yes",
          "Yes",
          "Yes",
          "No",
          "No",
          "No",
          "Yes",
          "Yes",
          "Yes",
          "No",
          "No",
          "Yes",
          "No",
          "Yes",
          "Yes",
          "Yes",
          "Yes",
          "Yes",
          "No",
          "Yes",
          "Yes",
          "Yes",
          "Yes",
          "Yes",
          "Yes",
          "No",
          "Yes",
          "No",
          "Yes",
          "Yes",
          "Yes",
          "Yes",
          "No",
          "No",
          "No",
          "Yes",
          "Yes",
          "Yes",
          "No",
          "Yes",
          "Yes",
          "No",
          "Yes",
          "Yes",
          "Yes",
          "Yes",
          "No",
          "No",
          "No",
          "No",
          "No",
          "No",
          "Yes",
          "No",
          "Yes",
          "No",
          "Yes",
          "Yes",
          "No",
          "Yes",
          "Yes",
          "No",
          "No",
          "Yes",
          "No",
          "Yes",
          "No",
          "Yes",
          "Yes",
          "Yes",
          "No",
          "Yes",
          "No",
          "Yes",
          "Yes",
          "Yes",
          "Yes",
          "No",
          "Yes",
          "No",
          "No",
          "Yes",
          "No",
          "Yes",
          "Yes",
          "No",
          "Yes",
          "Yes",
          "No",
          "No",
          "Yes",
          "Yes",
          "No",
          "No",
          "Yes",
          "No",
          "Yes",
          "Yes",
          "Yes",
          "No",
          "Yes",
          "No",
          "No",
          "Yes",
          "Yes",
          "No",
          "No",
          "No",
          "No",
          "No",
          "No",
          "Yes",
          "No",
          "No",
          "No",
          "Yes",
          "Yes",
          "No",
          "No",
          "No",
          "Yes",
          "No",
          "Yes",
          "No",
          "Yes",
          "Yes",
          "Yes",
          "No",
          "No",
          "Yes",
          "No",
          "No",
          "Yes",
          "Yes",
          "Yes",
          "No",
          "No",
          "No",
          "Yes",
          "Yes",
          "No",
          "No",
          "No",
          "Yes",
          "Yes",
          "Yes",
          "Yes",
          "Yes",
          "Yes",
          "No",
          "No",
          "Yes",
          "Yes",
          "Yes",
          "No",
          "No",
          "Yes",
          "Yes",
          "Yes",
          "No",
          "No",
          "Yes",
          "Yes",
          "Yes",
          "No",
          "Yes",
          "No",
          "Yes",
          "Yes",
          "Yes",
          "Yes",
          "No",
          "No",
          "Yes",
          "No",
          "No",
          "No",
          "No",
          "Yes",
          "Yes",
          "Yes",
          "Yes",
          "No",
          "No",
          "Yes",
          "Yes",
          "Yes",
          "No",
          "Yes",
          "No",
          "No",
          "Yes",
          "Yes",
          "Yes",
          "No",
          "No",
          "No",
          "No",
          "No",
          "Yes",
          "No",
          "Yes",
          "No",
          "No",
          "No",
          "Yes",
          "No",
          "No",
          "Yes",
          "Yes",
          "Yes",
          "No",
          "Yes",
          "Yes",
          "No",
          "No",
          "No",
          "No",
          "Yes",
          "Yes",
          "No",
          "Yes",
          "No",
          "No",
          "Yes",
          "Yes",
          "No",
          "Yes",
          "Yes",
          "Yes",
          "Yes",
          "Yes",
          "Yes",
          "Yes",
          "No",
          "No",
          "No",
          "Yes",
          "No",
          "Yes",
          "Yes",
          "No",
          "No",
          "Yes",
          "No",
          "No",
          "No",
          "No",
          "Yes",
          "No",
          "No",
          "No",
          "No",
          "Yes",
          "Yes",
          "No",
          "No",
          "No",
          "Yes",
          "Yes",
          "No",
          "No",
          "Yes",
          "No",
          "Yes",
          "Yes",
          "Yes",
          "No",
          "No",
          "Yes",
          "Yes",
          "Yes",
          "No",
          "No",
          "No",
          "No",
          "Yes",
          "No",
          "No",
          "Yes",
          "Yes",
          "Yes",
          "No",
          "No",
          "No",
          "Yes",
          "No",
          "No",
          "Yes",
          "No",
          "Yes",
          "No",
          "No",
          "Yes",
          "Yes",
          "Yes",
          "No",
          "No",
          "No",
          "Yes",
          "Yes",
          "No",
          "Yes",
          "Yes",
          "No",
          "Yes",
          "Yes",
          "Yes",
          "Yes",
          "Yes",
          "No",
          "No",
          "No",
          "No",
          "Yes",
          "No",
          "Yes",
          "No",
          "No",
          "No",
          "No",
          "Yes",
          "No",
          "Yes",
          "No",
          "Yes",
          "Yes",
          "No",
          "No",
          "No",
          "Yes",
          "No",
          "No",
          "No",
          "No",
          "Yes",
          "No",
          "Yes",
          "No",
          "Yes",
          "No",
          "Yes",
          "Yes",
          "No",
          "Yes",
          "Yes",
          "No",
          "No",
          "Yes",
          "Yes",
          "Yes",
          "Yes",
          "Yes",
          "Yes",
          "No",
          "No",
          "No",
          "Yes",
          "No",
          "No",
          "Yes",
          "Yes",
          "No",
          "Yes",
          "Yes",
          "Yes",
          "Yes",
          "No",
          "No",
          "No",
          "No",
          "No",
          "Yes",
          "No",
          "No",
          "Yes",
          "Yes",
          "Yes",
          "Yes",
          "Yes",
          "No",
          "Yes",
          "Yes",
          "Yes",
          "No",
          "No",
          "Yes",
          "Yes",
          "Yes",
          "Yes",
          "No",
          "No",
          "Yes",
          "No",
          "Yes",
          "Yes",
          "No",
          "Yes",
          "No",
          "Yes",
          "Yes",
          "No",
          "Yes",
          "No",
          "Yes",
          "No",
          "Yes",
          "Yes",
          "No",
          "No",
          "No",
          "No",
          "Yes",
          "No",
          "No",
          "Yes",
          "Yes",
          "No",
          "No",
          "Yes",
          "Yes",
          "No",
          "No",
          "No",
          "No",
          "No",
          "No",
          "Yes",
          "No",
          "Yes",
          "No",
          "Yes",
          "No",
          "Yes",
          "No",
          "Yes",
          "No",
          "No",
          "Yes",
          "No",
          "Yes",
          "Yes",
          "No",
          "No",
          "Yes",
          "Yes",
          "No",
          "Yes",
          "Yes",
          "Yes",
          "No",
          "Yes",
          "No",
          "No",
          "No",
          "Yes",
          "No",
          "No",
          "No",
          "Yes",
          "Yes",
          "No",
          "Yes",
          "No",
          "Yes",
          "No",
          "Yes",
          "Yes",
          "No",
          "Yes",
          "No",
          "No",
          "No",
          "Yes",
          "No",
          "No",
          "No",
          "Yes",
          "No",
          "No",
          "No",
          "Yes",
          "Yes",
          "No",
          "No",
          "Yes",
          "No",
          "Yes",
          "No",
          "No",
          "No",
          "No",
          "No",
          "Yes",
          "Yes",
          "No",
          "No",
          "Yes",
          "Yes",
          "No",
          "Yes",
          "No",
          "Yes",
          "No",
          "Yes",
          "Yes",
          "No",
          "No",
          "No",
          "No",
          "No",
          "Yes",
          "No",
          "Yes",
          "Yes",
          "Yes",
          "Yes",
          "No",
          "Yes",
          "Yes",
          "Yes",
          "No",
          "No",
          "No",
          "Yes",
          "Yes",
          "Yes",
          "Yes",
          "No",
          "Yes",
          "Yes",
          "No",
          "No",
          "No",
          "Yes",
          "No",
          "No",
          "No",
          "No",
          "No",
          "Yes",
          "No",
          "Yes",
          "No",
          "Yes",
          "No",
          "No",
          "Yes",
          "No",
          "No",
          "No",
          "No",
          "No",
          "Yes",
          "No",
          "Yes",
          "Yes",
          "No",
          "Yes",
          "No",
          "Yes",
          "No",
          "Yes",
          "No",
          "No",
          "Yes",
          "No",
          "No",
          "Yes",
          "No",
          "No",
          "Yes",
          "Yes",
          "No",
          "No",
          "Yes",
          "Yes",
          "No",
          "No",
          "No",
          "Yes",
          "Yes",
          "No",
          "No",
          "Yes",
          "No",
          "Yes",
          "No",
          "No",
          "No",
          "No",
          "Yes",
          "Yes",
          "Yes",
          "No",
          "No",
          "No",
          "No",
          "Yes",
          "Yes",
          "Yes",
          "Yes",
          "No",
          "No",
          "No",
          "Yes",
          "No",
          "Yes",
          "Yes",
          "No",
          "Yes",
          "No",
          "No",
          "Yes",
          "No",
          "No",
          "Yes",
          "Yes",
          "No",
          "Yes",
          "No",
          "Yes",
          "No",
          "Yes",
          "No",
          "No",
          "No",
          "Yes",
          "No",
          "No",
          "Yes",
          "No",
          "No",
          "No",
          "Yes",
          "No",
          "Yes",
          "No",
          "Yes",
          "Yes",
          "No",
          "No",
          "Yes",
          "Yes",
          "Yes",
          "No",
          "No",
          "No",
          "No",
          "Yes",
          "No",
          "No",
          "Yes",
          "No",
          "No",
          "Yes",
          "Yes",
          "Yes",
          "Yes",
          "Yes",
          "Yes",
          "Yes",
          "Yes",
          "No",
          "No",
          "No",
          "Yes",
          "Yes",
          "No",
          "Yes",
          "Yes",
          "No",
          "No",
          "No",
          "No",
          "Yes",
          "Yes",
          "Yes",
          "No",
          "Yes",
          "No",
          "No",
          "No",
          "No",
          "No",
          "No",
          "Yes",
          "Yes",
          "No",
          "Yes",
          "No",
          "No",
          "No",
          "Yes",
          "Yes",
          "Yes",
          "No",
          "No",
          "No",
          "Yes",
          "Yes",
          "No",
          "No",
          "Yes",
          "Yes",
          "No",
          "Yes",
          "No",
          "Yes",
          "No",
          "Yes",
          "Yes",
          "Yes",
          "No",
          "No",
          "No",
          "No",
          "No",
          "No",
          "No",
          "No",
          "No",
          "No",
          "No",
          "No",
          "No",
          "Yes",
          "Yes",
          "Yes",
          "No",
          "Yes",
          "Yes",
          "No",
          "No",
          "No",
          "No",
          "Yes",
          "No",
          "No",
          "Yes",
          "No",
          "Yes",
          "Yes",
          "Yes",
          "No",
          "Yes",
          "Yes",
          "Yes",
          "No",
          "No",
          "No",
          "Yes",
          "No",
          "No",
          "Yes",
          "Yes",
          "Yes",
          "Yes",
          "No",
          "Yes",
          "Yes",
          "No",
          "No",
          "No",
          "No",
          "Yes",
          "Yes",
          "Yes",
          "Yes",
          "Yes",
          "No",
          "Yes",
          "No",
          "No",
          "No",
          "No",
          "No",
          "Yes",
          "Yes",
          "No",
          "No",
          "No",
          "No",
          "Yes",
          "No",
          "No",
          "Yes",
          "No",
          "No",
          "No",
          "No",
          "No",
          "Yes",
          "Yes",
          "No",
          "No",
          "Yes",
          "No",
          "Yes",
          "Yes",
          "Yes",
          "No",
          "No",
          "Yes",
          "Yes",
          "Yes",
          "Yes",
          "Yes",
          "Yes",
          "No",
          "No",
          "Yes",
          "No",
          "No",
          "Yes",
          "No",
          "Yes",
          "No",
          "Yes",
          "No",
          "Yes",
          "No",
          "Yes",
          "Yes",
          "Yes",
          "No",
          "Yes",
          "No",
          "No",
          "Yes",
          "Yes",
          "No",
          "Yes",
          "No",
          "No",
          "No",
          "Yes",
          "No",
          "No",
          "No",
          "No",
          "No",
          "Yes",
          "Yes",
          "No",
          "No",
          "No",
          "Yes",
          "Yes",
          "No",
          "Yes",
          "Yes",
          "No",
          "No",
          "No",
          "No",
          "Yes",
          "Yes",
          "No",
          "Yes",
          "No",
          "Yes",
          "No",
          "Yes",
          "Yes",
          "No",
          "Yes",
          "Yes",
          "Yes",
          "Yes",
          "No",
          "No",
          "Yes",
          "No",
          "Yes",
          "No",
          "Yes",
          "Yes",
          "No",
          "Yes",
          "No",
          "No",
          "Yes",
          "Yes",
          "No",
          "Yes",
          "No",
          "No",
          "No",
          "No",
          "Yes",
          "Yes",
          "Yes",
          "Yes",
          "No",
          "No",
          "No",
          "Yes",
          "Yes",
          "No",
          "No",
          "Yes",
          "Yes",
          "No",
          "Yes",
          "Yes",
          "No",
          "No",
          "Yes",
          "No",
          "No",
          "No",
          "Yes",
          "Yes",
          "No",
          "Yes",
          "No",
          "No",
          "No",
          "Yes",
          "No",
          "Yes",
          "Yes",
          "Yes",
          "Yes",
          "No",
          "No",
          "No",
          "Yes",
          "Yes",
          "Yes",
          "No",
          "No",
          "No",
          "No",
          "Yes",
          "No",
          "No",
          "Yes",
          "No",
          "No",
          "Yes",
          "No",
          "Yes",
          "No",
          "Yes",
          "No",
          "Yes",
          "No",
          "Yes",
          "No",
          "Yes",
          "No",
          "No",
          "Yes",
          "Yes",
          "No",
          "No",
          "No",
          "Yes",
          "No",
          "Yes",
          "No",
          "No",
          "No",
          "No",
          "No",
          "No",
          "No",
          "No",
          "No",
          "Yes",
          "No",
          "No",
          "No",
          "Yes",
          "No",
          "Yes",
          "Yes",
          "Yes",
          "No",
          "No",
          "Yes",
          "Yes",
          "Yes",
          "No",
          "Yes",
          "Yes",
          "No",
          "No",
          "No",
          "No",
          "No",
          "No",
          "No",
          "Yes",
          "Yes",
          "No",
          "Yes",
          "No",
          "Yes",
          "Yes",
          "Yes",
          "No",
          "Yes",
          "Yes",
          "Yes",
          "Yes",
          "No",
          "No",
          "Yes",
          "Yes",
          "No",
          "No",
          "Yes",
          "Yes",
          "Yes",
          "Yes",
          "No",
          "Yes",
          "Yes",
          "No",
          "No",
          "No",
          "No",
          "No",
          "Yes",
          "No",
          "No",
          "No",
          "Yes",
          "Yes",
          "No",
          "No",
          "No",
          "No",
          "No",
          "Yes",
          "No",
          "Yes",
          "Yes",
          "No",
          "Yes",
          "Yes",
          "No",
          "No",
          "Yes",
          "No",
          "No",
          "No",
          "Yes",
          "No",
          "Yes",
          "No",
          "No",
          "No",
          "Yes",
          "No",
          "No",
          "Yes",
          "Yes",
          "No",
          "Yes",
          "Yes",
          "Yes",
          "Yes",
          "Yes",
          "No",
          "No",
          "No",
          "No",
          "No",
          "Yes",
          "No",
          "No",
          "No",
          "No",
          "No",
          "Yes",
          "No",
          "No",
          "No",
          "No",
          "No",
          "Yes",
          "Yes",
          "No",
          "No",
          "No",
          "No",
          "No",
          "Yes",
          "Yes",
          "Yes",
          "No",
          "No",
          "No",
          "No",
          "No",
          "No",
          "No",
          "No",
          "Yes",
          "No",
          "No",
          "Yes",
          "No",
          "No",
          "Yes",
          "Yes",
          "Yes",
          "No",
          "Yes",
          "Yes",
          "No",
          "Yes",
          "No",
          "No",
          "Yes",
          "Yes",
          "No",
          "No",
          "No",
          "Yes",
          "No",
          "No",
          "No",
          "No",
          "No",
          "No",
          "No",
          "No",
          "Yes",
          "No",
          "No",
          "Yes",
          "Yes",
          "No",
          "No",
          "Yes",
          "Yes",
          "No",
          "No",
          "No",
          "No",
          "Yes",
          "No",
          "Yes",
          "Yes",
          "Yes",
          "No",
          "No",
          "No",
          "Yes",
          "Yes",
          "No",
          "Yes",
          "No",
          "Yes",
          "Yes",
          "No",
          "No",
          "No",
          "No",
          "No",
          "Yes",
          "Yes",
          "Yes",
          "Yes",
          "No",
          "No",
          "Yes",
          "Yes",
          "Yes",
          "Yes",
          "Yes",
          "Yes",
          "No",
          "Yes",
          "No",
          "Yes",
          "No",
          "No",
          "No",
          "Yes",
          "Yes",
          "Yes",
          "Yes",
          "No",
          "Yes",
          "No",
          "No",
          "Yes",
          "Yes",
          "Yes",
          "Yes",
          "No",
          "No",
          "No",
          "Yes",
          "No",
          "No",
          "Yes",
          "No",
          "No",
          "Yes",
          "Yes",
          "No",
          "No",
          "No",
          "No",
          "No",
          "Yes",
          "Yes",
          "Yes",
          "No",
          "No",
          "Yes",
          "Yes",
          "Yes",
          "No",
          "No",
          "No",
          "Yes",
          "No",
          "No",
          "No",
          "No",
          "No",
          "Yes",
          "No",
          "No",
          "No",
          "No",
          "No",
          "No",
          "No",
          "No",
          "No",
          "Yes",
          "No",
          "No",
          "No",
          "Yes",
          "No",
          "Yes",
          "Yes",
          "Yes",
          "No",
          "No",
          "No",
          "Yes",
          "No",
          "No",
          "No",
          "No",
          "Yes",
          "No",
          "Yes",
          "No",
          "No",
          "No",
          "No",
          "No",
          "No",
          "No",
          "Yes",
          "Yes",
          "Yes",
          "No",
          "No",
          "No",
          "No",
          "No",
          "No",
          "Yes",
          "No",
          "No",
          "Yes",
          "No",
          "No",
          "Yes",
          "No",
          "Yes",
          "No",
          "No",
          "No",
          "No",
          "Yes",
          "No",
          "No",
          "No",
          "No",
          "Yes",
          "No",
          "No",
          "No",
          "Yes",
          "No",
          "Yes",
          "No",
          "No",
          "No",
          "No",
          "No",
          "Yes",
          "No",
          "Yes",
          "No",
          "No",
          "No",
          "Yes",
          "No",
          "No",
          "No",
          "No",
          "No",
          "No",
          "No",
          "Yes",
          "No",
          "No",
          "Yes",
          "Yes",
          "Yes",
          "No",
          "No",
          "No",
          "No",
          "Yes",
          "Yes",
          "No",
          "No",
          "No",
          "Yes",
          "No",
          "Yes",
          "No",
          "No",
          "No",
          "No",
          "Yes",
          "No",
          "Yes",
          "No",
          "No",
          "No",
          "Yes",
          "Yes",
          "No",
          "No",
          "No",
          "No",
          "No",
          "Yes",
          "No",
          "No",
          "Yes",
          "No",
          "Yes",
          "No",
          "No",
          "No",
          "No",
          "No",
          "No",
          "Yes",
          "No",
          "Yes",
          "No",
          "No",
          "Yes",
          "No",
          "No",
          "No",
          "No",
          "No",
          "Yes",
          "No",
          "No",
          "Yes",
          "Yes",
          "No",
          "Yes",
          "No",
          "Yes",
          "No",
          "Yes",
          "Yes",
          "Yes",
          "No",
          "Yes",
          "Yes",
          "Yes",
          "Yes",
          "No",
          "No",
          "No",
          "No",
          "No",
          "No",
          "No",
          "No",
          "No",
          "Yes",
          "Yes",
          "No",
          "No",
          "Yes",
          "No",
          "No",
          "No",
          "Yes",
          "Yes",
          "No",
          "Yes",
          "Yes",
          "No",
          "Yes",
          "Yes",
          "Yes",
          "No",
          "No",
          "Yes",
          "Yes",
          "No",
          "No",
          "Yes",
          "Yes",
          "No",
          "Yes",
          "No",
          "No",
          "No",
          "Yes",
          "No",
          "No",
          "Yes",
          "No",
          "No",
          "No",
          "Yes",
          "Yes",
          "No",
          "No",
          "No",
          "No",
          "Yes",
          "Yes",
          "No",
          "No",
          "No",
          "No",
          "Yes",
          "No",
          "No",
          "No",
          "No",
          "No",
          "No",
          "No",
          "No",
          "No",
          "No",
          "No",
          "Yes",
          "No",
          "No",
          "No",
          "No",
          "Yes",
          "Yes",
          "Yes",
          "No",
          "No",
          "Yes",
          "Yes",
          "No",
          "Yes",
          "Yes",
          "Yes",
          "Yes",
          "No",
          "No",
          "Yes",
          "Yes",
          "No",
          "Yes",
          "Yes",
          "No",
          "No",
          "No",
          "No",
          "No",
          "No",
          "Yes",
          "No",
          "Yes",
          "Yes",
          "Yes",
          "No",
          "No",
          "No",
          "No",
          "Yes",
          "No",
          "Yes",
          "Yes",
          "Yes",
          "Yes",
          "No",
          "Yes",
          "No",
          "No",
          "Yes",
          "Yes",
          "No",
          "Yes",
          "No",
          "No",
          "Yes",
          "No",
          "No",
          "Yes",
          "No",
          "No",
          "Yes",
          "No",
          "Yes",
          "Yes",
          "Yes",
          "No",
          "No",
          "No",
          "Yes",
          "No",
          "Yes",
          "No",
          "Yes",
          "No",
          "Yes",
          "No",
          "No",
          "Yes",
          "Yes",
          "No",
          "Yes",
          "No",
          "Yes",
          "No",
          "No",
          "Yes",
          "No",
          "No",
          "No",
          "No",
          "No",
          "No",
          "No",
          "Yes",
          "Yes",
          "Yes",
          "Yes",
          "No",
          "No",
          "No",
          "Yes",
          "No",
          "Yes",
          "Yes",
          "No",
          "No",
          "No",
          "No",
          "No",
          "No",
          "No",
          "No",
          "No",
          "No",
          "No",
          "No",
          "Yes",
          "Yes",
          "Yes",
          "Yes",
          "Yes",
          "Yes",
          "No",
          "No",
          "No",
          "Yes",
          "No",
          "No",
          "Yes",
          "No",
          "No",
          "No",
          "No",
          "Yes",
          "Yes",
          "No",
          "No",
          "No",
          "No",
          "No",
          "No",
          "No",
          "Yes",
          "No",
          "Yes",
          "No",
          "No",
          "Yes",
          "Yes",
          "Yes",
          "No",
          "No",
          "No",
          "No",
          "Yes",
          "No",
          "No",
          "No",
          "Yes",
          "No",
          "No",
          "Yes",
          "Yes",
          "No",
          "Yes",
          "No",
          "No",
          "Yes",
          "No",
          "No",
          "No",
          "No",
          "No",
          "No",
          "Yes",
          "No",
          "No",
          "No",
          "Yes",
          "Yes",
          "Yes",
          "No",
          "No",
          "Yes",
          "Yes",
          "Yes",
          "No",
          "No",
          "No",
          "No",
          "No",
          "No",
          "No",
          "No",
          "No",
          "Yes",
          "No",
          "No",
          "Yes",
          "No",
          "No",
          "Yes",
          "No",
          "No",
          "Yes",
          "No",
          "No",
          "No",
          "No",
          "No",
          "Yes",
          "No",
          "No",
          "No",
          "No",
          "Yes",
          "No",
          "Yes",
          "No",
          "Yes",
          "Yes",
          "No",
          "No",
          "Yes",
          "Yes",
          "Yes",
          "No",
          "Yes",
          "Yes",
          "No",
          "No",
          "No",
          "No",
          "Yes",
          "No",
          "No",
          "No",
          "No",
          "No",
          "No",
          "Yes",
          "No",
          "No",
          "No",
          "No",
          "Yes",
          "No",
          "No",
          "Yes",
          "No",
          "No",
          "No",
          "No",
          "No",
          "Yes",
          "No",
          "No",
          "No",
          "Yes",
          "No",
          "No",
          "Yes",
          "No",
          "Yes",
          "Yes",
          "No",
          "Yes",
          "No",
          "No",
          "No",
          "No",
          "No",
          "Yes",
          "Yes",
          "No",
          "No",
          "No",
          "Yes",
          "No",
          "No",
          "No",
          "No",
          "Yes",
          "No",
          "No",
          "Yes",
          "No",
          "No",
          "No",
          "No",
          "Yes",
          "Yes",
          "No",
          "No",
          "No",
          "No",
          "No",
          "No",
          "No",
          "No",
          "No",
          "No",
          "No",
          "No",
          "No",
          "Yes",
          "No",
          "No",
          "Yes",
          "No",
          "Yes",
          "Yes",
          "Yes",
          "Yes",
          "No",
          "No",
          "Yes",
          "No",
          "No",
          "No",
          "No",
          "No",
          "No",
          "Yes",
          "Yes",
          "No",
          "Yes",
          "No",
          "Yes",
          "Yes",
          "Yes",
          "Yes",
          "No",
          "No",
          "No",
          "Yes",
          "Yes",
          "Yes",
          "Yes",
          "No",
          "No",
          "Yes",
          "Yes",
          "No",
          "No",
          "No",
          "No",
          "No",
          "No",
          "No",
          "No",
          "Yes",
          "No",
          "Yes",
          "No",
          "Yes",
          "Yes",
          "No",
          "No",
          "No",
          "No",
          "Yes",
          "No",
          "Yes",
          "No",
          "No",
          "No",
          "No",
          "No",
          "No",
          "Yes",
          "No",
          "No",
          "No",
          "No",
          "Yes",
          "Yes",
          "No",
          "No",
          "No",
          "No",
          "No",
          "Yes",
          "No",
          "No",
          "No",
          "No",
          "No",
          "No",
          "No",
          "No",
          "No",
          "Yes",
          "No",
          "No",
          "Yes",
          "No",
          "No",
          "No",
          "No",
          "No",
          "No",
          "No",
          "No",
          "No",
          "No",
          "No",
          "No",
          "No",
          "No",
          "Yes",
          "Yes",
          "Yes",
          "Yes",
          "Yes",
          "No",
          "No",
          "No",
          "Yes",
          "No",
          "No",
          "No",
          "No",
          "No",
          "No",
          "No",
          "Yes",
          "No",
          "Yes",
          "No",
          "Yes",
          "No",
          "No",
          "Yes",
          "No",
          "No",
          "No",
          "Yes",
          "No",
          "No",
          "Yes",
          "No",
          "Yes",
          "No",
          "No",
          "No",
          "Yes",
          "No",
          "No",
          "Yes",
          "Yes",
          "No",
          "No",
          "No",
          "No",
          "Yes",
          "No",
          "Yes",
          "No",
          "Yes",
          "No",
          "No",
          "No",
          "No",
          "No",
          "No",
          "No",
          "No",
          "No",
          "Yes",
          "Yes",
          "No",
          "No",
          "No",
          "No",
          "No",
          "Yes",
          "No",
          "No",
          "No",
          "No",
          "No",
          "No",
          "No",
          "Yes",
          "No",
          "Yes",
          "No",
          "No",
          "Yes",
          "No",
          "No",
          "No",
          "Yes",
          "No",
          "No",
          "No",
          "Yes",
          "No",
          "Yes",
          "Yes",
          "No",
          "No",
          "No",
          "No",
          "No",
          "Yes",
          "Yes",
          "No",
          "Yes",
          "No",
          "No",
          "Yes",
          "No",
          "No",
          "No",
          "No",
          "No",
          "No",
          "No",
          "No",
          "No",
          "Yes",
          "No",
          "Yes",
          "No",
          "Yes",
          "Yes",
          "No",
          "No",
          "No",
          "Yes",
          "Yes",
          "No",
          "Yes",
          "No",
          "No",
          "Yes",
          "No",
          "No",
          "No",
          "No",
          "No",
          "No",
          "No",
          "Yes",
          "No",
          "No",
          "No",
          "No",
          "Yes",
          "No",
          "Yes",
          "No",
          "No",
          "No",
          "No",
          "No",
          "No",
          "Yes",
          "No",
          "Yes",
          "No",
          "No",
          "No",
          "No",
          "Yes",
          "Yes",
          "Yes",
          "No",
          "No",
          "No",
          "Yes",
          "No",
          "Yes",
          "No",
          "No",
          "No",
          "No",
          "No",
          "No",
          "Yes",
          "Yes",
          "Yes",
          "No",
          "No",
          "No",
          "Yes",
          "Yes",
          "No",
          "No",
          "Yes",
          "No",
          "Yes",
          "Yes",
          "No",
          "No",
          "No",
          "No",
          "Yes",
          "No",
          "No",
          "No",
          "Yes",
          "No",
          "No",
          "No",
          "Yes",
          "No",
          "No",
          "No",
          "No",
          "No",
          "Yes",
          "No",
          "No",
          "No",
          "Yes",
          "No",
          "No",
          "No",
          "No",
          "Yes",
          "No",
          "No",
          "No",
          "No",
          "No",
          "No",
          "No",
          "No",
          "No",
          "No",
          "No",
          "No",
          "No",
          "No",
          "Yes",
          "No",
          "No",
          "No",
          "No",
          "No",
          "No",
          "No",
          "Yes",
          "No",
          "No",
          "No",
          "No",
          "Yes",
          "No",
          "Yes",
          "Yes",
          "Yes",
          "Yes",
          "No",
          "No",
          "No",
          "No",
          "No",
          "No",
          "No",
          "No",
          "No",
          "No",
          "No",
          "No",
          "No",
          "No",
          "No",
          "No",
          "No",
          "No",
          "No",
          "No",
          "No",
          "No",
          "Yes",
          "No",
          "Yes",
          "No",
          "No",
          "Yes",
          "No",
          "No",
          "No",
          "Yes",
          "No",
          "No",
          "No",
          "No",
          "No",
          "No",
          "No",
          "Yes",
          "No",
          "No",
          "No",
          "No",
          "No",
          "Yes",
          "No",
          "No",
          "No",
          "No",
          "No",
          "No",
          "Yes",
          "No",
          "No",
          "No",
          "No",
          "No",
          "No",
          "No",
          "No",
          "No",
          "No",
          "No",
          "Yes",
          "No",
          "No",
          "No",
          "No",
          "Yes",
          "No",
          "No",
          "No",
          "No",
          "Yes",
          "No",
          "No",
          "No",
          "No",
          "No",
          "No",
          "No",
          "No",
          "No",
          "Yes",
          "No",
          "No",
          "No",
          "No",
          "Yes",
          "No",
          "No",
          "No",
          "No",
          "Yes",
          "No",
          "No",
          "No",
          "No",
          "No",
          "No",
          "No",
          "No",
          "No",
          "No",
          "No",
          "No",
          "No",
          "No",
          "No",
          "No",
          "No",
          "No",
          "No",
          "No",
          "No",
          "No",
          "No",
          "No",
          "No",
          "No",
          "No",
          "Yes",
          "No",
          "Yes",
          "No",
          "Yes",
          "No",
          "No",
          "No",
          "Yes",
          "No",
          "No",
          "Yes",
          "No",
          "No",
          "Yes",
          "No",
          "No",
          "Yes",
          "No",
          "No",
          "No",
          "No",
          "Yes",
          "No",
          "No",
          "Yes",
          "No",
          "No",
          "No",
          "No",
          "No",
          "Yes",
          "No",
          "Yes",
          "No",
          "No",
          "No",
          "Yes",
          "No",
          "No",
          "No",
          "No",
          "No",
          "No",
          "Yes",
          "No",
          "No",
          "No",
          "No",
          "No",
          "No",
          "No",
          "No",
          "Yes",
          "No",
          "Yes",
          "No",
          "No",
          "No",
          "Yes",
          "No",
          "No",
          "No",
          "No",
          "No",
          "No",
          "No",
          "No",
          "No",
          "No",
          "No",
          "No",
          "No",
          "Yes",
          "No",
          "No",
          "No",
          "No",
          "No",
          "No",
          "No",
          "No",
          "No",
          "No",
          "No",
          "No",
          "Yes",
          "Yes",
          "No",
          "No",
          "No",
          "No",
          "No",
          "No",
          "No",
          "No",
          "No",
          "No",
          "No",
          "No",
          "No",
          "No",
          "No",
          "No",
          "No",
          "No",
          "No",
          "No",
          "No",
          "No",
          "No"
         ],
         "legendgroup": "",
         "name": "",
         "showlegend": true,
         "type": "pie",
         "values": [
          11979.34,
          11868.34,
          11795.78,
          11688.9,
          11634.53,
          11596.99,
          11564.37,
          11529.54,
          11514.81,
          11501.82,
          11416.21,
          11355.87,
          11347.5,
          11340.82,
          11315.79,
          11311.06,
          11272.18,
          11221.6,
          11174.43,
          11169.77,
          11033.9,
          11032.77,
          11025.19,
          11006.2,
          10960.47,
          10939.48,
          10920.57,
          10915.85,
          10881.61,
          10865.37,
          10858.08,
          10842.48,
          10840.73,
          10830.97,
          10824.66,
          10814.34,
          10811.61,
          10798.1,
          10788.56,
          10771.48,
          10769.46,
          10729.88,
          10729.2,
          10725.31,
          10685.12,
          10682.2,
          10642.35,
          10641.72,
          10629.11,
          10621.17,
          10612.98,
          10598.23,
          10576.5,
          10509.91,
          10502.46,
          10481.58,
          10471.7,
          10462.68,
          10461.38,
          10430.99,
          10411.33,
          10406.22,
          10385.79,
          10385.38,
          10373.65,
          10368.31,
          10343.62,
          10335.01,
          10321.58,
          10318.63,
          10304.5,
          10295.73,
          10275.12,
          10270.75,
          10263.1,
          10257.51,
          10251.26,
          10237.91,
          10221.85,
          10215.38,
          10211.03,
          10205.35,
          10196.55,
          10190.07,
          10188.02,
          10184.55,
          10175.46,
          10169.89,
          10167.59,
          10162.86,
          10148.7,
          10143.54,
          10141.32,
          10139.93,
          10121.1,
          10105.37,
          10103.15,
          10094,
          10067.14,
          10065.97,
          10063.79,
          10063.54,
          10052.49,
          10025.7,
          10025.44,
          10016.95,
          10009.7,
          10004.5,
          10003.07,
          9982.85,
          9978.23,
          9967.74,
          9961.84,
          9959,
          9939.97,
          9915.15,
          9913.4,
          9902.27,
          9900.53,
          9897.08,
          9896.95,
          9895.73,
          9893.23,
          9885.87,
          9881.61,
          9881.04,
          9880.32,
          9874.22,
          9871.85,
          9858.66,
          9843.63,
          9825.79,
          9822.7,
          9822.08,
          9816.2,
          9811.57,
          9806,
          9804.61,
          9802.1,
          9786.63,
          9766.86,
          9761.9,
          9761.84,
          9754.43,
          9749.85,
          9749.4,
          9748.5,
          9744.69,
          9742.38,
          9735.76,
          9733.22,
          9731.28,
          9724.03,
          9719.99,
          9712.95,
          9708.69,
          9703.9,
          9701.28,
          9685.69,
          9681.55,
          9679.97,
          9675.07,
          9664.57,
          9635,
          9632.5,
          9625.13,
          9622.15,
          9622.04,
          9621.1,
          9619.63,
          9613.28,
          9609.47,
          9607.75,
          9602.3,
          9601.11,
          9600.99,
          9594.77,
          9587.6,
          9578.93,
          9573.55,
          9557.15,
          9542.45,
          9538.96,
          9538.68,
          9537.56,
          9511.93,
          9500.02,
          9490.95,
          9490.53,
          9472.82,
          9465.11,
          9453.04,
          9444,
          9443.68,
          9442.24,
          9440.3,
          9433.61,
          9427.97,
          9426.94,
          9421.78,
          9417.53,
          9417.07,
          9411.3,
          9405.72,
          9403.07,
          9400.55,
          9387.38,
          9372.25,
          9371.25,
          9361.38,
          9358.83,
          9351.09,
          9346.4,
          9339.05,
          9330.46,
          9311.79,
          9308.35,
          9303,
          9302.83,
          9298.85,
          9290.8,
          9275.1,
          9268.85,
          9250.84,
          9247.85,
          9245.46,
          9225.21,
          9222.48,
          9216.43,
          9206.23,
          9200.46,
          9200.36,
          9195.82,
          9183.8,
          9181.92,
          9172.3,
          9165.1,
          9163.24,
          9162.09,
          9160.58,
          9160.17,
          9151.65,
          9150.54,
          9143.41,
          9139.19,
          9125.12,
          9124.66,
          9111.8,
          9108.9,
          9108.3,
          9105.93,
          9097.35,
          9088.14,
          9082.15,
          9077.03,
          9059.14,
          9054.5,
          9052.07,
          9045.2,
          9041.35,
          9036.31,
          9023.8,
          9023.45,
          9016.65,
          9006.47,
          9004.24,
          9002.69,
          8995.92,
          8994,
          8993.44,
          8985.11,
          8962.18,
          8959.69,
          8955.22,
          8953.58,
          8946.38,
          8945.48,
          8935.65,
          8933.18,
          8928.18,
          8916.04,
          8904.54,
          8893,
          8888.01,
          8887.86,
          8887.51,
          8882.7,
          8882.11,
          8881.17,
          8862.28,
          8856.06,
          8850.46,
          8849.98,
          8849.56,
          8848.28,
          8837.62,
          8836.55,
          8827.93,
          8813.55,
          8808.98,
          8801.36,
          8799.29,
          8791.39,
          8784.86,
          8782,
          8778.78,
          8776.4,
          8775.75,
          8769.3,
          8767.47,
          8761.11,
          8759.85,
          8755.92,
          8748.34,
          8735.35,
          8735.15,
          8734.1,
          8730.56,
          8727.75,
          8723.46,
          8718.53,
          8713.85,
          8713.47,
          8711.95,
          8711.03,
          8707.52,
          8698.74,
          8697.8,
          8694.2,
          8688.74,
          8688.29,
          8685.15,
          8681.58,
          8680.97,
          8676.38,
          8674.68,
          8664.43,
          8664.2,
          8651.83,
          8646.12,
          8645.21,
          8642.8,
          8631.88,
          8620,
          8617.49,
          8616.95,
          8615.07,
          8612,
          8611.41,
          8597.1,
          8595.54,
          8587.83,
          8580.15,
          8574.34,
          8574.08,
          8571.1,
          8566.1,
          8562.71,
          8560.88,
          8558.98,
          8557.42,
          8550.6,
          8548.35,
          8544.3,
          8542.97,
          8542.71,
          8531.69,
          8531.55,
          8530.2,
          8526.9,
          8525.5,
          8522.77,
          8521.55,
          8515.77,
          8514.49,
          8514.03,
          8503.11,
          8502.45,
          8500.28,
          8499.2,
          8495.83,
          8495.52,
          8491.47,
          8489.76,
          8488.48,
          8488.46,
          8488.2,
          8487.64,
          8477.46,
          8473.52,
          8470.78,
          8470.3,
          8460.9,
          8448.86,
          8446.92,
          8444.71,
          8444.03,
          8439.5,
          8436.78,
          8435.6,
          8433.46,
          8433.18,
          8432.64,
          8432.39,
          8430.35,
          8423.82,
          8417.44,
          8416.93,
          8405.34,
          8404.3,
          8403.59,
          8397.48,
          8386.33,
          8378.83,
          8366.62,
          8366.45,
          8365.68,
          8358.61,
          8358.42,
          8357.66,
          8351.54,
          8348.42,
          8348.29,
          8342.6,
          8336.86,
          8336.1,
          8334.77,
          8334.45,
          8329.95,
          8327.39,
          8326.15,
          8320.71,
          8320.2,
          8317.5,
          8304.26,
          8302.71,
          8293.14,
          8292.34,
          8291,
          8286.06,
          8278.2,
          8275.39,
          8275.19,
          8273.24,
          8253.59,
          8249.21,
          8234.77,
          8234.71,
          8229.43,
          8228.76,
          8228.7,
          8225.5,
          8224.21,
          8221.95,
          8204.85,
          8200.58,
          8198.8,
          8192.43,
          8185.45,
          8182.8,
          8178.48,
          8173.62,
          8172.3,
          8172.2,
          8155.01,
          8153.85,
          8152.01,
          8145.55,
          8144.12,
          8141.35,
          8133.57,
          8130.7,
          8118.92,
          8115.79,
          8112.08,
          8111.55,
          8107.48,
          8097.4,
          8090.26,
          8087.26,
          8080.25,
          8078.07,
          8077.64,
          8071.07,
          8063.56,
          8062.46,
          8059.95,
          8054.55,
          8041.79,
          8040.73,
          8039.2,
          8038.71,
          8035.95,
          8033.05,
          8026.55,
          8026.21,
          8026.15,
          8024.3,
          8023.5,
          8019.43,
          8012.25,
          8008.18,
          8001.79,
          7994.05,
          7982.45,
          7979.48,
          7978.25,
          7978.18,
          7970,
          7967.85,
          7966.41,
          7962.96,
          7958.95,
          7954.2,
          7942.44,
          7942.15,
          7941.66,
          7940.06,
          7938.85,
          7936.54,
          7932.89,
          7932.7,
          7926.34,
          7922.38,
          7921.89,
          7910.12,
          7909.83,
          7908.19,
          7902.78,
          7900.21,
          7896.33,
          7893.65,
          7893.07,
          7890.5,
          7888.17,
          7885.26,
          7883.67,
          7882.98,
          7882.96,
          7882.33,
          7879.6,
          7879.23,
          7877.57,
          7874.7,
          7874.57,
          7873.71,
          7872.5,
          7864.32,
          7860.79,
          7857.14,
          7851.47,
          7845.28,
          7840.76,
          7840.34,
          7835.99,
          7835.83,
          7835.56,
          7833.17,
          7833.13,
          7833.1,
          7830.61,
          7821.21,
          7815.95,
          7812.1,
          7807.8,
          7807.35,
          7806.02,
          7804.33,
          7801.58,
          7801.55,
          7799.44,
          7794.78,
          7783.92,
          7781.35,
          7777.45,
          7771.82,
          7760.48,
          7759.18,
          7752.15,
          7750.07,
          7743.19,
          7737.78,
          7734.13,
          7733.48,
          7733.46,
          7732.5,
          7732,
          7725.67,
          7723.94,
          7722.78,
          7717.99,
          7717.66,
          7714.16,
          7713.5,
          7710.42,
          7710.15,
          7706.51,
          7698.38,
          7689.8,
          7689.75,
          7688.53,
          7686.7,
          7686.04,
          7683.36,
          7681.1,
          7679.87,
          7675.22,
          7668.82,
          7662.45,
          7652.57,
          7651.35,
          7650.83,
          7643.52,
          7643.51,
          7639.99,
          7639.36,
          7636.6,
          7634.28,
          7633.07,
          7630.18,
          7624,
          7622.22,
          7618.18,
          7615.81,
          7614.4,
          7611.72,
          7609.55,
          7605.44,
          7605.03,
          7603.95,
          7602.57,
          7600.7,
          7595.92,
          7589.71,
          7585.08,
          7574.52,
          7562.3,
          7561.78,
          7561.75,
          7554.27,
          7551.7,
          7549.43,
          7545.61,
          7531.53,
          7531.06,
          7527.95,
          7527.5,
          7527.25,
          7513.61,
          7512.43,
          7511.27,
          7510.4,
          7509.25,
          7503.8,
          7502.71,
          7501.08,
          7495.96,
          7492.77,
          7491.28,
          7488.9,
          7478.5,
          7474.22,
          7464.36,
          7458.86,
          7456.79,
          7451.41,
          7445.07,
          7443.78,
          7442.67,
          7440.19,
          7431.88,
          7428.44,
          7427.81,
          7425.9,
          7423.95,
          7423.58,
          7423.25,
          7421.99,
          7416.97,
          7413.62,
          7412.65,
          7409.17,
          7407.6,
          7398.63,
          7398.21,
          7396.37,
          7390.35,
          7370.65,
          7370.6,
          7369.02,
          7366.67,
          7364.84,
          7359.53,
          7356.69,
          7355.78,
          7352.67,
          7348.2,
          7333.93,
          7332.58,
          7332.2,
          7331.26,
          7330.6,
          7326.75,
          7321.93,
          7321.68,
          7315.29,
          7315.12,
          7310.8,
          7300.16,
          7298.61,
          7289.83,
          7285.75,
          7281.07,
          7276.86,
          7274.7,
          7274.09,
          7270.88,
          7254.6,
          7252.5,
          7248.04,
          7241.15,
          7240.6,
          7230.22,
          7227.57,
          7227.25,
          7226.33,
          7224.85,
          7222.51,
          7222.15,
          7215.05,
          7214.49,
          7208.92,
          7208.3,
          7206.66,
          7196.98,
          7183.46,
          7178.57,
          7178.3,
          7177.7,
          7176.15,
          7175.19,
          7173.04,
          7171.83,
          7169.5,
          7167.18,
          7164.15,
          7163.51,
          7162.37,
          7161.55,
          7156.15,
          7155.69,
          7154.33,
          7150.23,
          7148.09,
          7143.58,
          7138.2,
          7137.49,
          7136.9,
          7134.3,
          7119.75,
          7107.29,
          7105.81,
          7104.34,
          7103.69,
          7102.61,
          7098.42,
          7095.54,
          7074.51,
          7074.43,
          7072.24,
          7069.48,
          7069.33,
          7066.6,
          7064.68,
          7056.6,
          7053.69,
          7049.35,
          7049,
          7046.9,
          7046.32,
          7045.82,
          7043.04,
          7039.29,
          7038.14,
          7037.75,
          7035.42,
          7030.37,
          7029.35,
          7025.62,
          7023.82,
          7018.75,
          7017.35,
          7014.97,
          7013.26,
          7012.59,
          7010.05,
          7008.95,
          7008.61,
          7007.99,
          7006.78,
          7005.53,
          7003.13,
          7002.8,
          7002.75,
          6995.81,
          6994.64,
          6986.71,
          6981.61,
          6979.67,
          6976.65,
          6970.31,
          6969.77,
          6968.25,
          6967.55,
          6966.87,
          6963.69,
          6960,
          6955.35,
          6953.23,
          6949.65,
          6947.38,
          6941.74,
          6935.5,
          6934.98,
          6934.77,
          6926.31,
          6922.64,
          6921.52,
          6920.9,
          6917.31,
          6914.52,
          6912.51,
          6910.19,
          6908.9,
          6908.29,
          6906.04,
          6904.75,
          6904.47,
          6893.39,
          6892.68,
          6892.2,
          6890,
          6886.81,
          6885.22,
          6883.85,
          6883.78,
          6876.4,
          6870.95,
          6870.55,
          6869.8,
          6869.52,
          6869.15,
          6867.8,
          6867.5,
          6864.29,
          6860.65,
          6858.48,
          6850.3,
          6848.25,
          6842.43,
          6842.3,
          6841.38,
          6838.39,
          6833.15,
          6831.53,
          6825.12,
          6821.29,
          6819.97,
          6813.38,
          6812.79,
          6809.17,
          6804.09,
          6802.21,
          6800.6,
          6795.71,
          6794.48,
          6791.9,
          6791.67,
          6791.1,
          6789.94,
          6789.02,
          6789,
          6787.56,
          6785.4,
          6785.15,
          6776.78,
          6770.33,
          6769.65,
          6768.97,
          6759.7,
          6758.25,
          6758.08,
          6755.68,
          6754.34,
          6752.8,
          6749.32,
          6747.08,
          6739.16,
          6739.15,
          6733.64,
          6733.3,
          6730.06,
          6728.23,
          6725.86,
          6720.89,
          6719.69,
          6713.84,
          6709.27,
          6696.05,
          6690.05,
          6687.15,
          6685.48,
          6676.78,
          6676.1,
          6673.65,
          6673.07,
          6672.2,
          6671.54,
          6670.4,
          6665.1,
          6664.75,
          6651.25,
          6647.25,
          6643.97,
          6643.35,
          6643.16,
          6636.05,
          6631.85,
          6628.2,
          6627.8,
          6625.48,
          6623.55,
          6621.1,
          6612.97,
          6610.08,
          6598.53,
          6595.11,
          6592.17,
          6588.22,
          6583.37,
          6582.03,
          6579.37,
          6576.63,
          6576.45,
          6575.85,
          6574.55,
          6574.05,
          6568,
          6566.64,
          6566.63,
          6565.93,
          6564.66,
          6563.99,
          6561.4,
          6559.3,
          6557.5,
          6557.12,
          6553.51,
          6545.76,
          6542.5,
          6541.55,
          6539.35,
          6538.37,
          6537.77,
          6534.59,
          6533.2,
          6532.15,
          6529.53,
          6528.66,
          6528.4,
          6528.2,
          6526.52,
          6524.4,
          6515.63,
          6513.2,
          6507,
          6505.73,
          6504.13,
          6501.2,
          6500.15,
          6498.82,
          6494.41,
          6491.61,
          6488.9,
          6486.1,
          6483.51,
          6474.45,
          6468.11,
          6455.52,
          6452.75,
          6446.7,
          6445.6,
          6437.11,
          6436.5,
          6427.11,
          6424.26,
          6420.67,
          6418.51,
          6412.05,
          6411.97,
          6411.9,
          6411.82,
          6409.25,
          6408.3,
          6401.58,
          6401.29,
          6397.05,
          6395.3,
          6394.03,
          6393.61,
          6388.94,
          6388.38,
          6386.32,
          6386.3,
          6385.85,
          6371.47,
          6369.05,
          6367.01,
          6366.73,
          6366.42,
          6365.68,
          6364.27,
          6362.96,
          6362.75,
          6361.5,
          6354.41,
          6351.1,
          6346.19,
          6345.94,
          6339.95,
          6339.27,
          6335.58,
          6334.37,
          6332.25,
          6328.5,
          6324.69,
          6324.25,
          6316.16,
          6313.04,
          6311.63,
          6307.54,
          6301.5,
          6296.46,
          6288.85,
          6287.56,
          6285.18,
          6284.62,
          6283.02,
          6282.35,
          6281.33,
          6279.56,
          6276.05,
          6272.4,
          6270.75,
          6263.72,
          6259.68,
          6254.94,
          6252.77,
          6250.6,
          6246.87,
          6246.21,
          6242.8,
          6234.94,
          6230.88,
          6230.82,
          6227.11,
          6224.25,
          6223.24,
          6214.28,
          6208.16,
          6200.14,
          6197.32,
          6197.04,
          6196.49,
          6191.88,
          6189.54,
          6188.69,
          6185.06,
          6177.21,
          6175.95,
          6170,
          6169.39,
          6164.79,
          6161.78,
          6154,
          6152.38,
          6146.79,
          6139.75,
          6139.72,
          6139.69,
          6137.8,
          6134.18,
          6126.89,
          6125.84,
          6125.79,
          6124.77,
          6123.8,
          6104.85,
          6103.85,
          6098.25,
          6097.56,
          6096.84,
          6095.11,
          6093.36,
          6087.25,
          6085.68,
          6072.33,
          6071.8,
          6070.8,
          6068.94,
          6061.5,
          6056.95,
          6056.4,
          6055.9,
          6055.02,
          6050.68,
          6047.01,
          6044.65,
          6040.42,
          6039.48,
          6038.62,
          6035.47,
          6029.98,
          6027.64,
          6023.63,
          6019.78,
          6011.12,
          6006.34,
          6004.47,
          5998.18,
          5991.24,
          5990,
          5988.72,
          5988.39,
          5987.33,
          5985.23,
          5982.05,
          5969.38,
          5967.45,
          5965.43,
          5961.02,
          5960.05,
          5958.91,
          5954.38,
          5953.43,
          5952.89,
          5952.84,
          5946.56,
          5939.47,
          5939.11,
          5938.02,
          5937.36,
          5935.12,
          5934.95,
          5934.73,
          5934.1,
          5928.08,
          5922.09,
          5913.47,
          5913.42,
          5911.42,
          5905.65,
          5903.37,
          5901.31,
          5898.87,
          5898.45,
          5895.4,
          5894.64,
          5891.83,
          5890.9,
          5889.13,
          5880.19,
          5877.95,
          5876.93,
          5873.11,
          5869.36,
          5867.56,
          5861.67,
          5861.6,
          5860.66,
          5856.22,
          5854.23,
          5852.46,
          5844.03,
          5842.6,
          5841.31,
          5836.26,
          5830.79,
          5820.68,
          5818.17,
          5817.95,
          5817.79,
          5816.36,
          5813.65,
          5813.6,
          5811.74,
          5807.33,
          5803.77,
          5802.51,
          5802.37,
          5801.87,
          5796.31,
          5794.5,
          5793.9,
          5793.45,
          5787.1,
          5786.7,
          5783.45,
          5781.1,
          5777.68,
          5776.81,
          5776.64,
          5775.24,
          5769.85,
          5769.01,
          5760.93,
          5753.13,
          5751.52,
          5749.73,
          5747.98,
          5743.32,
          5741.01,
          5738.2,
          5736.47,
          5734.12,
          5728.88,
          5723.54,
          5717.1,
          5711.25,
          5711.15,
          5702.88,
          5699.89,
          5694.32,
          5694.12,
          5693.76,
          5693.65,
          5692.15,
          5687.51,
          5683.45,
          5682.4,
          5671.38,
          5669.11,
          5668.46,
          5659.93,
          5659.45,
          5658.9,
          5658.64,
          5657.2,
          5642.79,
          5642.29,
          5642.11,
          5631.03,
          5626.71,
          5625.86,
          5624.84,
          5624.46,
          5618.79,
          5616.11,
          5609.51,
          5607.3,
          5599.97,
          5583.77,
          5580.96,
          5579.87,
          5575.25,
          5569.75,
          5568.49,
          5568.3,
          5563.85,
          5556.15,
          5554.41,
          5553.37,
          5551.33,
          5547.91,
          5543.13,
          5541.48,
          5537.69,
          5537.67,
          5532.48,
          5523.69,
          5515.92,
          5515.42,
          5513.47,
          5507.79,
          5504.71,
          5500.54,
          5500.23,
          5493.45,
          5491.35,
          5488.89,
          5482.76,
          5482.36,
          5467.45,
          5463.84,
          5462.14,
          5460.6,
          5457.89,
          5450.41,
          5450.19,
          5450.05,
          5442.96,
          5442.15,
          5441,
          5439.2,
          5437.27,
          5436.68,
          5433.54,
          5433.45,
          5427.87,
          5426.81,
          5422.59,
          5419.35,
          5418.25,
          5417.72,
          5416.85,
          5412.62,
          5412.17,
          5412.09,
          5409.17,
          5406.17,
          5405.92,
          5400.47,
          5393.03,
          5392.55,
          5391.66,
          5380.05,
          5380.02,
          5375.45,
          5374.78,
          5370.2,
          5359.39,
          5358.4,
          5357.96,
          5354.15,
          5352.63,
          5344.06,
          5342.15,
          5339.1,
          5333.04,
          5330,
          5320.57,
          5317.95,
          5313.4,
          5310.54,
          5310.03,
          5306.4,
          5301.93,
          5301.25,
          5293.04,
          5292.78,
          5291.06,
          5289.55,
          5288.58,
          5285.27,
          5283.91,
          5283.86,
          5281.36,
          5277.9,
          5272.21,
          5258.15,
          5248.8,
          5244.05,
          5241.65,
          5240.56,
          5239.5,
          5239,
          5238.33,
          5237.25,
          5233.35,
          5231.81,
          5228.89,
          5228.44,
          5221.07,
          5220.37,
          5220.25,
          5219.3,
          5210.64,
          5208.77,
          5208.62,
          5204.47,
          5197.59,
          5196.71,
          5195.81,
          5190.85,
          5187.39,
          5186.35,
          5186.03,
          5174.36,
          5173.76,
          5171.77,
          5167.33,
          5166.34,
          5161.94,
          5161.71,
          5153.05,
          5151.54,
          5148.05,
          5145.93,
          5140,
          5133.82,
          5125.35,
          5124.18,
          5123.53,
          5119.4,
          5116.89,
          5116.55,
          5114.23,
          5109.36,
          5107.59,
          5106.64,
          5102.1,
          5100.47,
          5100.19,
          5099.4,
          5098.5,
          5095.75,
          5093.05,
          5092.2,
          5092.19,
          5084.26,
          5069.91,
          5057.34,
          5051.81,
          5050.96,
          5042.31,
          5038.6,
          5032.1,
          5030.87,
          5027.26,
          5026.11,
          5019.15,
          5014.9,
          5014.77,
          5010.91,
          5007.63,
          5006,
          5004.4,
          4996.93,
          4996.55,
          4994.24,
          4992.47,
          4989.41,
          4987.65,
          4981.55,
          4978.2,
          4972.5,
          4957.3,
          4957.17,
          4956.9,
          4955.2,
          4952.02,
          4951.86,
          4946.3,
          4940.28,
          4935.08,
          4929.1,
          4928.85,
          4927.25,
          4919.7,
          4918.56,
          4909.21,
          4905.74,
          4904.5,
          4900.56,
          4894.56,
          4893.29,
          4891.98,
          4891.07,
          4887.53,
          4887.36,
          4886.05,
          4884.4,
          4880.88,
          4878.65,
          4877.59,
          4877.06,
          4875.91,
          4875.86,
          4870.13,
          4863.16,
          4858.83,
          4854.18,
          4852.09,
          4846.48,
          4845.75,
          4845.51,
          4838.92,
          4838.69,
          4838.68,
          4837.37,
          4832.85,
          4831.63,
          4827.31,
          4824.93,
          4817.25,
          4816.1,
          4814.05,
          4807.45,
          4806.7,
          4801.93,
          4792.37,
          4789.42,
          4785.13,
          4784.45,
          4782.82,
          4779.37,
          4778.95,
          4778.48,
          4770.82,
          4770.3,
          4769.69,
          4769.55,
          4766.25,
          4764.47,
          4760.15,
          4758.1,
          4757.87,
          4754.3,
          4753.36,
          4751.09,
          4747.08,
          4746.86,
          4744.57,
          4739.95,
          4735,
          4732.35,
          4727.95,
          4727.76,
          4726.86,
          4726.65,
          4725.65,
          4725.55,
          4724.5,
          4721.97,
          4720.81,
          4719.75,
          4718.22,
          4716.78,
          4715.85,
          4713.53,
          4712.42,
          4710.28,
          4709.24,
          4708.8,
          4704.05,
          4701.95,
          4701.26,
          4695.88,
          4695.81,
          4694.91,
          4693.82,
          4689.15,
          4685.55,
          4684.8,
          4684.3,
          4681.62,
          4678.38,
          4675.85,
          4675.13,
          4674.01,
          4672.78,
          4671.7,
          4669.6,
          4668.12,
          4668,
          4663.86,
          4663.77,
          4662,
          4660.99,
          4660.65,
          4658.49,
          4656.88,
          4656.21,
          4654.02,
          4651.25,
          4644.5,
          4643.11,
          4641.1,
          4639.15,
          4636.05,
          4634.48,
          4632.9,
          4622.61,
          4620.9,
          4616.95,
          4616.82,
          4615.21,
          4614.51,
          4600.72,
          4599.77,
          4598.17,
          4594.46,
          4594.11,
          4589.82,
          4588.15,
          4582.5,
          4582.21,
          4581.97,
          4578.5,
          4577.04,
          4576.12,
          4576,
          4575.42,
          4575.35,
          4574.56,
          4568.09,
          4566.5,
          4565.9,
          4565.37,
          4561.85,
          4560.15,
          4559.91,
          4559.39,
          4558.85,
          4556.43,
          4550.54,
          4550.01,
          4549.05,
          4546.6,
          4543.49,
          4541.99,
          4534.48,
          4534,
          4533.69,
          4533.15,
          4530.3,
          4528.37,
          4528,
          4527.05,
          4525.32,
          4524.86,
          4524.65,
          4523.55,
          4518.74,
          4517.84,
          4513.4,
          4512.79,
          4511.01,
          4509.86,
          4500.07,
          4492.65,
          4492.33,
          4489.6,
          4489.53,
          4483.16,
          4482.85,
          4480.94,
          4477.95,
          4475.55,
          4473.15,
          4470.05,
          4469.43,
          4464.93,
          4464.8,
          4463.31,
          4462.7,
          4462.13,
          4461.86,
          4460.63,
          4458.84,
          4456.57,
          4454.88,
          4453.48,
          4450.34,
          4445.86,
          4445.63,
          4442.34,
          4435.7,
          4434.4,
          4431.56,
          4427.17,
          4425.31,
          4422.49,
          4412.57,
          4410.74,
          4410.24,
          4408.75,
          4406.25,
          4402.72,
          4396.24,
          4393.48,
          4393.16,
          4391.18,
          4390.25,
          4385.1,
          4382.95,
          4379.69,
          4379,
          4378.13,
          4367.57,
          4364.08,
          4358.25,
          4352.72,
          4349.7,
          4348.8,
          4344.46,
          4340.87,
          4334.76,
          4333.4,
          4331.48,
          4331.34,
          4328.8,
          4323.4,
          4319.57,
          4319,
          4314.18,
          4313.67,
          4313.36,
          4313.32,
          4310.7,
          4310.6,
          4310.35,
          4308.9,
          4304.87,
          4303.59,
          4299.42,
          4297.2,
          4294.87,
          4293.69,
          4293,
          4279.3,
          4271.96,
          4268.63,
          4263.4,
          4259.44,
          4254.5,
          4253.04,
          4242.43,
          4238.33,
          4234.02,
          4229.86,
          4228.66,
          4224.74,
          4222.67,
          4221.67,
          4220.84,
          4219.21,
          4218.96,
          4218.32,
          4217.8,
          4216.65,
          4214.25,
          4213.29,
          4213.19,
          4212.69,
          4211.6,
          4211.35,
          4211.13,
          4207.56,
          4204.9,
          4204.45,
          4203.93,
          4200.66,
          4196.65,
          4195.59,
          4194.1,
          4192.85,
          4190.02,
          4187.23,
          4186.2,
          4179.78,
          4179.2,
          4178.54,
          4175.5,
          4172.69,
          4168.13,
          4163.95,
          4158.76,
          4158.31,
          4158.15,
          4155.97,
          4150.52,
          4149.85,
          4147.58,
          4146.53,
          4145.9,
          4145.25,
          4143.89,
          4141.83,
          4140.08,
          4137.15,
          4136.4,
          4135.49,
          4126.3,
          4124.15,
          4122.65,
          4121.97,
          4121.08,
          4120.31,
          4118.13,
          4116.96,
          4109,
          4105.5,
          4104.47,
          4103.9,
          4103.13,
          4102.92,
          4102.43,
          4101.7,
          4100.98,
          4100.93,
          4097.95,
          4097.1,
          4089.89,
          4089.47,
          4087.6,
          4082.25,
          4080.8,
          4080.62,
          4080.42,
          4077.19,
          4069.73,
          4068.68,
          4068.57,
          4068.2,
          4065.35,
          4062.77,
          4059.7,
          4055.41,
          4054.36,
          4052.17,
          4051.5,
          4050.65,
          4050.25,
          4049.5,
          4048.15,
          4045.81,
          4038.29,
          4033.88,
          4029.46,
          4026.33,
          4025.13,
          4024.6,
          4024.43,
          4023.62,
          4023.62,
          4023.24,
          4022.57,
          4020.17,
          4019.37,
          4017.47,
          4014.4,
          4012.8,
          4006.78,
          4001.41,
          4000.55,
          3997.4,
          3993.19,
          3992.65,
          3990.95,
          3985.35,
          3984.88,
          3983.64,
          3981.71,
          3981.47,
          3979.3,
          3978.45,
          3975.33,
          3962.76,
          3962.03,
          3961.93,
          3960.5,
          3959.2,
          3952.45,
          3948.95,
          3948.45,
          3946.76,
          3946.18,
          3944.1,
          3943.82,
          3937.32,
          3936.58,
          3933.78,
          3932.15,
          3929.5,
          3925.67,
          3922.8,
          3922.41,
          3921.1,
          3920.37,
          3917.2,
          3911.52,
          3902.9,
          3899.77,
          3896.7,
          3893.9,
          3893.15,
          3892.87,
          3892.53,
          3889.7,
          3889.63,
          3888.65,
          3886.85,
          3886.48,
          3885.8,
          3882.89,
          3882.64,
          3881.48,
          3880.97,
          3880.05,
          3879.74,
          3876.75,
          3871.57,
          3871.35,
          3871.28,
          3869.65,
          3867.41,
          3865.42,
          3863.47,
          3860.9,
          3859.27,
          3858.88,
          3851.25,
          3849.58,
          3847.4,
          3845.45,
          3843.89,
          3840.8,
          3839.26,
          3834.31,
          3832.66,
          3832.45,
          3828.61,
          3827.93,
          3825.67,
          3823.12,
          3819.22,
          3816.31,
          3815.5,
          3811.55,
          3809,
          3805.77,
          3805.05,
          3801.15,
          3799.32,
          3794.5,
          3789.24,
          3789.2,
          3784,
          3778.85,
          3778.7,
          3775.63,
          3774.44,
          3773.14,
          3772.5,
          3770.85,
          3765.29,
          3758.44,
          3755.7,
          3755.52,
          3755.15,
          3754.95,
          3754.16,
          3752.51,
          3751.61,
          3751.15,
          3744.43,
          3740,
          3735.75,
          3735.71,
          3734.57,
          3733.59,
          3730.68,
          3727.77,
          3723.51,
          3721.95,
          3721.85,
          3718.56,
          3714.5,
          3712.51,
          3709.85,
          3708.4,
          3707.6,
          3706.87,
          3701.06,
          3700.62,
          3698.03,
          3697.02,
          3696.96,
          3694.18,
          3690.81,
          3689.52,
          3687.25,
          3684.97,
          3682.25,
          3682.07,
          3679.8,
          3674.07,
          3673.39,
          3672.62,
          3668.97,
          3665.94,
          3663.81,
          3660.43,
          3658.08,
          3656.25,
          3655.89,
          3651.55,
          3651.48,
          3647.26,
          3630.04,
          3625.67,
          3624.77,
          3624.35,
          3624.32,
          3624.31,
          3624.15,
          3623.95,
          3619.98,
          3618.46,
          3617.3,
          3617.03,
          3616.32,
          3613.36,
          3607.48,
          3606.07,
          3603.81,
          3603.45,
          3602.78,
          3602.57,
          3597.11,
          3596.73,
          3593.87,
          3592.73,
          3590.2,
          3589.82,
          3588.29,
          3585.57,
          3585.25,
          3583.07,
          3582.4,
          3580.95,
          3579.15,
          3578.27,
          3570.44,
          3570.15,
          3566.53,
          3556.31,
          3555.75,
          3555.7,
          3553.25,
          3550.95,
          3549.85,
          3549.69,
          3546.87,
          3545.95,
          3544.84,
          3542.68,
          3542.3,
          3539.58,
          3533.87,
          3530.94,
          3522.89,
          3521.7,
          3518.99,
          3517.9,
          3516.46,
          3514.34,
          3511.7,
          3511.68,
          3510.59,
          3507.69,
          3505.75,
          3505.37,
          3503.95,
          3499,
          3492.79,
          3492.56,
          3482.36,
          3482.19,
          3482,
          3480.52,
          3479.07,
          3476.49,
          3476.22,
          3475.7,
          3475.63,
          3475.23,
          3474.55,
          3472.5,
          3466.56,
          3466.44,
          3466.34,
          3465.61,
          3463.91,
          3462.68,
          3461.58,
          3461.52,
          3458.71,
          3454.05,
          3453.4,
          3453.34,
          3451.73,
          3448.66,
          3448.16,
          3446.43,
          3442.8,
          3442.6,
          3441.91,
          3441.4,
          3441.17,
          3438.44,
          3437.45,
          3435.74,
          3434.38,
          3433.25,
          3433.1,
          3430.52,
          3429.98,
          3426.42,
          3425.48,
          3423.82,
          3423.5,
          3423.5,
          3415.95,
          3413.89,
          3413.15,
          3409.37,
          3399.52,
          3396.75,
          3396.46,
          3392.3,
          3388.51,
          3388.36,
          3386.4,
          3386.4,
          3382.01,
          3380.51,
          3378.79,
          3378.07,
          3377.8,
          3374.67,
          3373.35,
          3370.2,
          3369.77,
          3364.5,
          3363.91,
          3360.02,
          3359.87,
          3358.36,
          3357.77,
          3356.67,
          3356.57,
          3355.72,
          3353.8,
          3353.35,
          3352.93,
          3345.87,
          3342.12,
          3334.95,
          3334.76,
          3330.32,
          3330.1,
          3330.07,
          3328.35,
          3327.14,
          3326.41,
          3326.26,
          3321.35,
          3310.5,
          3302.82,
          3301.81,
          3301.73,
          3295.8,
          3295.21,
          3290.7,
          3289.81,
          3289.29,
          3287.72,
          3287.07,
          3284.68,
          3281.65,
          3280.64,
          3280.12,
          3275.73,
          3273.07,
          3272.92,
          3269.6,
          3269.24,
          3267.11,
          3265.55,
          3263.6,
          3261.54,
          3258.42,
          3257.37,
          3254.42,
          3252.79,
          3252.13,
          3252.03,
          3247.66,
          3245.26,
          3245.09,
          3244.4,
          3243.85,
          3243.37,
          3241.85,
          3237.05,
          3232.17,
          3229.51,
          3227.46,
          3225.32,
          3224.11,
          3221.69,
          3220.95,
          3220.9,
          3219.15,
          3217.2,
          3215.94,
          3213.4,
          3210.35,
          3208.16,
          3201.33,
          3200.34,
          3199.71,
          3198.21,
          3198.08,
          3197.75,
          3196,
          3195.6,
          3195.57,
          3195.3,
          3194.34,
          3192.47,
          3190.05,
          3189.96,
          3189.42,
          3188.18,
          3186.75,
          3180.3,
          3177.25,
          3176.59,
          3175.13,
          3174.45,
          3174.27,
          3173.44,
          3171.1,
          3170.32,
          3166.9,
          3162.93,
          3162.45,
          3158.59,
          3157.66,
          3152.85,
          3151.53,
          3148.73,
          3148.51,
          3147.34,
          3144.05,
          3139.8,
          3136.59,
          3134.35,
          3133.38,
          3132.21,
          3130.91,
          3130.6,
          3129.75,
          3128.55,
          3124.56,
          3121.4,
          3121.37,
          3116.55,
          3113.49,
          3110.51,
          3109.78,
          3108.75,
          3102.05,
          3096.26,
          3096.21,
          3094.05,
          3092.93,
          3087.35,
          3085.35,
          3083.62,
          3081.23,
          3078.85,
          3078.08,
          3077,
          3076.2,
          3075.66,
          3074,
          3073.35,
          3071.38,
          3070.89,
          3069.76,
          3069.45,
          3066.93,
          3066.55,
          3065.65,
          3064.16,
          3062.77,
          3062.75,
          3062.75,
          3062.08,
          3061.64,
          3058.15,
          3055.94,
          3055.14,
          3054.42,
          3053.39,
          3052.95,
          3052.93,
          3051.8,
          3048.48,
          3048.4,
          3046.3,
          3046.13,
          3045.75,
          3044.92,
          3044.8,
          3042.86,
          3039.53,
          3038.55,
          3038.01,
          3036.35,
          3036.18,
          3035.71,
          3033.75,
          3031.85,
          3029.77,
          3027.85,
          3027.25,
          3025.45,
          3022.05,
          3021.17,
          3020.17,
          3019,
          3018.59,
          3017.05,
          3015.44,
          3011.65,
          3010.85,
          3008.33,
          3007.02,
          3005.95,
          3005.8,
          3003.41,
          3001.91,
          3001.45,
          2999.8,
          2998.8,
          2997.45,
          2997.45,
          2995.74,
          2995.3,
          2995.13,
          2994.56,
          2993.47,
          2993.4,
          2991.89,
          2983.65,
          2982.67,
          2977.85,
          2974.69,
          2973.35,
          2970.85,
          2966.95,
          2965.75,
          2962,
          2960.85,
          2960.12,
          2960.1,
          2959.89,
          2957.32,
          2955.42,
          2954.75,
          2952.4,
          2951.69,
          2949.58,
          2947.66,
          2947.55,
          2946.05,
          2944.27,
          2942.3,
          2939.35,
          2938.5,
          2937.47,
          2937.06,
          2936.51,
          2936.43,
          2935.41,
          2933.95,
          2931.14,
          2929.38,
          2929.23,
          2928.5,
          2925.78,
          2924.96,
          2921.61,
          2921.26,
          2919.85,
          2916.88,
          2916.86,
          2913.85,
          2911.5,
          2909.83,
          2908.98,
          2908.18,
          2901.28,
          2901.13,
          2898.95,
          2893.4,
          2893.18,
          2890.54,
          2886.55,
          2884.9,
          2879.2,
          2879.08,
          2877.8,
          2877.4,
          2875.9,
          2873.8,
          2869.28,
          2868.67,
          2867.73,
          2867.65,
          2866.97,
          2864.53,
          2861.95,
          2861.91,
          2861,
          2860.5,
          2860.46,
          2856.99,
          2852.09,
          2849,
          2848.2,
          2848.06,
          2847.5,
          2845.88,
          2845.79,
          2845.78,
          2841.61,
          2833.2,
          2832.1,
          2828,
          2827.7,
          2827.29,
          2826.22,
          2826.17,
          2824.65,
          2823.69,
          2816.25,
          2812.63,
          2810.5,
          2808.75,
          2807.47,
          2804.1,
          2803.55,
          2800.67,
          2799.75,
          2798.92,
          2797.7,
          2796.35,
          2792.76,
          2790.91,
          2782.4,
          2782.23,
          2781,
          2780.6,
          2779.78,
          2779.5,
          2779.08,
          2777.85,
          2776.27,
          2776.13,
          2774.68,
          2773.9,
          2773.12,
          2772.44,
          2768.65,
          2767.86,
          2767.56,
          2767.5,
          2766.35,
          2764.24,
          2763,
          2762.17,
          2761.35,
          2758.31,
          2757,
          2749.29,
          2748.7,
          2748.65,
          2747.26,
          2744.37,
          2743.45,
          2740.55,
          2737.61,
          2737.14,
          2736.14,
          2729.64,
          2728.74,
          2725.25,
          2723.25,
          2721.28,
          2720.5,
          2719.2,
          2718.8,
          2718.2,
          2717.9,
          2717.05,
          2714.99,
          2711.21,
          2707,
          2706.78,
          2706.67,
          2701.54,
          2701.33,
          2700.7,
          2700.24,
          2697.31,
          2696.55,
          2693.85,
          2693.03,
          2692.75,
          2690.4,
          2689.35,
          2687.05,
          2686.75,
          2686.71,
          2686.06,
          2685.55,
          2682.52,
          2682.03,
          2678.88,
          2677.15,
          2675.61,
          2674.99,
          2674.45,
          2671.96,
          2671.49,
          2670.42,
          2669.29,
          2667.9,
          2667.25,
          2663.08,
          2662.67,
          2662.41,
          2658.8,
          2656.56,
          2656.38,
          2654.36,
          2653.34,
          2652.88,
          2652.6,
          2650.26,
          2646.25,
          2644.96,
          2643.76,
          2643.6,
          2643.39,
          2643.05,
          2642.25,
          2641.98,
          2639.44,
          2637.75,
          2637,
          2636.5,
          2636.14,
          2635.84,
          2634.12,
          2633.92,
          2633.63,
          2629.3,
          2628.85,
          2625.75,
          2623.85,
          2622.88,
          2620.72,
          2618.3,
          2617.65,
          2614.33,
          2613.51,
          2611.02,
          2610.93,
          2609.25,
          2607.89,
          2599.59,
          2599.28,
          2596.95,
          2593.73,
          2588.95,
          2588.75,
          2585.92,
          2581.45,
          2580.72,
          2579.85,
          2578.8,
          2577.95,
          2577.77,
          2577.65,
          2575.05,
          2572.95,
          2571.48,
          2570.99,
          2569.73,
          2567.97,
          2566.3,
          2564.95,
          2563.71,
          2563.42,
          2563.37,
          2562.29,
          2560.1,
          2559.21,
          2558.81,
          2557.49,
          2556.83,
          2555.05,
          2554.86,
          2553.35,
          2551.81,
          2551.62,
          2549.1,
          2548.69,
          2547.96,
          2546.85,
          2545.7,
          2545.04,
          2542.77,
          2539.15,
          2538.27,
          2536.74,
          2536.02,
          2534.7,
          2533.85,
          2532.68,
          2528.03,
          2526.99,
          2526.77,
          2525.52,
          2525.28,
          2524.7,
          2524.05,
          2523.76,
          2521.99,
          2521.6,
          2520.66,
          2520.32,
          2518.86,
          2517.65,
          2515.01,
          2514.61,
          2514.05,
          2513.6,
          2511.75,
          2511.55,
          2509.81,
          2508.15,
          2507.59,
          2505.56,
          2503.63,
          2501.72,
          2501.54,
          2500.75,
          2498.01,
          2496.95,
          2496.35,
          2495.78,
          2495.2,
          2493.8,
          2492.06,
          2491.1,
          2487.43,
          2487.32,
          2485.2,
          2482.83,
          2482.7,
          2482.69,
          2481.55,
          2481.24,
          2481.09,
          2480.64,
          2480.55,
          2480.23,
          2479.05,
          2477.54,
          2477.23,
          2476.98,
          2474.4,
          2473.18,
          2473.05,
          2472.71,
          2470.56,
          2469.1,
          2468.27,
          2467.59,
          2467.15,
          2463.36,
          2462.95,
          2461.87,
          2461.21,
          2460.55,
          2460.45,
          2459.05,
          2456.05,
          2455.72,
          2453.92,
          2452.31,
          2449.46,
          2448.5,
          2447.35,
          2444.98,
          2443.92,
          2443.77,
          2442.74,
          2437.25,
          2435.15,
          2434.78,
          2434.45,
          2433.6,
          2431.95,
          2431.28,
          2431.26,
          2430.38,
          2428.45,
          2428.28,
          2427.99,
          2427.47,
          2423.24,
          2423.09,
          2422.86,
          2421.8,
          2418.93,
          2418.54,
          2417.9,
          2415.9,
          2413.29,
          2411.42,
          2410.15,
          2409.9,
          2407.9,
          2406.97,
          2403.66,
          2403.11,
          2402.81,
          2400.71,
          2398.09,
          2397.58,
          2397.26,
          2395.05,
          2390.45,
          2388.42,
          2388.33,
          2387.67,
          2386.04,
          2384.27,
          2384.16,
          2378.94,
          2376.45,
          2374.95,
          2369.7,
          2367.74,
          2367.15,
          2366.93,
          2366.55,
          2365.95,
          2364.64,
          2362.3,
          2360.97,
          2360.55,
          2356.16,
          2354.52,
          2353.38,
          2353.31,
          2352.75,
          2352.45,
          2348.67,
          2348.1,
          2345.55,
          2344.21,
          2342.81,
          2342.61,
          2338.19,
          2337.45,
          2335.87,
          2333.85,
          2333.69,
          2333.62,
          2332.59,
          2331.55,
          2331.51,
          2331.42,
          2331.36,
          2328.72,
          2327.75,
          2327.3,
          2327.1,
          2325.67,
          2325.55,
          2325.22,
          2323.86,
          2323.44,
          2319.3,
          2317.95,
          2315.86,
          2309.16,
          2308.39,
          2306.96,
          2306.48,
          2305.36,
          2304.35,
          2301.31,
          2298.9,
          2295.65,
          2294.13,
          2293.5,
          2292.04,
          2291.18,
          2289.55,
          2289.35,
          2288.7,
          2287.95,
          2285.99,
          2284.19,
          2280.95,
          2279.56,
          2278.4,
          2276.59,
          2271.58,
          2269.39,
          2267.48,
          2265.4,
          2265,
          2264.72,
          2264.5,
          2264,
          2259.7,
          2259.04,
          2258.25,
          2256.97,
          2255.32,
          2254.1,
          2254.02,
          2252.6,
          2249.76,
          2248.31,
          2248.09,
          2246.05,
          2245.47,
          2241.93,
          2241.75,
          2240.09,
          2234.55,
          2234.02,
          2233.35,
          2230.45,
          2229.57,
          2228.65,
          2227.35,
          2227.2,
          2224.7,
          2223.76,
          2222.52,
          2221.75,
          2221.56,
          2217.57,
          2217.44,
          2217.35,
          2217.27,
          2216.68,
          2215.4,
          2212.3,
          2209.21,
          2208.56,
          2208.05,
          2206.86,
          2206.01,
          2203.5,
          2203.23,
          2199.56,
          2196.3,
          2195.55,
          2193.2,
          2191.7,
          2190.44,
          2188.45,
          2185.3,
          2183.39,
          2182.45,
          2182.4,
          2181.55,
          2180.75,
          2178.3,
          2177.24,
          2176.04,
          2173.69,
          2173.09,
          2171.57,
          2171.35,
          2169.7,
          2168.01,
          2165.71,
          2163.14,
          2162.25,
          2158.46,
          2158.04,
          2157.11,
          2156.17,
          2155.1,
          2154.4,
          2153.84,
          2151.6,
          2151.47,
          2146.09,
          2144.05,
          2135.73,
          2135.59,
          2135.2,
          2134.3,
          2133.36,
          2132.89,
          2132.19,
          2132.08,
          2131.57,
          2130.97,
          2129.91,
          2128.93,
          2128.81,
          2125.03,
          2124.42,
          2118.98,
          2116.94,
          2115.2,
          2112.9,
          2112.1,
          2110.73,
          2109.97,
          2109.87,
          2108.72,
          2108.65,
          2108.64,
          2108.63,
          2108.35,
          2108,
          2106.22,
          2106.2,
          2105.52,
          2104.55,
          2104.19,
          2104,
          2100.58,
          2096.12,
          2096.05,
          2095.9,
          2094.72,
          2090.98,
          2090.75,
          2089.31,
          2085.86,
          2084.92,
          2081.6,
          2080.39,
          2078.36,
          2075.05,
          2074.21,
          2072.75,
          2070.75,
          2070.65,
          2070.18,
          2069.57,
          2066.2,
          2065.55,
          2063.92,
          2063.65,
          2062.83,
          2062.15,
          2061.4,
          2061.12,
          2057.44,
          2057.3,
          2056.64,
          2055.01,
          2054.52,
          2051.42,
          2050.05,
          2049.05,
          2047.16,
          2046.53,
          2044,
          2043.75,
          2042.52,
          2041.52,
          2041.5,
          2040.97,
          2040.42,
          2036.55,
          2032.3,
          2031.5,
          2031.2,
          2030.6,
          2029.71,
          2029.28,
          2029.19,
          2028.39,
          2025.75,
          2025.48,
          2023.5,
          2021.35,
          2020.9,
          2020.64,
          2020.45,
          2018.25,
          2016.3,
          2015.86,
          2012.55,
          2012.29,
          2011.62,
          2010.84,
          2009.79,
          2007.85,
          2006,
          2002.84,
          2001.79,
          1999.38,
          1996.44,
          1995.44,
          1993.28,
          1993.2,
          1990.92,
          1989.3,
          1988.97,
          1985.28,
          1984,
          1983.38,
          1983.15,
          1982.16,
          1980.3,
          1979.1,
          1979.1,
          1978.2,
          1976.94,
          1976.73,
          1976.51,
          1974,
          1971.66,
          1971.49,
          1970.87,
          1970.64,
          1970.46,
          1969.17,
          1967.65,
          1965.58,
          1965.57,
          1963.4,
          1960.54,
          1959.02,
          1958.95,
          1958.8,
          1957.25,
          1955.19,
          1946.55,
          1945.97,
          1945.19,
          1943.37,
          1942.95,
          1941.95,
          1941,
          1940.99,
          1937.01,
          1936.82,
          1936.34,
          1935.38,
          1934.6,
          1932.75,
          1931.51,
          1931.3,
          1930.9,
          1930.8,
          1930.73,
          1924.26,
          1922.7,
          1922.7,
          1921.97,
          1919.01,
          1918.35,
          1917.85,
          1917.81,
          1917.3,
          1917.28,
          1917.06,
          1914.37,
          1912.85,
          1911.9,
          1911.5,
          1909.75,
          1909.68,
          1908.01,
          1907.1,
          1907.07,
          1904.15,
          1901.89,
          1901.25,
          1900.67,
          1897.5,
          1897.41,
          1896.05,
          1894.77,
          1890.98,
          1886.95,
          1886.28,
          1884.65,
          1884.46,
          1883.35,
          1879.73,
          1878.75,
          1875.86,
          1875.55,
          1875.25,
          1875.04,
          1871.45,
          1868.88,
          1868.12,
          1864.41,
          1864.25,
          1860.23,
          1858.95,
          1858.39,
          1857.87,
          1857.79,
          1857.58,
          1857.37,
          1852.65,
          1850.57,
          1848.8,
          1848.58,
          1846.92,
          1846.6,
          1843.83,
          1840.75,
          1840.6,
          1840.49,
          1839.21,
          1838.15,
          1837.34,
          1836.23,
          1835.81,
          1834.21,
          1832.13,
          1825.35,
          1822.98,
          1821.17,
          1820.18,
          1819.55,
          1819.51,
          1819.05,
          1817.02,
          1816.96,
          1814.16,
          1813.93,
          1811.93,
          1811.34,
          1805.59,
          1803.7,
          1803.26,
          1802.3,
          1802.05,
          1799.98,
          1799.81,
          1798.65,
          1796.37,
          1796.15,
          1795.78,
          1794.8,
          1790.61,
          1790.6,
          1789.86,
          1787.09,
          1787.06,
          1786.2,
          1786,
          1785.02,
          1783.74,
          1783.62,
          1783.5,
          1782.4,
          1782,
          1778.46,
          1774.31,
          1772.61,
          1772.08,
          1772,
          1770.29,
          1766.73,
          1766.56,
          1765.97,
          1765.95,
          1765.94,
          1764.38,
          1763.76,
          1760.73,
          1760.64,
          1756.55,
          1755.35,
          1752.15,
          1751.44,
          1750.85,
          1750.06,
          1749.15,
          1748.9,
          1748.29,
          1746.43,
          1744.2,
          1742.9,
          1742.71,
          1742.63,
          1739.03,
          1736.44,
          1734.7,
          1734.65,
          1734.62,
          1731.37,
          1728.57,
          1727.35,
          1727.35,
          1726.65,
          1720.99,
          1718.55,
          1717.84,
          1715.88,
          1713.9,
          1713.68,
          1713.52,
          1713.36,
          1710.22,
          1708.75,
          1708.5,
          1701.65,
          1700.9,
          1699.88,
          1696.9,
          1695.3,
          1694.22,
          1687.58,
          1683.18,
          1682.05,
          1681.06,
          1680.86,
          1679.81,
          1679.05,
          1677.85,
          1676.33,
          1668.74,
          1668.56,
          1668.29,
          1666.99,
          1665.75,
          1665.62,
          1665.02,
          1655.99,
          1655.59,
          1654.95,
          1653.45,
          1651.64,
          1651.36,
          1650.6,
          1650.58,
          1649.79,
          1645.5,
          1645.24,
          1644.88,
          1644.38,
          1643.14,
          1642.96,
          1642.5,
          1639.16,
          1636.95,
          1635.75,
          1635.38,
          1634.26,
          1634.03,
          1633.66,
          1630.4,
          1629.35,
          1629.15,
          1629.09,
          1627.54,
          1627.29,
          1626.33,
          1626.05,
          1623.46,
          1622.71,
          1622.17,
          1622.1,
          1622.06,
          1621.35,
          1620.7,
          1620.52,
          1620.25,
          1615.44,
          1613.67,
          1613.47,
          1612.49,
          1611.68,
          1609.14,
          1608.25,
          1607.99,
          1606.1,
          1606.09,
          1605.39,
          1605.25,
          1603.86,
          1603.08,
          1603.06,
          1602.68,
          1600.65,
          1600.15,
          1599.04,
          1597.05,
          1596.6,
          1596.15,
          1595.38,
          1594.61,
          1593.68,
          1591.76,
          1590.96,
          1590.42,
          1584.84,
          1582.39,
          1580.1,
          1579.34,
          1579.09,
          1578.58,
          1576.75,
          1576.02,
          1574.84,
          1574.2,
          1571.68,
          1569.02,
          1566.94,
          1565.9,
          1564.05,
          1563.82,
          1562.07,
          1561.16,
          1561.15,
          1558.72,
          1557.56,
          1556.03,
          1554.27,
          1552.66,
          1551.95,
          1550.23,
          1548.97,
          1547.76,
          1547.35,
          1546.89,
          1545.65,
          1544.94,
          1544.81,
          1544.55,
          1544.31,
          1543.01,
          1541.43,
          1540.25,
          1540.2,
          1539.77,
          1537.85,
          1537.7,
          1536.62,
          1535.77,
          1535,
          1533.46,
          1529.45,
          1528.25,
          1527.98,
          1525.35,
          1524.37,
          1524.12,
          1523.4,
          1520.31,
          1520.1,
          1519.83,
          1517.41,
          1516.6,
          1514.05,
          1512.9,
          1509.69,
          1507.9,
          1507.01,
          1506.71,
          1505.8,
          1503.99,
          1502.1,
          1501.65,
          1500.31,
          1496.02,
          1495.34,
          1494.63,
          1494.5,
          1492.72,
          1489.52,
          1489.3,
          1488.07,
          1486.19,
          1481.7,
          1480.08,
          1479.17,
          1478.85,
          1477.22,
          1475.95,
          1474.72,
          1473.24,
          1471.26,
          1467.32,
          1467.2,
          1465.84,
          1464.4,
          1463.7,
          1459.9,
          1459.83,
          1459.35,
          1456.13,
          1454.53,
          1453.1,
          1452.23,
          1452.21,
          1451.75,
          1450.56,
          1450.47,
          1450.05,
          1449.2,
          1447.43,
          1445.75,
          1445.57,
          1445.45,
          1443.48,
          1443.42,
          1442.81,
          1442.6,
          1440.85,
          1439.54,
          1438.95,
          1437.19,
          1437.05,
          1436.77,
          1436.23,
          1434.6,
          1431.73,
          1430.8,
          1427.9,
          1423.15,
          1423.05,
          1422.4,
          1422.07,
          1419.31,
          1419.19,
          1419.18,
          1416.9,
          1416.7,
          1416.18,
          1415.4,
          1415.28,
          1415.26,
          1413.96,
          1413.29,
          1413.25,
          1412.4,
          1410.48,
          1410.28,
          1409.7,
          1409.65,
          1405.92,
          1404.86,
          1404.18,
          1402.08,
          1401.9,
          1400.46,
          1396.96,
          1396.02,
          1395.95,
          1395.33,
          1394.31,
          1393.65,
          1393.58,
          1393.1,
          1391.65,
          1389.32,
          1388.75,
          1386.8,
          1384.45,
          1383.6,
          1381.9,
          1380.86,
          1380.43,
          1379.12,
          1378.44,
          1377.82,
          1377.81,
          1377.5,
          1375.99,
          1371.15,
          1370.12,
          1369.75,
          1369.41,
          1368.5,
          1367.75,
          1367.1,
          1364.75,
          1363.98,
          1362.85,
          1362.15,
          1357.07,
          1353.81,
          1353.01,
          1352.4,
          1351.16,
          1349.74,
          1348.95,
          1348.93,
          1348.85,
          1347.43,
          1346.9,
          1343.93,
          1343.44,
          1343.28,
          1340.61,
          1340.11,
          1335.85,
          1334.08,
          1331.58,
          1329.34,
          1326.4,
          1325.85,
          1325.52,
          1324.51,
          1320.54,
          1320.45,
          1319.86,
          1317.95,
          1317.65,
          1317.42,
          1315,
          1314.58,
          1311.65,
          1309.15,
          1309,
          1307.88,
          1307.8,
          1307.54,
          1307.53,
          1307.45,
          1304.85,
          1298,
          1293.8,
          1291.8,
          1291.37,
          1289.46,
          1288.75,
          1288.55,
          1287.7,
          1286.45,
          1286.26,
          1285.85,
          1282.67,
          1280.48,
          1278.75,
          1277.5,
          1276.4,
          1274.51,
          1273.83,
          1273.8,
          1273.49,
          1271.59,
          1270.55,
          1270.5,
          1269.75,
          1267.66,
          1267.2,
          1265.87,
          1264.41,
          1262.94,
          1260.34,
          1257.77,
          1257.52,
          1257.05,
          1256.3,
          1254.64,
          1254.13,
          1253.95,
          1253.67,
          1251.98,
          1249.15,
          1248.99,
          1247.82,
          1246.76,
          1245.49,
          1244.4,
          1242.7,
          1240.42,
          1239.31,
          1238.88,
          1236.06,
          1233.9,
          1231.86,
          1230.19,
          1228.65,
          1227.45,
          1227.43,
          1226.82,
          1225.02,
          1224.22,
          1224.05,
          1223.99,
          1221.93,
          1221.59,
          1221.41,
          1218.3,
          1217.86,
          1216.58,
          1216.44,
          1216.07,
          1215.27,
          1212.1,
          1212,
          1210.38,
          1210.23,
          1209.57,
          1209.32,
          1208.15,
          1206.56,
          1205.85,
          1203.4,
          1200.7,
          1199.85,
          1198.78,
          1198,
          1194.44,
          1192.36,
          1191.35,
          1188.58,
          1187.56,
          1187.05,
          1184.7,
          1183.8,
          1182.39,
          1182.04,
          1181.68,
          1180.75,
          1179.92,
          1179.87,
          1178.85,
          1178.43,
          1178.1,
          1177.95,
          1177.83,
          1176.8,
          1175.8,
          1174.66,
          1174.01,
          1173.58,
          1171.88,
          1170.69,
          1167.66,
          1167.59,
          1167.51,
          1165.55,
          1164.07,
          1163.98,
          1162.34,
          1156.55,
          1156.48,
          1155.54,
          1154.54,
          1153.77,
          1152.71,
          1151.05,
          1149.22,
          1147,
          1145.45,
          1143.92,
          1143.51,
          1139.89,
          1139.25,
          1135.96,
          1134.94,
          1134.72,
          1133.91,
          1129.39,
          1128.15,
          1126.96,
          1126.35,
          1125.96,
          1123.71,
          1123.61,
          1123.29,
          1122.15,
          1119.8,
          1119.4,
          1118.2,
          1116.07,
          1116.05,
          1113.95,
          1111.53,
          1110.75,
          1109.06,
          1108.53,
          1107.65,
          1106.7,
          1104.65,
          1104.62,
          1103.88,
          1103.32,
          1102.65,
          1102.17,
          1101.09,
          1098.99,
          1098.85,
          1098.51,
          1097.69,
          1097.15,
          1096.6,
          1094.35,
          1093.54,
          1091.75,
          1091.02,
          1090.34,
          1089.81,
          1089.23,
          1088.49,
          1088.41,
          1088.1,
          1087.62,
          1084.38,
          1083.14,
          1082.75,
          1081.84,
          1080.05,
          1074.6,
          1073.3,
          1072.6,
          1070.4,
          1069.51,
          1067.78,
          1067.72,
          1067.62,
          1065.15,
          1064.41,
          1062.72,
          1060.05,
          1059.11,
          1055.15,
          1054.18,
          1053.46,
          1052.79,
          1052.1,
          1051.96,
          1051.05,
          1050.51,
          1050.04,
          1049.29,
          1048.19,
          1048.03,
          1046.21,
          1046.17,
          1045.24,
          1045.14,
          1044.84,
          1044.52,
          1044.48,
          1042.04,
          1039.96,
          1039.87,
          1037.83,
          1037.38,
          1036.38,
          1036.35,
          1036.19,
          1035.85,
          1035.8,
          1035.55,
          1031.4,
          1030.22,
          1029.87,
          1027.94,
          1026.27,
          1025.68,
          1025.3,
          1024.99,
          1024.85,
          1023.95,
          1023.75,
          1022.5,
          1021.02,
          1020.08,
          1020,
          1018.5,
          1017.07,
          1015.45,
          1014.9,
          1013.65,
          1012.11,
          1011.5,
          1011.01,
          1010.82,
          1010.15,
          1009.25,
          1009.14,
          1008.36,
          1005.54,
          1004.75,
          1003.5,
          1002.99,
          1002.36,
          1001.99,
          1001.5,
          1000.08,
          998.61,
          997.72,
          997.6,
          995.07,
          995,
          990.99,
          990.81,
          989.88,
          989.7,
          988.14,
          987.6,
          987.44,
          986.09,
          985.91,
          985.05,
          983.65,
          980.15,
          978.95,
          978.6,
          978.38,
          977.42,
          977.35,
          977.2,
          976.7,
          976.6,
          976.12,
          976.02,
          975.9,
          974.81,
          974.63,
          973.81,
          973.53,
          971.75,
          970.55,
          969,
          967.99,
          967.15,
          966.1,
          965.43,
          964.29,
          964.15,
          963.89,
          963.73,
          963.16,
          963.12,
          962.04,
          961.6,
          961.4,
          961.21,
          958.15,
          957.67,
          956.24,
          955.75,
          955.62,
          954.85,
          954.65,
          953.85,
          953.25,
          952.35,
          952.2,
          951.75,
          951.42,
          950.9,
          950.75,
          947.75,
          947.4,
          945.68,
          944.75,
          944.04,
          943.96,
          941.87,
          939.85,
          938.65,
          938.55,
          938.45,
          936.67,
          934.96,
          930.41,
          928.71,
          927.65,
          927.07,
          926.2,
          925.5,
          923.95,
          923.6,
          920.33,
          919.86,
          918.5,
          917.38,
          916.15,
          915.79,
          908.9,
          908.04,
          908,
          907.65,
          907.33,
          907.16,
          905.61,
          905.57,
          902.94,
          902.74,
          902.03,
          901.31,
          899.9,
          899.24,
          897.75,
          897.74,
          897.45,
          895.83,
          895.29,
          895.2,
          892.75,
          891.32,
          890.76,
          889.93,
          889.79,
          888.93,
          888.93,
          888.88,
          888.84,
          888.22,
          887.07,
          884.74,
          882.76,
          879.25,
          875.8,
          875.5,
          875.43,
          874.37,
          872.62,
          870.95,
          869.29,
          869.24,
          867.93,
          867.74,
          865.61,
          865.29,
          865.26,
          862.04,
          861.99,
          861.61,
          861.31,
          861.28,
          860.1,
          858.45,
          858.09,
          857.75,
          856.75,
          856.73,
          856.6,
          853.41,
          852.94,
          852.8,
          852.7,
          852.5,
          851.54,
          851.4,
          850.98,
          848.72,
          847.7,
          846.7,
          846.6,
          844.58,
          844.45,
          842.82,
          842.44,
          838.1,
          837.64,
          836.35,
          836.25,
          836.19,
          835.89,
          835.7,
          835.45,
          834,
          833.37,
          830.8,
          830.22,
          830.12,
          829.28,
          828.2,
          826.3,
          825.65,
          825.4,
          825.36,
          825.24,
          824.96,
          823.55,
          823.46,
          823.45,
          822.79,
          822.2,
          820.9,
          820.05,
          819.17,
          816.7,
          816.25,
          815.4,
          814.29,
          813.45,
          812.7,
          812.4,
          810.85,
          809.76,
          808.22,
          806.4,
          805.15,
          803.87,
          803.01,
          801.95,
          799.45,
          799.45,
          795.57,
          795.22,
          793.63,
          793.45,
          793.01,
          792.49,
          792.15,
          791.74,
          790.7,
          790.7,
          790.53,
          789.99,
          789.97,
          789.4,
          789.18,
          788.05,
          787.52,
          787.35,
          786.26,
          785.93,
          785.58,
          785.04,
          784.42,
          782.91,
          782.57,
          780.15,
          779.25,
          778.4,
          776.22,
          774.6,
          774.51,
          773.85,
          772.84,
          771.96,
          771.95,
          771.16,
          770.95,
          770.6,
          770.4,
          770.15,
          768.45,
          767.35,
          766.8,
          766.49,
          766.37,
          766.11,
          766.09,
          761.2,
          761.08,
          758.69,
          758.44,
          753.79,
          752.89,
          752.25,
          752.21,
          751.07,
          749.78,
          748.67,
          748.63,
          745.45,
          745.42,
          743.75,
          743.41,
          741.93,
          741.15,
          740.84,
          738.06,
          737.44,
          737.4,
          736.48,
          736.4,
          733.17,
          732.97,
          732.81,
          732.68,
          732.13,
          731.71,
          730.11,
          728.1,
          727.26,
          727.13,
          726.39,
          725.56,
          725.55,
          724.35,
          723.34,
          722.38,
          722.06,
          720.4,
          719.3,
          718.77,
          717.53,
          717.28,
          714.57,
          714.32,
          714.23,
          713.05,
          712.85,
          712.6,
          711.44,
          709.88,
          707.67,
          703.02,
          702.89,
          702.33,
          701.85,
          700.7,
          698.59,
          696,
          695.75,
          692.35,
          692.05,
          691.54,
          690.05,
          689.54,
          689.45,
          689.08,
          688.87,
          688.12,
          688,
          687.29,
          687.18,
          686.38,
          683.75,
          682.64,
          682.29,
          682.15,
          682.1,
          681.64,
          680.72,
          678.75,
          677.18,
          676.15,
          675.49,
          674.11,
          672.7,
          672.48,
          672.07,
          671.88,
          670.87,
          670.25,
          669.25,
          668.83,
          667.59,
          667.2,
          665.09,
          664.4,
          664.35,
          659.84,
          659.15,
          657.96,
          657.3,
          657.17,
          655.65,
          652.35,
          651.75,
          649.4,
          646.05,
          642.99,
          640.78,
          639.41,
          639.4,
          636.49,
          635.15,
          634.54,
          634.48,
          632.7,
          632.4,
          631.41,
          631.1,
          630.61,
          629.35,
          628.55,
          627.2,
          626.55,
          624,
          621.1,
          619.8,
          619.67,
          618.66,
          618.3,
          617.86,
          617.59,
          617.2,
          617.19,
          617.15,
          616.16,
          615.31,
          614.9,
          614.76,
          610.28,
          610.2,
          609.42,
          608.85,
          608.7,
          605.8,
          605.75,
          605.47,
          605.43,
          603.18,
          603,
          601.31,
          601.19,
          600.9,
          600.3,
          597.85,
          596.57,
          596.51,
          595.65,
          595.08,
          594.43,
          594.15,
          594.05,
          593.97,
          593.05,
          592.75,
          591.85,
          590.7,
          590.35,
          588.32,
          587.78,
          587.24,
          584,
          583.69,
          582.95,
          581.31,
          580.74,
          579.91,
          579.48,
          579.3,
          577.15,
          575.45,
          573.6,
          572.6,
          570.51,
          568.6,
          567.44,
          566.83,
          566.45,
          566.1,
          565.82,
          565.75,
          565.35,
          563.6,
          561.53,
          561.5,
          561.46,
          560.92,
          560.5,
          560.23,
          559.14,
          556.98,
          556.15,
          552.34,
          552.1,
          551.35,
          551.26,
          550.4,
          550.35,
          549.78,
          549.56,
          548.39,
          548.2,
          547.7,
          546.9,
          546.08,
          545.46,
          545.29,
          545,
          544.82,
          543.06,
          541.8,
          541.07,
          540.95,
          537.86,
          534.55,
          533.46,
          533.05,
          532.92,
          529.83,
          528.45,
          528.2,
          527.8,
          526.92,
          525.5,
          523.51,
          522.82,
          516.95,
          515.85,
          515.14,
          512.79,
          511.89,
          511.02,
          509.82,
          509,
          509,
          505.95,
          505.1,
          504.25,
          503.85,
          502.6,
          500.59,
          500.4,
          498.4,
          498.03,
          498,
          497.5,
          497.33,
          496.97,
          496.94,
          496.42,
          494.79,
          494.23,
          493.05,
          492.22,
          491.95,
          488.68,
          487.58,
          487.14,
          486.95,
          485.8,
          485.54,
          484.33,
          484.15,
          480.87,
          480.8,
          479.46,
          479.16,
          478.27,
          477.85,
          477.4,
          476.8,
          476.33,
          473.26,
          472.16,
          471.43,
          469.65,
          469.55,
          468.87,
          468.86,
          468.57,
          468.36,
          468.35,
          467.85,
          467.7,
          466.41,
          466.14,
          466.08,
          465.7,
          463.69,
          463.6,
          461.66,
          460.43,
          460.3,
          459.85,
          457.36,
          457.25,
          456.58,
          456.1,
          455.86,
          454.74,
          454.15,
          452.47,
          449.3,
          449.09,
          448.55,
          447.78,
          444.87,
          444.75,
          444.75,
          444.42,
          443.98,
          442.45,
          441.59,
          441.01,
          440.25,
          440.2,
          439.17,
          437.85,
          436.81,
          436.31,
          435.45,
          434.8,
          434.17,
          433.82,
          432.25,
          431.56,
          430.46,
          428.11,
          427.96,
          425.75,
          425.53,
          425.1,
          424.55,
          424.21,
          423.49,
          422.88,
          422.6,
          422.4,
          422.23,
          422.21,
          421.55,
          419.99,
          419.96,
          419.7,
          419.3,
          419.06,
          419,
          418.08,
          417.06,
          415.79,
          414.06,
          413.73,
          413.5,
          412.49,
          411.25,
          411.15,
          410.2,
          410.11,
          409.67,
          407,
          406.55,
          406.28,
          404.71,
          403.75,
          402.69,
          401.56,
          400.5,
          399.74,
          398.96,
          398.45,
          397.18,
          396.35,
          395.66,
          395.5,
          394.94,
          394.25,
          394.1,
          393.96,
          392.2,
          390.97,
          389.95,
          389.8,
          389.6,
          389.4,
          389.39,
          388.26,
          387.9,
          387.7,
          387.58,
          387.25,
          387.01,
          385.15,
          383.91,
          383.19,
          382.95,
          382.9,
          382.8,
          382.73,
          382.09,
          379.4,
          379.11,
          374,
          373,
          371.4,
          370.9,
          369.31,
          368.85,
          368.7,
          368.64,
          365.65,
          364.78,
          363.95,
          363.15,
          362.89,
          362.81,
          362.6,
          361.55,
          361.07,
          360.49,
          359.5,
          359.23,
          358.8,
          357.59,
          357.15,
          356.95,
          356.8,
          356.58,
          356.05,
          355.9,
          355.82,
          355.76,
          354.61,
          354.25,
          353.6,
          351.28,
          350.3,
          349.36,
          349.09,
          348.3,
          348.1,
          346.58,
          346.27,
          346.1,
          345.85,
          344.18,
          343.68,
          343.68,
          343.45,
          342.66,
          342.22,
          342.14,
          341.78,
          341.03,
          339.87,
          339.41,
          338.98,
          337.94,
          336.35,
          335.47,
          334.73,
          334.1,
          331.73,
          330.8,
          329.7,
          329.44,
          329.28,
          327.3,
          327.25,
          325.48,
          324.8,
          324.52,
          324.31,
          323.93,
          322.62,
          321.73,
          321.05,
          319.75,
          319.24,
          319.21,
          318.57,
          317.89,
          315.67,
          314.87,
          314.31,
          313.6,
          312.93,
          311.61,
          310.61,
          309.8,
          309.3,
          307.84,
          307.6,
          306.35,
          306.15,
          305.9,
          305.55,
          305.5,
          305.28,
          304.37,
          304.13,
          303.34,
          302.9,
          301.9,
          301.7,
          301.53,
          300.8,
          300.77,
          300.65,
          299.63,
          299.05,
          298.84,
          298.7,
          298.1,
          297.63,
          297.17,
          297.1,
          296.95,
          295.71,
          295.5,
          293.66,
          291.39,
          290.62,
          290.44,
          289.69,
          289.45,
          289.38,
          288.88,
          286.55,
          285.56,
          285.3,
          283.6,
          283.32,
          283.26,
          282.11,
          281.23,
          280.27,
          280,
          278.33,
          276.21,
          275.39,
          274.76,
          273.93,
          273.72,
          273.25,
          272.06,
          271.41,
          267.83,
          267.5,
          265.8,
          265.72,
          264.8,
          264.68,
          264.54,
          264.37,
          263.95,
          263.05,
          262.85,
          262.72,
          262.13,
          259.37,
          257.97,
          257.85,
          257.4,
          257.39,
          257.1,
          256.65,
          256.6,
          255.6,
          255.02,
          254.53,
          253.82,
          253.62,
          253.33,
          252.65,
          251.65,
          250.65,
          250.61,
          249.85,
          249.62,
          249.55,
          247.71,
          246.6,
          246.06,
          244.85,
          244.52,
          242.9,
          241.82,
          240.36,
          240.08,
          239.63,
          238.36,
          238.32,
          236.87,
          236.76,
          234.95,
          233.78,
          232.98,
          232.44,
          231.92,
          231.36,
          230.02,
          229.85,
          229.66,
          229.4,
          229.09,
          228.79,
          227.85,
          227.35,
          226.95,
          226.89,
          226.65,
          226.47,
          226.45,
          223.75,
          222.86,
          222.81,
          222.46,
          221.52,
          219.49,
          219.04,
          218.75,
          218.21,
          217.66,
          215.6,
          214.75,
          214.66,
          213.35,
          213.11,
          212.85,
          212.45,
          212.25,
          211.63,
          211.09,
          210.01,
          209.96,
          209.88,
          209.82,
          209.55,
          208.62,
          207.92,
          207.35,
          206.35,
          203.01,
          202.87,
          202.81,
          202.62,
          202.37,
          202.1,
          201.95,
          200.78,
          199.81,
          199.8,
          198.7,
          198.69,
          198.19,
          197.1,
          196.97,
          196.51,
          196.19,
          194.98,
          194.02,
          193.9,
          193.81,
          191.91,
          191.63,
          191.3,
          191.1,
          190.25,
          190.1,
          190.07,
          189.95,
          189.72,
          189.62,
          189,
          188.46,
          187.99,
          187.98,
          187.64,
          186.5,
          186.3,
          185.75,
          185.16,
          184.68,
          184.2,
          183.99,
          183.56,
          183.11,
          183.04,
          182.87,
          182.47,
          181.73,
          180.95,
          179.44,
          179.03,
          178.51,
          178.5,
          178.2,
          175.12,
          174.93,
          174.8,
          172.73,
          172.08,
          171.41,
          171.23,
          169.83,
          169.78,
          169.47,
          168.67,
          168.55,
          168.3,
          168.19,
          167.2,
          167.12,
          166.54,
          165.75,
          165.34,
          164.36,
          163.55,
          162.45,
          162.26,
          162.05,
          161.8,
          161.45,
          161.38,
          159.54,
          159.27,
          159.07,
          158.18,
          157.15,
          156.1,
          155.95,
          155.65,
          154.68,
          154.44,
          154.25,
          153.2,
          151.79,
          151.67,
          150.85,
          149.05,
          148.95,
          147.14,
          146.62,
          146.48,
          146.4,
          144.85,
          144.68,
          144.64,
          144.22,
          143.42,
          142.83,
          142.5,
          141.96,
          141.9,
          140.67,
          139.82,
          138.48,
          138.13,
          137.12,
          136.83,
          135.03,
          134.8,
          133.21,
          131.93,
          131.35,
          129.99,
          129.6,
          127.44,
          127.04,
          126.8,
          126.46,
          126.25,
          125.5,
          124.1,
          123.28,
          123.26,
          122.94,
          122.92,
          121.21,
          120.75,
          120.1,
          120.05,
          119.39,
          118.98,
          118.87,
          118.4,
          118.25,
          117.59,
          117.37,
          116.66,
          116.54,
          116.27,
          114.43,
          114.24,
          113.95,
          113.85,
          111.57,
          111.2,
          111.13,
          111.1,
          110.8,
          110.6,
          110.15,
          109.51,
          108.87,
          108.61,
          107.81,
          107.52,
          107.31,
          107.29,
          107.25,
          106.97,
          106.76,
          106.72,
          106.54,
          105.89,
          105.89,
          104.99,
          102.74,
          102.57,
          102.35,
          102.01,
          101.1,
          100.94,
          100.27,
          100.2,
          100.2,
          99.95,
          99.54,
          98.85,
          98.76,
          98.55,
          98.5,
          98.32,
          98.19,
          97.7,
          97.14,
          96.85,
          96.8,
          96.52,
          96.49,
          95.64,
          95.63,
          95.05,
          94.93,
          94.77,
          94.73,
          94.71,
          94.7,
          94.54,
          94.4,
          94.18,
          93.1,
          92.66,
          92.54,
          92.5,
          92.4,
          92.25,
          92.14,
          92.12,
          91.99,
          91.94,
          91.64,
          91.54,
          91.21,
          90.98,
          90.71,
          90.55,
          90.55,
          90.52,
          90.3,
          90.05,
          90.02,
          89.88,
          89.54,
          89.26,
          88.75,
          88.2,
          88.01,
          87.71,
          87.49,
          87.25,
          86.23,
          85.65,
          85.62,
          85.09,
          83.6,
          83.04,
          82.85,
          82.66,
          82.15,
          81.89,
          81.4,
          81.3,
          81.13,
          80.92,
          79.87,
          79.8,
          79.63,
          79.23,
          78.25,
          78.22,
          77.59,
          75.83,
          75.61,
          75.41,
          75.01,
          74.82,
          74.78,
          74.35,
          74.27,
          73.75,
          73.65,
          73.38,
          73.32,
          73.02,
          72.67,
          72.26,
          71.88,
          71.25,
          70.55,
          70.45,
          70.15,
          69.75,
          69.7,
          69.61,
          69.54,
          68.94,
          68.46,
          68.41,
          68.19,
          67.79,
          67.63,
          67.59,
          67.5,
          67.31,
          67,
          66.76,
          66.56,
          66.56,
          66.56,
          66.31,
          66.16,
          66.07,
          66.04,
          64.89,
          64.87,
          64.83,
          64.44,
          64.27,
          63.75,
          63.32,
          63.21,
          62.99,
          62.62,
          62.37,
          62.35,
          62.07,
          61.89,
          61.3,
          61.03,
          60.71,
          60.66,
          60.38,
          60.18,
          60.06,
          59.7,
          59.66,
          59.42,
          58.9,
          58.79,
          58.58,
          58.13,
          58.02,
          57.81,
          57.81,
          57.4,
          57.37,
          57.14,
          57.03,
          56.95,
          56.59,
          56.25,
          55.89,
          55.08,
          54.79,
          54.18,
          53.98,
          53.97,
          53.77,
          52.95,
          52.69,
          52.52,
          52.32,
          51.98,
          51.26,
          50.54,
          50.44,
          50.21,
          50.18,
          50.13,
          49.49,
          48.95,
          48.6,
          48.43,
          47.9,
          47.74,
          47.53,
          47.28,
          47.03,
          46.8,
          46.4,
          45.99,
          45.57,
          44.75,
          44.68,
          44.35,
          43.37,
          43.32,
          43.24,
          43.06,
          41.52,
          41.34,
          40.97,
          40.02,
          39.91,
          39.61,
          38.78,
          38.45,
          38.21,
          38.2,
          37.49,
          37.32,
          37.09,
          36.56,
          36.32,
          36.07,
          35.9,
          35.89,
          35.66,
          35.52,
          35.25,
          35,
          34.4,
          33.56,
          33.5,
          33.28,
          32.06,
          31.76,
          31.73,
          31.19,
          31.15,
          31.14,
          31.11,
          29.97,
          29.9,
          29.85,
          29.75,
          29.15,
          29.06,
          28.69,
          28.39,
          28.32,
          27.96,
          27.87,
          27.78,
          27.71,
          27.66,
          27.52,
          26.94,
          26.86,
          26.65,
          25.85,
          25.35,
          25.25,
          25.15,
          25.07,
          24.9,
          24.7,
          24.65,
          24.4,
          24.4,
          24.39,
          24.2,
          24.12,
          24.07,
          23.28,
          23.24,
          22.28,
          22.25,
          22.12,
          22.08,
          21.4,
          21.36
         ]
        }
       ],
       "layout": {
        "legend": {
         "tracegroupgap": 0
        },
        "piecolorway": [
         "rgb(103,0,31)",
         "rgb(178,24,43)",
         "rgb(214,96,77)",
         "rgb(244,165,130)",
         "rgb(253,219,199)",
         "rgb(247,247,247)",
         "rgb(209,229,240)",
         "rgb(146,197,222)",
         "rgb(67,147,195)",
         "rgb(33,102,172)",
         "rgb(5,48,97)"
        ],
        "template": {
         "data": {
          "bar": [
           {
            "error_x": {
             "color": "#f2f5fa"
            },
            "error_y": {
             "color": "#f2f5fa"
            },
            "marker": {
             "line": {
              "color": "rgb(17,17,17)",
              "width": 0.5
             },
             "pattern": {
              "fillmode": "overlay",
              "size": 10,
              "solidity": 0.2
             }
            },
            "type": "bar"
           }
          ],
          "barpolar": [
           {
            "marker": {
             "line": {
              "color": "rgb(17,17,17)",
              "width": 0.5
             },
             "pattern": {
              "fillmode": "overlay",
              "size": 10,
              "solidity": 0.2
             }
            },
            "type": "barpolar"
           }
          ],
          "carpet": [
           {
            "aaxis": {
             "endlinecolor": "#A2B1C6",
             "gridcolor": "#506784",
             "linecolor": "#506784",
             "minorgridcolor": "#506784",
             "startlinecolor": "#A2B1C6"
            },
            "baxis": {
             "endlinecolor": "#A2B1C6",
             "gridcolor": "#506784",
             "linecolor": "#506784",
             "minorgridcolor": "#506784",
             "startlinecolor": "#A2B1C6"
            },
            "type": "carpet"
           }
          ],
          "choropleth": [
           {
            "colorbar": {
             "outlinewidth": 0,
             "ticks": ""
            },
            "type": "choropleth"
           }
          ],
          "contour": [
           {
            "colorbar": {
             "outlinewidth": 0,
             "ticks": ""
            },
            "colorscale": [
             [
              0,
              "#0d0887"
             ],
             [
              0.1111111111111111,
              "#46039f"
             ],
             [
              0.2222222222222222,
              "#7201a8"
             ],
             [
              0.3333333333333333,
              "#9c179e"
             ],
             [
              0.4444444444444444,
              "#bd3786"
             ],
             [
              0.5555555555555556,
              "#d8576b"
             ],
             [
              0.6666666666666666,
              "#ed7953"
             ],
             [
              0.7777777777777778,
              "#fb9f3a"
             ],
             [
              0.8888888888888888,
              "#fdca26"
             ],
             [
              1,
              "#f0f921"
             ]
            ],
            "type": "contour"
           }
          ],
          "contourcarpet": [
           {
            "colorbar": {
             "outlinewidth": 0,
             "ticks": ""
            },
            "type": "contourcarpet"
           }
          ],
          "heatmap": [
           {
            "colorbar": {
             "outlinewidth": 0,
             "ticks": ""
            },
            "colorscale": [
             [
              0,
              "#0d0887"
             ],
             [
              0.1111111111111111,
              "#46039f"
             ],
             [
              0.2222222222222222,
              "#7201a8"
             ],
             [
              0.3333333333333333,
              "#9c179e"
             ],
             [
              0.4444444444444444,
              "#bd3786"
             ],
             [
              0.5555555555555556,
              "#d8576b"
             ],
             [
              0.6666666666666666,
              "#ed7953"
             ],
             [
              0.7777777777777778,
              "#fb9f3a"
             ],
             [
              0.8888888888888888,
              "#fdca26"
             ],
             [
              1,
              "#f0f921"
             ]
            ],
            "type": "heatmap"
           }
          ],
          "heatmapgl": [
           {
            "colorbar": {
             "outlinewidth": 0,
             "ticks": ""
            },
            "colorscale": [
             [
              0,
              "#0d0887"
             ],
             [
              0.1111111111111111,
              "#46039f"
             ],
             [
              0.2222222222222222,
              "#7201a8"
             ],
             [
              0.3333333333333333,
              "#9c179e"
             ],
             [
              0.4444444444444444,
              "#bd3786"
             ],
             [
              0.5555555555555556,
              "#d8576b"
             ],
             [
              0.6666666666666666,
              "#ed7953"
             ],
             [
              0.7777777777777778,
              "#fb9f3a"
             ],
             [
              0.8888888888888888,
              "#fdca26"
             ],
             [
              1,
              "#f0f921"
             ]
            ],
            "type": "heatmapgl"
           }
          ],
          "histogram": [
           {
            "marker": {
             "pattern": {
              "fillmode": "overlay",
              "size": 10,
              "solidity": 0.2
             }
            },
            "type": "histogram"
           }
          ],
          "histogram2d": [
           {
            "colorbar": {
             "outlinewidth": 0,
             "ticks": ""
            },
            "colorscale": [
             [
              0,
              "#0d0887"
             ],
             [
              0.1111111111111111,
              "#46039f"
             ],
             [
              0.2222222222222222,
              "#7201a8"
             ],
             [
              0.3333333333333333,
              "#9c179e"
             ],
             [
              0.4444444444444444,
              "#bd3786"
             ],
             [
              0.5555555555555556,
              "#d8576b"
             ],
             [
              0.6666666666666666,
              "#ed7953"
             ],
             [
              0.7777777777777778,
              "#fb9f3a"
             ],
             [
              0.8888888888888888,
              "#fdca26"
             ],
             [
              1,
              "#f0f921"
             ]
            ],
            "type": "histogram2d"
           }
          ],
          "histogram2dcontour": [
           {
            "colorbar": {
             "outlinewidth": 0,
             "ticks": ""
            },
            "colorscale": [
             [
              0,
              "#0d0887"
             ],
             [
              0.1111111111111111,
              "#46039f"
             ],
             [
              0.2222222222222222,
              "#7201a8"
             ],
             [
              0.3333333333333333,
              "#9c179e"
             ],
             [
              0.4444444444444444,
              "#bd3786"
             ],
             [
              0.5555555555555556,
              "#d8576b"
             ],
             [
              0.6666666666666666,
              "#ed7953"
             ],
             [
              0.7777777777777778,
              "#fb9f3a"
             ],
             [
              0.8888888888888888,
              "#fdca26"
             ],
             [
              1,
              "#f0f921"
             ]
            ],
            "type": "histogram2dcontour"
           }
          ],
          "mesh3d": [
           {
            "colorbar": {
             "outlinewidth": 0,
             "ticks": ""
            },
            "type": "mesh3d"
           }
          ],
          "parcoords": [
           {
            "line": {
             "colorbar": {
              "outlinewidth": 0,
              "ticks": ""
             }
            },
            "type": "parcoords"
           }
          ],
          "pie": [
           {
            "automargin": true,
            "type": "pie"
           }
          ],
          "scatter": [
           {
            "marker": {
             "line": {
              "color": "#283442"
             }
            },
            "type": "scatter"
           }
          ],
          "scatter3d": [
           {
            "line": {
             "colorbar": {
              "outlinewidth": 0,
              "ticks": ""
             }
            },
            "marker": {
             "colorbar": {
              "outlinewidth": 0,
              "ticks": ""
             }
            },
            "type": "scatter3d"
           }
          ],
          "scattercarpet": [
           {
            "marker": {
             "colorbar": {
              "outlinewidth": 0,
              "ticks": ""
             }
            },
            "type": "scattercarpet"
           }
          ],
          "scattergeo": [
           {
            "marker": {
             "colorbar": {
              "outlinewidth": 0,
              "ticks": ""
             }
            },
            "type": "scattergeo"
           }
          ],
          "scattergl": [
           {
            "marker": {
             "line": {
              "color": "#283442"
             }
            },
            "type": "scattergl"
           }
          ],
          "scattermapbox": [
           {
            "marker": {
             "colorbar": {
              "outlinewidth": 0,
              "ticks": ""
             }
            },
            "type": "scattermapbox"
           }
          ],
          "scatterpolar": [
           {
            "marker": {
             "colorbar": {
              "outlinewidth": 0,
              "ticks": ""
             }
            },
            "type": "scatterpolar"
           }
          ],
          "scatterpolargl": [
           {
            "marker": {
             "colorbar": {
              "outlinewidth": 0,
              "ticks": ""
             }
            },
            "type": "scatterpolargl"
           }
          ],
          "scatterternary": [
           {
            "marker": {
             "colorbar": {
              "outlinewidth": 0,
              "ticks": ""
             }
            },
            "type": "scatterternary"
           }
          ],
          "surface": [
           {
            "colorbar": {
             "outlinewidth": 0,
             "ticks": ""
            },
            "colorscale": [
             [
              0,
              "#0d0887"
             ],
             [
              0.1111111111111111,
              "#46039f"
             ],
             [
              0.2222222222222222,
              "#7201a8"
             ],
             [
              0.3333333333333333,
              "#9c179e"
             ],
             [
              0.4444444444444444,
              "#bd3786"
             ],
             [
              0.5555555555555556,
              "#d8576b"
             ],
             [
              0.6666666666666666,
              "#ed7953"
             ],
             [
              0.7777777777777778,
              "#fb9f3a"
             ],
             [
              0.8888888888888888,
              "#fdca26"
             ],
             [
              1,
              "#f0f921"
             ]
            ],
            "type": "surface"
           }
          ],
          "table": [
           {
            "cells": {
             "fill": {
              "color": "#506784"
             },
             "line": {
              "color": "rgb(17,17,17)"
             }
            },
            "header": {
             "fill": {
              "color": "#2a3f5f"
             },
             "line": {
              "color": "rgb(17,17,17)"
             }
            },
            "type": "table"
           }
          ]
         },
         "layout": {
          "annotationdefaults": {
           "arrowcolor": "#f2f5fa",
           "arrowhead": 0,
           "arrowwidth": 1
          },
          "autotypenumbers": "strict",
          "coloraxis": {
           "colorbar": {
            "outlinewidth": 0,
            "ticks": ""
           }
          },
          "colorscale": {
           "diverging": [
            [
             0,
             "#8e0152"
            ],
            [
             0.1,
             "#c51b7d"
            ],
            [
             0.2,
             "#de77ae"
            ],
            [
             0.3,
             "#f1b6da"
            ],
            [
             0.4,
             "#fde0ef"
            ],
            [
             0.5,
             "#f7f7f7"
            ],
            [
             0.6,
             "#e6f5d0"
            ],
            [
             0.7,
             "#b8e186"
            ],
            [
             0.8,
             "#7fbc41"
            ],
            [
             0.9,
             "#4d9221"
            ],
            [
             1,
             "#276419"
            ]
           ],
           "sequential": [
            [
             0,
             "#0d0887"
            ],
            [
             0.1111111111111111,
             "#46039f"
            ],
            [
             0.2222222222222222,
             "#7201a8"
            ],
            [
             0.3333333333333333,
             "#9c179e"
            ],
            [
             0.4444444444444444,
             "#bd3786"
            ],
            [
             0.5555555555555556,
             "#d8576b"
            ],
            [
             0.6666666666666666,
             "#ed7953"
            ],
            [
             0.7777777777777778,
             "#fb9f3a"
            ],
            [
             0.8888888888888888,
             "#fdca26"
            ],
            [
             1,
             "#f0f921"
            ]
           ],
           "sequentialminus": [
            [
             0,
             "#0d0887"
            ],
            [
             0.1111111111111111,
             "#46039f"
            ],
            [
             0.2222222222222222,
             "#7201a8"
            ],
            [
             0.3333333333333333,
             "#9c179e"
            ],
            [
             0.4444444444444444,
             "#bd3786"
            ],
            [
             0.5555555555555556,
             "#d8576b"
            ],
            [
             0.6666666666666666,
             "#ed7953"
            ],
            [
             0.7777777777777778,
             "#fb9f3a"
            ],
            [
             0.8888888888888888,
             "#fdca26"
            ],
            [
             1,
             "#f0f921"
            ]
           ]
          },
          "colorway": [
           "#636efa",
           "#EF553B",
           "#00cc96",
           "#ab63fa",
           "#FFA15A",
           "#19d3f3",
           "#FF6692",
           "#B6E880",
           "#FF97FF",
           "#FECB52"
          ],
          "font": {
           "color": "#f2f5fa"
          },
          "geo": {
           "bgcolor": "rgb(17,17,17)",
           "lakecolor": "rgb(17,17,17)",
           "landcolor": "rgb(17,17,17)",
           "showlakes": true,
           "showland": true,
           "subunitcolor": "#506784"
          },
          "hoverlabel": {
           "align": "left"
          },
          "hovermode": "closest",
          "mapbox": {
           "style": "dark"
          },
          "paper_bgcolor": "rgb(17,17,17)",
          "plot_bgcolor": "rgb(17,17,17)",
          "polar": {
           "angularaxis": {
            "gridcolor": "#506784",
            "linecolor": "#506784",
            "ticks": ""
           },
           "bgcolor": "rgb(17,17,17)",
           "radialaxis": {
            "gridcolor": "#506784",
            "linecolor": "#506784",
            "ticks": ""
           }
          },
          "scene": {
           "xaxis": {
            "backgroundcolor": "rgb(17,17,17)",
            "gridcolor": "#506784",
            "gridwidth": 2,
            "linecolor": "#506784",
            "showbackground": true,
            "ticks": "",
            "zerolinecolor": "#C8D4E3"
           },
           "yaxis": {
            "backgroundcolor": "rgb(17,17,17)",
            "gridcolor": "#506784",
            "gridwidth": 2,
            "linecolor": "#506784",
            "showbackground": true,
            "ticks": "",
            "zerolinecolor": "#C8D4E3"
           },
           "zaxis": {
            "backgroundcolor": "rgb(17,17,17)",
            "gridcolor": "#506784",
            "gridwidth": 2,
            "linecolor": "#506784",
            "showbackground": true,
            "ticks": "",
            "zerolinecolor": "#C8D4E3"
           }
          },
          "shapedefaults": {
           "line": {
            "color": "#f2f5fa"
           }
          },
          "sliderdefaults": {
           "bgcolor": "#C8D4E3",
           "bordercolor": "rgb(17,17,17)",
           "borderwidth": 1,
           "tickwidth": 0
          },
          "ternary": {
           "aaxis": {
            "gridcolor": "#506784",
            "linecolor": "#506784",
            "ticks": ""
           },
           "baxis": {
            "gridcolor": "#506784",
            "linecolor": "#506784",
            "ticks": ""
           },
           "bgcolor": "rgb(17,17,17)",
           "caxis": {
            "gridcolor": "#506784",
            "linecolor": "#506784",
            "ticks": ""
           }
          },
          "title": {
           "x": 0.05
          },
          "updatemenudefaults": {
           "bgcolor": "#506784",
           "borderwidth": 0
          },
          "xaxis": {
           "automargin": true,
           "gridcolor": "#283442",
           "linecolor": "#506784",
           "ticks": "",
           "title": {
            "standoff": 15
           },
           "zerolinecolor": "#283442",
           "zerolinewidth": 2
          },
          "yaxis": {
           "automargin": true,
           "gridcolor": "#283442",
           "linecolor": "#506784",
           "ticks": "",
           "title": {
            "standoff": 15
           },
           "zerolinecolor": "#283442",
           "zerolinewidth": 2
          }
         }
        },
        "title": {
         "text": "Percentage of the marital status of the that is not churned"
        }
       }
      }
     },
     "metadata": {},
     "output_type": "display_data"
    }
   ],
   "source": [
    "#Let`s find out if marriage has any significant effect on the number of unchurned customers\n",
    "top=unchurned_customers.sort_values(by= 'Total Revenue', ascending=False)\n",
    "px.data.gapminder()\n",
    "for templates in ['plotly_dark']:\n",
    " marital_fig=px.pie(top,values='Total Revenue', names='Married', hole=.4,color_discrete_sequence=px.colors.sequential.RdBu,\n",
    "  title= 'Percentage of the marital status of the that is not churned', template=templates)\n",
    "marital_fig.show()"
   ]
  },
  {
   "cell_type": "markdown",
   "metadata": {},
   "source": [
    "This shows married people should be definitely valued...but, should they be highly valued?"
   ]
  },
  {
   "cell_type": "code",
   "execution_count": 74,
   "metadata": {},
   "outputs": [
    {
     "data": {
      "text/plain": [
       "Yes    64\n",
       "Name: Married, dtype: int64"
      ]
     },
     "execution_count": 74,
     "metadata": {},
     "output_type": "execute_result"
    }
   ],
   "source": [
    "#Number of married customers that has generated more than 6000 revenue and has more than 9 referrals\n",
    "mar= rev['Married'].value_counts()\n",
    "mar"
   ]
  },
  {
   "cell_type": "markdown",
   "metadata": {},
   "source": [
    "All customers that generates high revenue(>6000) and has top referrals are all married. This means married people are clearly high valued customers"
   ]
  },
  {
   "cell_type": "markdown",
   "metadata": {},
   "source": [
    "<h4> Now lets look at the location and know if it has any significance</h4>\n",
    "<p>lets see</p>"
   ]
  },
  {
   "cell_type": "code",
   "execution_count": 75,
   "metadata": {},
   "outputs": [
    {
     "name": "stdout",
     "output_type": "stream",
     "text": [
      "These are the top 5 cities that was not churned\n"
     ]
    },
    {
     "data": {
      "text/plain": [
       "Escondido         35\n",
       "Bakersfield       37\n",
       "Oakland           39\n",
       "Long Beach        45\n",
       "Fresno            48\n",
       "San Francisco     73\n",
       "Sacramento        82\n",
       "San Jose          83\n",
       "San Diego        100\n",
       "Los Angeles      215\n",
       "Name: City, dtype: int64"
      ]
     },
     "execution_count": 75,
     "metadata": {},
     "output_type": "execute_result"
    }
   ],
   "source": [
    "#Top cities that was not churned\n",
    "print('These are the top 5 cities that was not churned') \n",
    "bubble=unchurned_customers['City'].value_counts().head(10).sort_values()\n",
    "bubble\n",
    "\n"
   ]
  },
  {
   "cell_type": "code",
   "execution_count": 76,
   "metadata": {},
   "outputs": [
    {
     "data": {
      "application/vnd.plotly.v1+json": {
       "config": {
        "plotlyServerURL": "https://plot.ly"
       },
       "data": [
        {
         "alignmentgroup": "True",
         "hovertemplate": "variable=City<br>Count of customers=%{x}<br>Cities=%{y}<extra></extra>",
         "legendgroup": "City",
         "marker": {
          "color": "rgb(103,0,31)",
          "pattern": {
           "shape": ""
          }
         },
         "name": "City",
         "offsetgroup": "City",
         "orientation": "h",
         "showlegend": true,
         "textposition": "auto",
         "type": "bar",
         "x": [
          35,
          37,
          39,
          45,
          48,
          73,
          82,
          83,
          100,
          215
         ],
         "xaxis": "x",
         "y": [
          "Escondido",
          "Bakersfield",
          "Oakland",
          "Long Beach",
          "Fresno",
          "San Francisco",
          "Sacramento",
          "San Jose",
          "San Diego",
          "Los Angeles"
         ],
         "yaxis": "y"
        }
       ],
       "layout": {
        "barmode": "relative",
        "legend": {
         "title": {
          "text": "variable"
         },
         "tracegroupgap": 0
        },
        "template": {
         "data": {
          "bar": [
           {
            "error_x": {
             "color": "#f2f5fa"
            },
            "error_y": {
             "color": "#f2f5fa"
            },
            "marker": {
             "line": {
              "color": "rgb(17,17,17)",
              "width": 0.5
             },
             "pattern": {
              "fillmode": "overlay",
              "size": 10,
              "solidity": 0.2
             }
            },
            "type": "bar"
           }
          ],
          "barpolar": [
           {
            "marker": {
             "line": {
              "color": "rgb(17,17,17)",
              "width": 0.5
             },
             "pattern": {
              "fillmode": "overlay",
              "size": 10,
              "solidity": 0.2
             }
            },
            "type": "barpolar"
           }
          ],
          "carpet": [
           {
            "aaxis": {
             "endlinecolor": "#A2B1C6",
             "gridcolor": "#506784",
             "linecolor": "#506784",
             "minorgridcolor": "#506784",
             "startlinecolor": "#A2B1C6"
            },
            "baxis": {
             "endlinecolor": "#A2B1C6",
             "gridcolor": "#506784",
             "linecolor": "#506784",
             "minorgridcolor": "#506784",
             "startlinecolor": "#A2B1C6"
            },
            "type": "carpet"
           }
          ],
          "choropleth": [
           {
            "colorbar": {
             "outlinewidth": 0,
             "ticks": ""
            },
            "type": "choropleth"
           }
          ],
          "contour": [
           {
            "colorbar": {
             "outlinewidth": 0,
             "ticks": ""
            },
            "colorscale": [
             [
              0,
              "#0d0887"
             ],
             [
              0.1111111111111111,
              "#46039f"
             ],
             [
              0.2222222222222222,
              "#7201a8"
             ],
             [
              0.3333333333333333,
              "#9c179e"
             ],
             [
              0.4444444444444444,
              "#bd3786"
             ],
             [
              0.5555555555555556,
              "#d8576b"
             ],
             [
              0.6666666666666666,
              "#ed7953"
             ],
             [
              0.7777777777777778,
              "#fb9f3a"
             ],
             [
              0.8888888888888888,
              "#fdca26"
             ],
             [
              1,
              "#f0f921"
             ]
            ],
            "type": "contour"
           }
          ],
          "contourcarpet": [
           {
            "colorbar": {
             "outlinewidth": 0,
             "ticks": ""
            },
            "type": "contourcarpet"
           }
          ],
          "heatmap": [
           {
            "colorbar": {
             "outlinewidth": 0,
             "ticks": ""
            },
            "colorscale": [
             [
              0,
              "#0d0887"
             ],
             [
              0.1111111111111111,
              "#46039f"
             ],
             [
              0.2222222222222222,
              "#7201a8"
             ],
             [
              0.3333333333333333,
              "#9c179e"
             ],
             [
              0.4444444444444444,
              "#bd3786"
             ],
             [
              0.5555555555555556,
              "#d8576b"
             ],
             [
              0.6666666666666666,
              "#ed7953"
             ],
             [
              0.7777777777777778,
              "#fb9f3a"
             ],
             [
              0.8888888888888888,
              "#fdca26"
             ],
             [
              1,
              "#f0f921"
             ]
            ],
            "type": "heatmap"
           }
          ],
          "heatmapgl": [
           {
            "colorbar": {
             "outlinewidth": 0,
             "ticks": ""
            },
            "colorscale": [
             [
              0,
              "#0d0887"
             ],
             [
              0.1111111111111111,
              "#46039f"
             ],
             [
              0.2222222222222222,
              "#7201a8"
             ],
             [
              0.3333333333333333,
              "#9c179e"
             ],
             [
              0.4444444444444444,
              "#bd3786"
             ],
             [
              0.5555555555555556,
              "#d8576b"
             ],
             [
              0.6666666666666666,
              "#ed7953"
             ],
             [
              0.7777777777777778,
              "#fb9f3a"
             ],
             [
              0.8888888888888888,
              "#fdca26"
             ],
             [
              1,
              "#f0f921"
             ]
            ],
            "type": "heatmapgl"
           }
          ],
          "histogram": [
           {
            "marker": {
             "pattern": {
              "fillmode": "overlay",
              "size": 10,
              "solidity": 0.2
             }
            },
            "type": "histogram"
           }
          ],
          "histogram2d": [
           {
            "colorbar": {
             "outlinewidth": 0,
             "ticks": ""
            },
            "colorscale": [
             [
              0,
              "#0d0887"
             ],
             [
              0.1111111111111111,
              "#46039f"
             ],
             [
              0.2222222222222222,
              "#7201a8"
             ],
             [
              0.3333333333333333,
              "#9c179e"
             ],
             [
              0.4444444444444444,
              "#bd3786"
             ],
             [
              0.5555555555555556,
              "#d8576b"
             ],
             [
              0.6666666666666666,
              "#ed7953"
             ],
             [
              0.7777777777777778,
              "#fb9f3a"
             ],
             [
              0.8888888888888888,
              "#fdca26"
             ],
             [
              1,
              "#f0f921"
             ]
            ],
            "type": "histogram2d"
           }
          ],
          "histogram2dcontour": [
           {
            "colorbar": {
             "outlinewidth": 0,
             "ticks": ""
            },
            "colorscale": [
             [
              0,
              "#0d0887"
             ],
             [
              0.1111111111111111,
              "#46039f"
             ],
             [
              0.2222222222222222,
              "#7201a8"
             ],
             [
              0.3333333333333333,
              "#9c179e"
             ],
             [
              0.4444444444444444,
              "#bd3786"
             ],
             [
              0.5555555555555556,
              "#d8576b"
             ],
             [
              0.6666666666666666,
              "#ed7953"
             ],
             [
              0.7777777777777778,
              "#fb9f3a"
             ],
             [
              0.8888888888888888,
              "#fdca26"
             ],
             [
              1,
              "#f0f921"
             ]
            ],
            "type": "histogram2dcontour"
           }
          ],
          "mesh3d": [
           {
            "colorbar": {
             "outlinewidth": 0,
             "ticks": ""
            },
            "type": "mesh3d"
           }
          ],
          "parcoords": [
           {
            "line": {
             "colorbar": {
              "outlinewidth": 0,
              "ticks": ""
             }
            },
            "type": "parcoords"
           }
          ],
          "pie": [
           {
            "automargin": true,
            "type": "pie"
           }
          ],
          "scatter": [
           {
            "marker": {
             "line": {
              "color": "#283442"
             }
            },
            "type": "scatter"
           }
          ],
          "scatter3d": [
           {
            "line": {
             "colorbar": {
              "outlinewidth": 0,
              "ticks": ""
             }
            },
            "marker": {
             "colorbar": {
              "outlinewidth": 0,
              "ticks": ""
             }
            },
            "type": "scatter3d"
           }
          ],
          "scattercarpet": [
           {
            "marker": {
             "colorbar": {
              "outlinewidth": 0,
              "ticks": ""
             }
            },
            "type": "scattercarpet"
           }
          ],
          "scattergeo": [
           {
            "marker": {
             "colorbar": {
              "outlinewidth": 0,
              "ticks": ""
             }
            },
            "type": "scattergeo"
           }
          ],
          "scattergl": [
           {
            "marker": {
             "line": {
              "color": "#283442"
             }
            },
            "type": "scattergl"
           }
          ],
          "scattermapbox": [
           {
            "marker": {
             "colorbar": {
              "outlinewidth": 0,
              "ticks": ""
             }
            },
            "type": "scattermapbox"
           }
          ],
          "scatterpolar": [
           {
            "marker": {
             "colorbar": {
              "outlinewidth": 0,
              "ticks": ""
             }
            },
            "type": "scatterpolar"
           }
          ],
          "scatterpolargl": [
           {
            "marker": {
             "colorbar": {
              "outlinewidth": 0,
              "ticks": ""
             }
            },
            "type": "scatterpolargl"
           }
          ],
          "scatterternary": [
           {
            "marker": {
             "colorbar": {
              "outlinewidth": 0,
              "ticks": ""
             }
            },
            "type": "scatterternary"
           }
          ],
          "surface": [
           {
            "colorbar": {
             "outlinewidth": 0,
             "ticks": ""
            },
            "colorscale": [
             [
              0,
              "#0d0887"
             ],
             [
              0.1111111111111111,
              "#46039f"
             ],
             [
              0.2222222222222222,
              "#7201a8"
             ],
             [
              0.3333333333333333,
              "#9c179e"
             ],
             [
              0.4444444444444444,
              "#bd3786"
             ],
             [
              0.5555555555555556,
              "#d8576b"
             ],
             [
              0.6666666666666666,
              "#ed7953"
             ],
             [
              0.7777777777777778,
              "#fb9f3a"
             ],
             [
              0.8888888888888888,
              "#fdca26"
             ],
             [
              1,
              "#f0f921"
             ]
            ],
            "type": "surface"
           }
          ],
          "table": [
           {
            "cells": {
             "fill": {
              "color": "#506784"
             },
             "line": {
              "color": "rgb(17,17,17)"
             }
            },
            "header": {
             "fill": {
              "color": "#2a3f5f"
             },
             "line": {
              "color": "rgb(17,17,17)"
             }
            },
            "type": "table"
           }
          ]
         },
         "layout": {
          "annotationdefaults": {
           "arrowcolor": "#f2f5fa",
           "arrowhead": 0,
           "arrowwidth": 1
          },
          "autotypenumbers": "strict",
          "coloraxis": {
           "colorbar": {
            "outlinewidth": 0,
            "ticks": ""
           }
          },
          "colorscale": {
           "diverging": [
            [
             0,
             "#8e0152"
            ],
            [
             0.1,
             "#c51b7d"
            ],
            [
             0.2,
             "#de77ae"
            ],
            [
             0.3,
             "#f1b6da"
            ],
            [
             0.4,
             "#fde0ef"
            ],
            [
             0.5,
             "#f7f7f7"
            ],
            [
             0.6,
             "#e6f5d0"
            ],
            [
             0.7,
             "#b8e186"
            ],
            [
             0.8,
             "#7fbc41"
            ],
            [
             0.9,
             "#4d9221"
            ],
            [
             1,
             "#276419"
            ]
           ],
           "sequential": [
            [
             0,
             "#0d0887"
            ],
            [
             0.1111111111111111,
             "#46039f"
            ],
            [
             0.2222222222222222,
             "#7201a8"
            ],
            [
             0.3333333333333333,
             "#9c179e"
            ],
            [
             0.4444444444444444,
             "#bd3786"
            ],
            [
             0.5555555555555556,
             "#d8576b"
            ],
            [
             0.6666666666666666,
             "#ed7953"
            ],
            [
             0.7777777777777778,
             "#fb9f3a"
            ],
            [
             0.8888888888888888,
             "#fdca26"
            ],
            [
             1,
             "#f0f921"
            ]
           ],
           "sequentialminus": [
            [
             0,
             "#0d0887"
            ],
            [
             0.1111111111111111,
             "#46039f"
            ],
            [
             0.2222222222222222,
             "#7201a8"
            ],
            [
             0.3333333333333333,
             "#9c179e"
            ],
            [
             0.4444444444444444,
             "#bd3786"
            ],
            [
             0.5555555555555556,
             "#d8576b"
            ],
            [
             0.6666666666666666,
             "#ed7953"
            ],
            [
             0.7777777777777778,
             "#fb9f3a"
            ],
            [
             0.8888888888888888,
             "#fdca26"
            ],
            [
             1,
             "#f0f921"
            ]
           ]
          },
          "colorway": [
           "#636efa",
           "#EF553B",
           "#00cc96",
           "#ab63fa",
           "#FFA15A",
           "#19d3f3",
           "#FF6692",
           "#B6E880",
           "#FF97FF",
           "#FECB52"
          ],
          "font": {
           "color": "#f2f5fa"
          },
          "geo": {
           "bgcolor": "rgb(17,17,17)",
           "lakecolor": "rgb(17,17,17)",
           "landcolor": "rgb(17,17,17)",
           "showlakes": true,
           "showland": true,
           "subunitcolor": "#506784"
          },
          "hoverlabel": {
           "align": "left"
          },
          "hovermode": "closest",
          "mapbox": {
           "style": "dark"
          },
          "paper_bgcolor": "rgb(17,17,17)",
          "plot_bgcolor": "rgb(17,17,17)",
          "polar": {
           "angularaxis": {
            "gridcolor": "#506784",
            "linecolor": "#506784",
            "ticks": ""
           },
           "bgcolor": "rgb(17,17,17)",
           "radialaxis": {
            "gridcolor": "#506784",
            "linecolor": "#506784",
            "ticks": ""
           }
          },
          "scene": {
           "xaxis": {
            "backgroundcolor": "rgb(17,17,17)",
            "gridcolor": "#506784",
            "gridwidth": 2,
            "linecolor": "#506784",
            "showbackground": true,
            "ticks": "",
            "zerolinecolor": "#C8D4E3"
           },
           "yaxis": {
            "backgroundcolor": "rgb(17,17,17)",
            "gridcolor": "#506784",
            "gridwidth": 2,
            "linecolor": "#506784",
            "showbackground": true,
            "ticks": "",
            "zerolinecolor": "#C8D4E3"
           },
           "zaxis": {
            "backgroundcolor": "rgb(17,17,17)",
            "gridcolor": "#506784",
            "gridwidth": 2,
            "linecolor": "#506784",
            "showbackground": true,
            "ticks": "",
            "zerolinecolor": "#C8D4E3"
           }
          },
          "shapedefaults": {
           "line": {
            "color": "#f2f5fa"
           }
          },
          "sliderdefaults": {
           "bgcolor": "#C8D4E3",
           "bordercolor": "rgb(17,17,17)",
           "borderwidth": 1,
           "tickwidth": 0
          },
          "ternary": {
           "aaxis": {
            "gridcolor": "#506784",
            "linecolor": "#506784",
            "ticks": ""
           },
           "baxis": {
            "gridcolor": "#506784",
            "linecolor": "#506784",
            "ticks": ""
           },
           "bgcolor": "rgb(17,17,17)",
           "caxis": {
            "gridcolor": "#506784",
            "linecolor": "#506784",
            "ticks": ""
           }
          },
          "title": {
           "x": 0.05
          },
          "updatemenudefaults": {
           "bgcolor": "#506784",
           "borderwidth": 0
          },
          "xaxis": {
           "automargin": true,
           "gridcolor": "#283442",
           "linecolor": "#506784",
           "ticks": "",
           "title": {
            "standoff": 15
           },
           "zerolinecolor": "#283442",
           "zerolinewidth": 2
          },
          "yaxis": {
           "automargin": true,
           "gridcolor": "#283442",
           "linecolor": "#506784",
           "ticks": "",
           "title": {
            "standoff": 15
           },
           "zerolinecolor": "#283442",
           "zerolinewidth": 2
          }
         }
        },
        "title": {
         "text": "Top 10 cities with high number of customers that was not churned"
        },
        "xaxis": {
         "anchor": "y",
         "domain": [
          0,
          1
         ],
         "title": {
          "text": "Count of customers"
         }
        },
        "yaxis": {
         "anchor": "x",
         "domain": [
          0,
          1
         ],
         "title": {
          "text": "Cities"
         }
        }
       }
      }
     },
     "metadata": {},
     "output_type": "display_data"
    }
   ],
   "source": [
    "px.data.gapminder()\n",
    "for templates in ['plotly_dark']:\n",
    " top_city_fig=px.bar(bubble,color_discrete_sequence=px.colors.sequential.RdBu,\n",
    "title= 'Top 10 cities with high number of customers that was not churned',template=templates,\n",
    "labels={'index':'Cities', 'value':'Count of customers'},\n",
    "orientation='h' )\n",
    "top_city_fig.show()\n"
   ]
  },
  {
   "cell_type": "code",
   "execution_count": 77,
   "metadata": {},
   "outputs": [
    {
     "data": {
      "text/html": [
       "<div>\n",
       "<style scoped>\n",
       "    .dataframe tbody tr th:only-of-type {\n",
       "        vertical-align: middle;\n",
       "    }\n",
       "\n",
       "    .dataframe tbody tr th {\n",
       "        vertical-align: top;\n",
       "    }\n",
       "\n",
       "    .dataframe thead th {\n",
       "        text-align: right;\n",
       "    }\n",
       "</style>\n",
       "<table border=\"1\" class=\"dataframe\">\n",
       "  <thead>\n",
       "    <tr style=\"text-align: right;\">\n",
       "      <th></th>\n",
       "      <th>Customer ID</th>\n",
       "      <th>Gender</th>\n",
       "      <th>Age</th>\n",
       "      <th>Married</th>\n",
       "      <th>Number of Dependents</th>\n",
       "      <th>City</th>\n",
       "      <th>Zip Code</th>\n",
       "      <th>Latitude</th>\n",
       "      <th>Longitude</th>\n",
       "      <th>Number of Referrals</th>\n",
       "      <th>...</th>\n",
       "      <th>Payment Method</th>\n",
       "      <th>Monthly Charge</th>\n",
       "      <th>Total Charges</th>\n",
       "      <th>Total Refunds</th>\n",
       "      <th>Total Extra Data Charges</th>\n",
       "      <th>Total Long Distance Charges</th>\n",
       "      <th>Total Revenue</th>\n",
       "      <th>Customer Status</th>\n",
       "      <th>Churn Category</th>\n",
       "      <th>Churn Reason</th>\n",
       "    </tr>\n",
       "  </thead>\n",
       "  <tbody>\n",
       "    <tr>\n",
       "      <th>5879</th>\n",
       "      <td>8263-QMNTJ</td>\n",
       "      <td>Male</td>\n",
       "      <td>46</td>\n",
       "      <td>Yes</td>\n",
       "      <td>0</td>\n",
       "      <td>San Francisco</td>\n",
       "      <td>94104</td>\n",
       "      <td>37.791222</td>\n",
       "      <td>-122.402241</td>\n",
       "      <td>2</td>\n",
       "      <td>...</td>\n",
       "      <td>Bank Withdrawal</td>\n",
       "      <td>115.55</td>\n",
       "      <td>8425.30</td>\n",
       "      <td>0.0</td>\n",
       "      <td>0</td>\n",
       "      <td>3443.04</td>\n",
       "      <td>11868.34</td>\n",
       "      <td>Stayed</td>\n",
       "      <td>NaN</td>\n",
       "      <td>NaN</td>\n",
       "    </tr>\n",
       "    <tr>\n",
       "      <th>3879</th>\n",
       "      <td>5451-YHYPW</td>\n",
       "      <td>Female</td>\n",
       "      <td>75</td>\n",
       "      <td>Yes</td>\n",
       "      <td>0</td>\n",
       "      <td>San Francisco</td>\n",
       "      <td>94129</td>\n",
       "      <td>37.797526</td>\n",
       "      <td>-122.464531</td>\n",
       "      <td>2</td>\n",
       "      <td>...</td>\n",
       "      <td>Credit Card</td>\n",
       "      <td>115.75</td>\n",
       "      <td>8443.70</td>\n",
       "      <td>0.0</td>\n",
       "      <td>120</td>\n",
       "      <td>3232.08</td>\n",
       "      <td>11795.78</td>\n",
       "      <td>Stayed</td>\n",
       "      <td>NaN</td>\n",
       "      <td>NaN</td>\n",
       "    </tr>\n",
       "    <tr>\n",
       "      <th>567</th>\n",
       "      <td>0835-JKADZ</td>\n",
       "      <td>Female</td>\n",
       "      <td>29</td>\n",
       "      <td>No</td>\n",
       "      <td>0</td>\n",
       "      <td>San Francisco</td>\n",
       "      <td>94107</td>\n",
       "      <td>37.768881</td>\n",
       "      <td>-122.395521</td>\n",
       "      <td>0</td>\n",
       "      <td>...</td>\n",
       "      <td>Bank Withdrawal</td>\n",
       "      <td>111.25</td>\n",
       "      <td>7984.15</td>\n",
       "      <td>0.0</td>\n",
       "      <td>0</td>\n",
       "      <td>2976.32</td>\n",
       "      <td>10960.47</td>\n",
       "      <td>Stayed</td>\n",
       "      <td>NaN</td>\n",
       "      <td>NaN</td>\n",
       "    </tr>\n",
       "    <tr>\n",
       "      <th>32</th>\n",
       "      <td>0052-DCKON</td>\n",
       "      <td>Male</td>\n",
       "      <td>28</td>\n",
       "      <td>Yes</td>\n",
       "      <td>0</td>\n",
       "      <td>Los Angeles</td>\n",
       "      <td>90063</td>\n",
       "      <td>34.044271</td>\n",
       "      <td>-118.185237</td>\n",
       "      <td>9</td>\n",
       "      <td>...</td>\n",
       "      <td>Bank Withdrawal</td>\n",
       "      <td>-2.00</td>\n",
       "      <td>7942.15</td>\n",
       "      <td>0.0</td>\n",
       "      <td>0</td>\n",
       "      <td>2888.82</td>\n",
       "      <td>10830.97</td>\n",
       "      <td>Stayed</td>\n",
       "      <td>NaN</td>\n",
       "      <td>NaN</td>\n",
       "    </tr>\n",
       "    <tr>\n",
       "      <th>1029</th>\n",
       "      <td>1488-PBLJN</td>\n",
       "      <td>Female</td>\n",
       "      <td>63</td>\n",
       "      <td>Yes</td>\n",
       "      <td>1</td>\n",
       "      <td>San Diego</td>\n",
       "      <td>92124</td>\n",
       "      <td>32.827238</td>\n",
       "      <td>-117.089287</td>\n",
       "      <td>1</td>\n",
       "      <td>...</td>\n",
       "      <td>Bank Withdrawal</td>\n",
       "      <td>116.85</td>\n",
       "      <td>8477.70</td>\n",
       "      <td>0.0</td>\n",
       "      <td>0</td>\n",
       "      <td>2291.76</td>\n",
       "      <td>10769.46</td>\n",
       "      <td>Stayed</td>\n",
       "      <td>NaN</td>\n",
       "      <td>NaN</td>\n",
       "    </tr>\n",
       "  </tbody>\n",
       "</table>\n",
       "<p>5 rows × 38 columns</p>\n",
       "</div>"
      ],
      "text/plain": [
       "     Customer ID  Gender  Age Married  Number of Dependents           City  \\\n",
       "5879  8263-QMNTJ    Male   46     Yes                     0  San Francisco   \n",
       "3879  5451-YHYPW  Female   75     Yes                     0  San Francisco   \n",
       "567   0835-JKADZ  Female   29      No                     0  San Francisco   \n",
       "32    0052-DCKON    Male   28     Yes                     0    Los Angeles   \n",
       "1029  1488-PBLJN  Female   63     Yes                     1      San Diego   \n",
       "\n",
       "      Zip Code   Latitude   Longitude  Number of Referrals  ...  \\\n",
       "5879     94104  37.791222 -122.402241                    2  ...   \n",
       "3879     94129  37.797526 -122.464531                    2  ...   \n",
       "567      94107  37.768881 -122.395521                    0  ...   \n",
       "32       90063  34.044271 -118.185237                    9  ...   \n",
       "1029     92124  32.827238 -117.089287                    1  ...   \n",
       "\n",
       "       Payment Method Monthly Charge Total Charges  Total Refunds  \\\n",
       "5879  Bank Withdrawal         115.55       8425.30            0.0   \n",
       "3879      Credit Card         115.75       8443.70            0.0   \n",
       "567   Bank Withdrawal         111.25       7984.15            0.0   \n",
       "32    Bank Withdrawal          -2.00       7942.15            0.0   \n",
       "1029  Bank Withdrawal         116.85       8477.70            0.0   \n",
       "\n",
       "     Total Extra Data Charges Total Long Distance Charges Total Revenue  \\\n",
       "5879                        0                     3443.04      11868.34   \n",
       "3879                      120                     3232.08      11795.78   \n",
       "567                         0                     2976.32      10960.47   \n",
       "32                          0                     2888.82      10830.97   \n",
       "1029                        0                     2291.76      10769.46   \n",
       "\n",
       "      Customer Status Churn Category Churn Reason  \n",
       "5879           Stayed            NaN          NaN  \n",
       "3879           Stayed            NaN          NaN  \n",
       "567            Stayed            NaN          NaN  \n",
       "32             Stayed            NaN          NaN  \n",
       "1029           Stayed            NaN          NaN  \n",
       "\n",
       "[5 rows x 38 columns]"
      ]
     },
     "execution_count": 77,
     "metadata": {},
     "output_type": "execute_result"
    }
   ],
   "source": [
    "#Let`s select only the rows with the top cities \n",
    "lst=['Los Angeles', 'San Diego', 'San Jose', 'Sacramento', 'San Francisco']\n",
    "top_5_cities=unchurned_customers[unchurned_customers['City'].isin(lst)]\n",
    "top_5_cities.sort_values(by='Total Revenue', ascending=False).head(5)"
   ]
  },
  {
   "cell_type": "code",
   "execution_count": 78,
   "metadata": {},
   "outputs": [
    {
     "data": {
      "text/html": [
       "<div>\n",
       "<style scoped>\n",
       "    .dataframe tbody tr th:only-of-type {\n",
       "        vertical-align: middle;\n",
       "    }\n",
       "\n",
       "    .dataframe tbody tr th {\n",
       "        vertical-align: top;\n",
       "    }\n",
       "\n",
       "    .dataframe thead th {\n",
       "        text-align: right;\n",
       "    }\n",
       "</style>\n",
       "<table border=\"1\" class=\"dataframe\">\n",
       "  <thead>\n",
       "    <tr style=\"text-align: right;\">\n",
       "      <th></th>\n",
       "      <th>Customer ID</th>\n",
       "      <th>Gender</th>\n",
       "      <th>Age</th>\n",
       "      <th>Married</th>\n",
       "      <th>Number of Dependents</th>\n",
       "      <th>City</th>\n",
       "      <th>Zip Code</th>\n",
       "      <th>Latitude</th>\n",
       "      <th>Longitude</th>\n",
       "      <th>Number of Referrals</th>\n",
       "      <th>...</th>\n",
       "      <th>Payment Method</th>\n",
       "      <th>Monthly Charge</th>\n",
       "      <th>Total Charges</th>\n",
       "      <th>Total Refunds</th>\n",
       "      <th>Total Extra Data Charges</th>\n",
       "      <th>Total Long Distance Charges</th>\n",
       "      <th>Total Revenue</th>\n",
       "      <th>Customer Status</th>\n",
       "      <th>Churn Category</th>\n",
       "      <th>Churn Reason</th>\n",
       "    </tr>\n",
       "  </thead>\n",
       "  <tbody>\n",
       "    <tr>\n",
       "      <th>3555</th>\n",
       "      <td>5038-ETMLM</td>\n",
       "      <td>Female</td>\n",
       "      <td>35</td>\n",
       "      <td>Yes</td>\n",
       "      <td>0</td>\n",
       "      <td>Sacramento</td>\n",
       "      <td>95823</td>\n",
       "      <td>38.475465</td>\n",
       "      <td>-121.443625</td>\n",
       "      <td>10</td>\n",
       "      <td>...</td>\n",
       "      <td>Bank Withdrawal</td>\n",
       "      <td>113.65</td>\n",
       "      <td>8182.75</td>\n",
       "      <td>0.00</td>\n",
       "      <td>0</td>\n",
       "      <td>2088.00</td>\n",
       "      <td>10270.75</td>\n",
       "      <td>Stayed</td>\n",
       "      <td>NaN</td>\n",
       "      <td>NaN</td>\n",
       "    </tr>\n",
       "    <tr>\n",
       "      <th>6135</th>\n",
       "      <td>8690-ZVLCL</td>\n",
       "      <td>Female</td>\n",
       "      <td>49</td>\n",
       "      <td>Yes</td>\n",
       "      <td>1</td>\n",
       "      <td>Los Angeles</td>\n",
       "      <td>90038</td>\n",
       "      <td>34.088017</td>\n",
       "      <td>-118.327168</td>\n",
       "      <td>10</td>\n",
       "      <td>...</td>\n",
       "      <td>Credit Card</td>\n",
       "      <td>88.00</td>\n",
       "      <td>6161.90</td>\n",
       "      <td>0.00</td>\n",
       "      <td>40</td>\n",
       "      <td>2958.68</td>\n",
       "      <td>9160.58</td>\n",
       "      <td>Stayed</td>\n",
       "      <td>NaN</td>\n",
       "      <td>NaN</td>\n",
       "    </tr>\n",
       "    <tr>\n",
       "      <th>6158</th>\n",
       "      <td>8722-PRFDV</td>\n",
       "      <td>Female</td>\n",
       "      <td>21</td>\n",
       "      <td>Yes</td>\n",
       "      <td>3</td>\n",
       "      <td>Los Angeles</td>\n",
       "      <td>90042</td>\n",
       "      <td>34.115720</td>\n",
       "      <td>-118.192754</td>\n",
       "      <td>10</td>\n",
       "      <td>...</td>\n",
       "      <td>Credit Card</td>\n",
       "      <td>77.55</td>\n",
       "      <td>5574.35</td>\n",
       "      <td>0.00</td>\n",
       "      <td>0</td>\n",
       "      <td>3461.96</td>\n",
       "      <td>9036.31</td>\n",
       "      <td>Stayed</td>\n",
       "      <td>NaN</td>\n",
       "      <td>NaN</td>\n",
       "    </tr>\n",
       "    <tr>\n",
       "      <th>6375</th>\n",
       "      <td>9031-ZVQPT</td>\n",
       "      <td>Male</td>\n",
       "      <td>21</td>\n",
       "      <td>Yes</td>\n",
       "      <td>0</td>\n",
       "      <td>San Francisco</td>\n",
       "      <td>94109</td>\n",
       "      <td>37.794487</td>\n",
       "      <td>-122.422270</td>\n",
       "      <td>10</td>\n",
       "      <td>...</td>\n",
       "      <td>Bank Withdrawal</td>\n",
       "      <td>108.20</td>\n",
       "      <td>7840.60</td>\n",
       "      <td>0.00</td>\n",
       "      <td>0</td>\n",
       "      <td>1021.68</td>\n",
       "      <td>8862.28</td>\n",
       "      <td>Stayed</td>\n",
       "      <td>NaN</td>\n",
       "      <td>NaN</td>\n",
       "    </tr>\n",
       "    <tr>\n",
       "      <th>2327</th>\n",
       "      <td>3327-YBAKM</td>\n",
       "      <td>Female</td>\n",
       "      <td>31</td>\n",
       "      <td>Yes</td>\n",
       "      <td>0</td>\n",
       "      <td>San Diego</td>\n",
       "      <td>92131</td>\n",
       "      <td>32.893250</td>\n",
       "      <td>-117.087091</td>\n",
       "      <td>10</td>\n",
       "      <td>...</td>\n",
       "      <td>Credit Card</td>\n",
       "      <td>96.90</td>\n",
       "      <td>6314.35</td>\n",
       "      <td>13.37</td>\n",
       "      <td>0</td>\n",
       "      <td>1230.08</td>\n",
       "      <td>7531.06</td>\n",
       "      <td>Stayed</td>\n",
       "      <td>NaN</td>\n",
       "      <td>NaN</td>\n",
       "    </tr>\n",
       "    <tr>\n",
       "      <th>2198</th>\n",
       "      <td>3148-AOIQT</td>\n",
       "      <td>Female</td>\n",
       "      <td>23</td>\n",
       "      <td>Yes</td>\n",
       "      <td>0</td>\n",
       "      <td>Sacramento</td>\n",
       "      <td>95837</td>\n",
       "      <td>38.691607</td>\n",
       "      <td>-121.602284</td>\n",
       "      <td>10</td>\n",
       "      <td>...</td>\n",
       "      <td>Credit Card</td>\n",
       "      <td>24.95</td>\n",
       "      <td>1718.35</td>\n",
       "      <td>0.00</td>\n",
       "      <td>0</td>\n",
       "      <td>3113.28</td>\n",
       "      <td>4831.63</td>\n",
       "      <td>Stayed</td>\n",
       "      <td>NaN</td>\n",
       "      <td>NaN</td>\n",
       "    </tr>\n",
       "    <tr>\n",
       "      <th>5903</th>\n",
       "      <td>8313-AFGBW</td>\n",
       "      <td>Male</td>\n",
       "      <td>55</td>\n",
       "      <td>Yes</td>\n",
       "      <td>0</td>\n",
       "      <td>Los Angeles</td>\n",
       "      <td>90008</td>\n",
       "      <td>34.008293</td>\n",
       "      <td>-118.346766</td>\n",
       "      <td>10</td>\n",
       "      <td>...</td>\n",
       "      <td>Bank Withdrawal</td>\n",
       "      <td>73.60</td>\n",
       "      <td>3522.65</td>\n",
       "      <td>0.00</td>\n",
       "      <td>0</td>\n",
       "      <td>664.58</td>\n",
       "      <td>4187.23</td>\n",
       "      <td>Stayed</td>\n",
       "      <td>NaN</td>\n",
       "      <td>NaN</td>\n",
       "    </tr>\n",
       "    <tr>\n",
       "      <th>60</th>\n",
       "      <td>0104-PPXDV</td>\n",
       "      <td>Male</td>\n",
       "      <td>61</td>\n",
       "      <td>Yes</td>\n",
       "      <td>0</td>\n",
       "      <td>San Diego</td>\n",
       "      <td>92113</td>\n",
       "      <td>32.697098</td>\n",
       "      <td>-117.116587</td>\n",
       "      <td>10</td>\n",
       "      <td>...</td>\n",
       "      <td>Credit Card</td>\n",
       "      <td>50.30</td>\n",
       "      <td>2878.55</td>\n",
       "      <td>10.23</td>\n",
       "      <td>0</td>\n",
       "      <td>1065.46</td>\n",
       "      <td>3933.78</td>\n",
       "      <td>Stayed</td>\n",
       "      <td>NaN</td>\n",
       "      <td>NaN</td>\n",
       "    </tr>\n",
       "    <tr>\n",
       "      <th>2466</th>\n",
       "      <td>3528-HFRIQ</td>\n",
       "      <td>Male</td>\n",
       "      <td>73</td>\n",
       "      <td>Yes</td>\n",
       "      <td>0</td>\n",
       "      <td>Los Angeles</td>\n",
       "      <td>90068</td>\n",
       "      <td>34.137411</td>\n",
       "      <td>-118.328915</td>\n",
       "      <td>10</td>\n",
       "      <td>...</td>\n",
       "      <td>Bank Withdrawal</td>\n",
       "      <td>52.30</td>\n",
       "      <td>3765.05</td>\n",
       "      <td>0.00</td>\n",
       "      <td>40</td>\n",
       "      <td>0.00</td>\n",
       "      <td>3805.05</td>\n",
       "      <td>Stayed</td>\n",
       "      <td>NaN</td>\n",
       "      <td>NaN</td>\n",
       "    </tr>\n",
       "    <tr>\n",
       "      <th>3239</th>\n",
       "      <td>4636-JGAAI</td>\n",
       "      <td>Male</td>\n",
       "      <td>28</td>\n",
       "      <td>Yes</td>\n",
       "      <td>0</td>\n",
       "      <td>San Jose</td>\n",
       "      <td>95120</td>\n",
       "      <td>37.186141</td>\n",
       "      <td>-121.843554</td>\n",
       "      <td>10</td>\n",
       "      <td>...</td>\n",
       "      <td>Credit Card</td>\n",
       "      <td>88.85</td>\n",
       "      <td>3000.25</td>\n",
       "      <td>0.00</td>\n",
       "      <td>0</td>\n",
       "      <td>474.98</td>\n",
       "      <td>3475.23</td>\n",
       "      <td>Stayed</td>\n",
       "      <td>NaN</td>\n",
       "      <td>NaN</td>\n",
       "    </tr>\n",
       "  </tbody>\n",
       "</table>\n",
       "<p>10 rows × 38 columns</p>\n",
       "</div>"
      ],
      "text/plain": [
       "     Customer ID  Gender  Age Married  Number of Dependents           City  \\\n",
       "3555  5038-ETMLM  Female   35     Yes                     0     Sacramento   \n",
       "6135  8690-ZVLCL  Female   49     Yes                     1    Los Angeles   \n",
       "6158  8722-PRFDV  Female   21     Yes                     3    Los Angeles   \n",
       "6375  9031-ZVQPT    Male   21     Yes                     0  San Francisco   \n",
       "2327  3327-YBAKM  Female   31     Yes                     0      San Diego   \n",
       "2198  3148-AOIQT  Female   23     Yes                     0     Sacramento   \n",
       "5903  8313-AFGBW    Male   55     Yes                     0    Los Angeles   \n",
       "60    0104-PPXDV    Male   61     Yes                     0      San Diego   \n",
       "2466  3528-HFRIQ    Male   73     Yes                     0    Los Angeles   \n",
       "3239  4636-JGAAI    Male   28     Yes                     0       San Jose   \n",
       "\n",
       "      Zip Code   Latitude   Longitude  Number of Referrals  ...  \\\n",
       "3555     95823  38.475465 -121.443625                   10  ...   \n",
       "6135     90038  34.088017 -118.327168                   10  ...   \n",
       "6158     90042  34.115720 -118.192754                   10  ...   \n",
       "6375     94109  37.794487 -122.422270                   10  ...   \n",
       "2327     92131  32.893250 -117.087091                   10  ...   \n",
       "2198     95837  38.691607 -121.602284                   10  ...   \n",
       "5903     90008  34.008293 -118.346766                   10  ...   \n",
       "60       92113  32.697098 -117.116587                   10  ...   \n",
       "2466     90068  34.137411 -118.328915                   10  ...   \n",
       "3239     95120  37.186141 -121.843554                   10  ...   \n",
       "\n",
       "       Payment Method Monthly Charge Total Charges  Total Refunds  \\\n",
       "3555  Bank Withdrawal         113.65       8182.75           0.00   \n",
       "6135      Credit Card          88.00       6161.90           0.00   \n",
       "6158      Credit Card          77.55       5574.35           0.00   \n",
       "6375  Bank Withdrawal         108.20       7840.60           0.00   \n",
       "2327      Credit Card          96.90       6314.35          13.37   \n",
       "2198      Credit Card          24.95       1718.35           0.00   \n",
       "5903  Bank Withdrawal          73.60       3522.65           0.00   \n",
       "60        Credit Card          50.30       2878.55          10.23   \n",
       "2466  Bank Withdrawal          52.30       3765.05           0.00   \n",
       "3239      Credit Card          88.85       3000.25           0.00   \n",
       "\n",
       "     Total Extra Data Charges Total Long Distance Charges Total Revenue  \\\n",
       "3555                        0                     2088.00      10270.75   \n",
       "6135                       40                     2958.68       9160.58   \n",
       "6158                        0                     3461.96       9036.31   \n",
       "6375                        0                     1021.68       8862.28   \n",
       "2327                        0                     1230.08       7531.06   \n",
       "2198                        0                     3113.28       4831.63   \n",
       "5903                        0                      664.58       4187.23   \n",
       "60                          0                     1065.46       3933.78   \n",
       "2466                       40                        0.00       3805.05   \n",
       "3239                        0                      474.98       3475.23   \n",
       "\n",
       "      Customer Status Churn Category Churn Reason  \n",
       "3555           Stayed            NaN          NaN  \n",
       "6135           Stayed            NaN          NaN  \n",
       "6158           Stayed            NaN          NaN  \n",
       "6375           Stayed            NaN          NaN  \n",
       "2327           Stayed            NaN          NaN  \n",
       "2198           Stayed            NaN          NaN  \n",
       "5903           Stayed            NaN          NaN  \n",
       "60             Stayed            NaN          NaN  \n",
       "2466           Stayed            NaN          NaN  \n",
       "3239           Stayed            NaN          NaN  \n",
       "\n",
       "[10 rows x 38 columns]"
      ]
     },
     "execution_count": 78,
     "metadata": {},
     "output_type": "execute_result"
    }
   ],
   "source": [
    "#TCWHRHR stands for Top Cities With High Referrals & High Revenue\n",
    "TCWHRHR =top_5_cities[top_5_cities['Number of Referrals']>9].sort_values(by='Total Revenue', ascending=False)\n",
    "main=TCWHRHR.head(10)\n",
    "main\n"
   ]
  },
  {
   "cell_type": "code",
   "execution_count": 92,
   "metadata": {},
   "outputs": [
    {
     "data": {
      "application/vnd.plotly.v1+json": {
       "config": {
        "plotlyServerURL": "https://plot.ly"
       },
       "data": [
        {
         "alignmentgroup": "True",
         "bingroup": "x",
         "histfunc": "sum",
         "hovertemplate": "Age=%{x}<br>sum of Total Revenue=%{y}<extra></extra>",
         "legendgroup": "",
         "marker": {
          "color": "rgb(103,0,31)",
          "pattern": {
           "shape": ""
          }
         },
         "name": "",
         "offsetgroup": "",
         "orientation": "v",
         "showlegend": false,
         "type": "histogram",
         "x": [
          35,
          49,
          21,
          21,
          31,
          23,
          55,
          61,
          73,
          28
         ],
         "xaxis": "x",
         "y": [
          10270.75,
          9160.58,
          9036.31,
          8862.28,
          7531.06,
          4831.63,
          4187.23,
          3933.78,
          3805.05,
          3475.23
         ],
         "yaxis": "y"
        }
       ],
       "layout": {
        "barmode": "relative",
        "legend": {
         "tracegroupgap": 0
        },
        "template": {
         "data": {
          "bar": [
           {
            "error_x": {
             "color": "#f2f5fa"
            },
            "error_y": {
             "color": "#f2f5fa"
            },
            "marker": {
             "line": {
              "color": "rgb(17,17,17)",
              "width": 0.5
             },
             "pattern": {
              "fillmode": "overlay",
              "size": 10,
              "solidity": 0.2
             }
            },
            "type": "bar"
           }
          ],
          "barpolar": [
           {
            "marker": {
             "line": {
              "color": "rgb(17,17,17)",
              "width": 0.5
             },
             "pattern": {
              "fillmode": "overlay",
              "size": 10,
              "solidity": 0.2
             }
            },
            "type": "barpolar"
           }
          ],
          "carpet": [
           {
            "aaxis": {
             "endlinecolor": "#A2B1C6",
             "gridcolor": "#506784",
             "linecolor": "#506784",
             "minorgridcolor": "#506784",
             "startlinecolor": "#A2B1C6"
            },
            "baxis": {
             "endlinecolor": "#A2B1C6",
             "gridcolor": "#506784",
             "linecolor": "#506784",
             "minorgridcolor": "#506784",
             "startlinecolor": "#A2B1C6"
            },
            "type": "carpet"
           }
          ],
          "choropleth": [
           {
            "colorbar": {
             "outlinewidth": 0,
             "ticks": ""
            },
            "type": "choropleth"
           }
          ],
          "contour": [
           {
            "colorbar": {
             "outlinewidth": 0,
             "ticks": ""
            },
            "colorscale": [
             [
              0,
              "#0d0887"
             ],
             [
              0.1111111111111111,
              "#46039f"
             ],
             [
              0.2222222222222222,
              "#7201a8"
             ],
             [
              0.3333333333333333,
              "#9c179e"
             ],
             [
              0.4444444444444444,
              "#bd3786"
             ],
             [
              0.5555555555555556,
              "#d8576b"
             ],
             [
              0.6666666666666666,
              "#ed7953"
             ],
             [
              0.7777777777777778,
              "#fb9f3a"
             ],
             [
              0.8888888888888888,
              "#fdca26"
             ],
             [
              1,
              "#f0f921"
             ]
            ],
            "type": "contour"
           }
          ],
          "contourcarpet": [
           {
            "colorbar": {
             "outlinewidth": 0,
             "ticks": ""
            },
            "type": "contourcarpet"
           }
          ],
          "heatmap": [
           {
            "colorbar": {
             "outlinewidth": 0,
             "ticks": ""
            },
            "colorscale": [
             [
              0,
              "#0d0887"
             ],
             [
              0.1111111111111111,
              "#46039f"
             ],
             [
              0.2222222222222222,
              "#7201a8"
             ],
             [
              0.3333333333333333,
              "#9c179e"
             ],
             [
              0.4444444444444444,
              "#bd3786"
             ],
             [
              0.5555555555555556,
              "#d8576b"
             ],
             [
              0.6666666666666666,
              "#ed7953"
             ],
             [
              0.7777777777777778,
              "#fb9f3a"
             ],
             [
              0.8888888888888888,
              "#fdca26"
             ],
             [
              1,
              "#f0f921"
             ]
            ],
            "type": "heatmap"
           }
          ],
          "heatmapgl": [
           {
            "colorbar": {
             "outlinewidth": 0,
             "ticks": ""
            },
            "colorscale": [
             [
              0,
              "#0d0887"
             ],
             [
              0.1111111111111111,
              "#46039f"
             ],
             [
              0.2222222222222222,
              "#7201a8"
             ],
             [
              0.3333333333333333,
              "#9c179e"
             ],
             [
              0.4444444444444444,
              "#bd3786"
             ],
             [
              0.5555555555555556,
              "#d8576b"
             ],
             [
              0.6666666666666666,
              "#ed7953"
             ],
             [
              0.7777777777777778,
              "#fb9f3a"
             ],
             [
              0.8888888888888888,
              "#fdca26"
             ],
             [
              1,
              "#f0f921"
             ]
            ],
            "type": "heatmapgl"
           }
          ],
          "histogram": [
           {
            "marker": {
             "pattern": {
              "fillmode": "overlay",
              "size": 10,
              "solidity": 0.2
             }
            },
            "type": "histogram"
           }
          ],
          "histogram2d": [
           {
            "colorbar": {
             "outlinewidth": 0,
             "ticks": ""
            },
            "colorscale": [
             [
              0,
              "#0d0887"
             ],
             [
              0.1111111111111111,
              "#46039f"
             ],
             [
              0.2222222222222222,
              "#7201a8"
             ],
             [
              0.3333333333333333,
              "#9c179e"
             ],
             [
              0.4444444444444444,
              "#bd3786"
             ],
             [
              0.5555555555555556,
              "#d8576b"
             ],
             [
              0.6666666666666666,
              "#ed7953"
             ],
             [
              0.7777777777777778,
              "#fb9f3a"
             ],
             [
              0.8888888888888888,
              "#fdca26"
             ],
             [
              1,
              "#f0f921"
             ]
            ],
            "type": "histogram2d"
           }
          ],
          "histogram2dcontour": [
           {
            "colorbar": {
             "outlinewidth": 0,
             "ticks": ""
            },
            "colorscale": [
             [
              0,
              "#0d0887"
             ],
             [
              0.1111111111111111,
              "#46039f"
             ],
             [
              0.2222222222222222,
              "#7201a8"
             ],
             [
              0.3333333333333333,
              "#9c179e"
             ],
             [
              0.4444444444444444,
              "#bd3786"
             ],
             [
              0.5555555555555556,
              "#d8576b"
             ],
             [
              0.6666666666666666,
              "#ed7953"
             ],
             [
              0.7777777777777778,
              "#fb9f3a"
             ],
             [
              0.8888888888888888,
              "#fdca26"
             ],
             [
              1,
              "#f0f921"
             ]
            ],
            "type": "histogram2dcontour"
           }
          ],
          "mesh3d": [
           {
            "colorbar": {
             "outlinewidth": 0,
             "ticks": ""
            },
            "type": "mesh3d"
           }
          ],
          "parcoords": [
           {
            "line": {
             "colorbar": {
              "outlinewidth": 0,
              "ticks": ""
             }
            },
            "type": "parcoords"
           }
          ],
          "pie": [
           {
            "automargin": true,
            "type": "pie"
           }
          ],
          "scatter": [
           {
            "marker": {
             "line": {
              "color": "#283442"
             }
            },
            "type": "scatter"
           }
          ],
          "scatter3d": [
           {
            "line": {
             "colorbar": {
              "outlinewidth": 0,
              "ticks": ""
             }
            },
            "marker": {
             "colorbar": {
              "outlinewidth": 0,
              "ticks": ""
             }
            },
            "type": "scatter3d"
           }
          ],
          "scattercarpet": [
           {
            "marker": {
             "colorbar": {
              "outlinewidth": 0,
              "ticks": ""
             }
            },
            "type": "scattercarpet"
           }
          ],
          "scattergeo": [
           {
            "marker": {
             "colorbar": {
              "outlinewidth": 0,
              "ticks": ""
             }
            },
            "type": "scattergeo"
           }
          ],
          "scattergl": [
           {
            "marker": {
             "line": {
              "color": "#283442"
             }
            },
            "type": "scattergl"
           }
          ],
          "scattermapbox": [
           {
            "marker": {
             "colorbar": {
              "outlinewidth": 0,
              "ticks": ""
             }
            },
            "type": "scattermapbox"
           }
          ],
          "scatterpolar": [
           {
            "marker": {
             "colorbar": {
              "outlinewidth": 0,
              "ticks": ""
             }
            },
            "type": "scatterpolar"
           }
          ],
          "scatterpolargl": [
           {
            "marker": {
             "colorbar": {
              "outlinewidth": 0,
              "ticks": ""
             }
            },
            "type": "scatterpolargl"
           }
          ],
          "scatterternary": [
           {
            "marker": {
             "colorbar": {
              "outlinewidth": 0,
              "ticks": ""
             }
            },
            "type": "scatterternary"
           }
          ],
          "surface": [
           {
            "colorbar": {
             "outlinewidth": 0,
             "ticks": ""
            },
            "colorscale": [
             [
              0,
              "#0d0887"
             ],
             [
              0.1111111111111111,
              "#46039f"
             ],
             [
              0.2222222222222222,
              "#7201a8"
             ],
             [
              0.3333333333333333,
              "#9c179e"
             ],
             [
              0.4444444444444444,
              "#bd3786"
             ],
             [
              0.5555555555555556,
              "#d8576b"
             ],
             [
              0.6666666666666666,
              "#ed7953"
             ],
             [
              0.7777777777777778,
              "#fb9f3a"
             ],
             [
              0.8888888888888888,
              "#fdca26"
             ],
             [
              1,
              "#f0f921"
             ]
            ],
            "type": "surface"
           }
          ],
          "table": [
           {
            "cells": {
             "fill": {
              "color": "#506784"
             },
             "line": {
              "color": "rgb(17,17,17)"
             }
            },
            "header": {
             "fill": {
              "color": "#2a3f5f"
             },
             "line": {
              "color": "rgb(17,17,17)"
             }
            },
            "type": "table"
           }
          ]
         },
         "layout": {
          "annotationdefaults": {
           "arrowcolor": "#f2f5fa",
           "arrowhead": 0,
           "arrowwidth": 1
          },
          "autotypenumbers": "strict",
          "coloraxis": {
           "colorbar": {
            "outlinewidth": 0,
            "ticks": ""
           }
          },
          "colorscale": {
           "diverging": [
            [
             0,
             "#8e0152"
            ],
            [
             0.1,
             "#c51b7d"
            ],
            [
             0.2,
             "#de77ae"
            ],
            [
             0.3,
             "#f1b6da"
            ],
            [
             0.4,
             "#fde0ef"
            ],
            [
             0.5,
             "#f7f7f7"
            ],
            [
             0.6,
             "#e6f5d0"
            ],
            [
             0.7,
             "#b8e186"
            ],
            [
             0.8,
             "#7fbc41"
            ],
            [
             0.9,
             "#4d9221"
            ],
            [
             1,
             "#276419"
            ]
           ],
           "sequential": [
            [
             0,
             "#0d0887"
            ],
            [
             0.1111111111111111,
             "#46039f"
            ],
            [
             0.2222222222222222,
             "#7201a8"
            ],
            [
             0.3333333333333333,
             "#9c179e"
            ],
            [
             0.4444444444444444,
             "#bd3786"
            ],
            [
             0.5555555555555556,
             "#d8576b"
            ],
            [
             0.6666666666666666,
             "#ed7953"
            ],
            [
             0.7777777777777778,
             "#fb9f3a"
            ],
            [
             0.8888888888888888,
             "#fdca26"
            ],
            [
             1,
             "#f0f921"
            ]
           ],
           "sequentialminus": [
            [
             0,
             "#0d0887"
            ],
            [
             0.1111111111111111,
             "#46039f"
            ],
            [
             0.2222222222222222,
             "#7201a8"
            ],
            [
             0.3333333333333333,
             "#9c179e"
            ],
            [
             0.4444444444444444,
             "#bd3786"
            ],
            [
             0.5555555555555556,
             "#d8576b"
            ],
            [
             0.6666666666666666,
             "#ed7953"
            ],
            [
             0.7777777777777778,
             "#fb9f3a"
            ],
            [
             0.8888888888888888,
             "#fdca26"
            ],
            [
             1,
             "#f0f921"
            ]
           ]
          },
          "colorway": [
           "#636efa",
           "#EF553B",
           "#00cc96",
           "#ab63fa",
           "#FFA15A",
           "#19d3f3",
           "#FF6692",
           "#B6E880",
           "#FF97FF",
           "#FECB52"
          ],
          "font": {
           "color": "#f2f5fa"
          },
          "geo": {
           "bgcolor": "rgb(17,17,17)",
           "lakecolor": "rgb(17,17,17)",
           "landcolor": "rgb(17,17,17)",
           "showlakes": true,
           "showland": true,
           "subunitcolor": "#506784"
          },
          "hoverlabel": {
           "align": "left"
          },
          "hovermode": "closest",
          "mapbox": {
           "style": "dark"
          },
          "paper_bgcolor": "rgb(17,17,17)",
          "plot_bgcolor": "rgb(17,17,17)",
          "polar": {
           "angularaxis": {
            "gridcolor": "#506784",
            "linecolor": "#506784",
            "ticks": ""
           },
           "bgcolor": "rgb(17,17,17)",
           "radialaxis": {
            "gridcolor": "#506784",
            "linecolor": "#506784",
            "ticks": ""
           }
          },
          "scene": {
           "xaxis": {
            "backgroundcolor": "rgb(17,17,17)",
            "gridcolor": "#506784",
            "gridwidth": 2,
            "linecolor": "#506784",
            "showbackground": true,
            "ticks": "",
            "zerolinecolor": "#C8D4E3"
           },
           "yaxis": {
            "backgroundcolor": "rgb(17,17,17)",
            "gridcolor": "#506784",
            "gridwidth": 2,
            "linecolor": "#506784",
            "showbackground": true,
            "ticks": "",
            "zerolinecolor": "#C8D4E3"
           },
           "zaxis": {
            "backgroundcolor": "rgb(17,17,17)",
            "gridcolor": "#506784",
            "gridwidth": 2,
            "linecolor": "#506784",
            "showbackground": true,
            "ticks": "",
            "zerolinecolor": "#C8D4E3"
           }
          },
          "shapedefaults": {
           "line": {
            "color": "#f2f5fa"
           }
          },
          "sliderdefaults": {
           "bgcolor": "#C8D4E3",
           "bordercolor": "rgb(17,17,17)",
           "borderwidth": 1,
           "tickwidth": 0
          },
          "ternary": {
           "aaxis": {
            "gridcolor": "#506784",
            "linecolor": "#506784",
            "ticks": ""
           },
           "baxis": {
            "gridcolor": "#506784",
            "linecolor": "#506784",
            "ticks": ""
           },
           "bgcolor": "rgb(17,17,17)",
           "caxis": {
            "gridcolor": "#506784",
            "linecolor": "#506784",
            "ticks": ""
           }
          },
          "title": {
           "x": 0.05
          },
          "updatemenudefaults": {
           "bgcolor": "#506784",
           "borderwidth": 0
          },
          "xaxis": {
           "automargin": true,
           "gridcolor": "#283442",
           "linecolor": "#506784",
           "ticks": "",
           "title": {
            "standoff": 15
           },
           "zerolinecolor": "#283442",
           "zerolinewidth": 2
          },
          "yaxis": {
           "automargin": true,
           "gridcolor": "#283442",
           "linecolor": "#506784",
           "ticks": "",
           "title": {
            "standoff": 15
           },
           "zerolinecolor": "#283442",
           "zerolinewidth": 2
          }
         }
        },
        "title": {
         "text": "Total age of people with high revenue and high referrals by age"
        },
        "xaxis": {
         "anchor": "y",
         "domain": [
          0,
          1
         ],
         "title": {
          "text": "Age"
         }
        },
        "yaxis": {
         "anchor": "x",
         "domain": [
          0,
          1
         ],
         "title": {
          "text": "sum of Total Revenue"
         }
        }
       }
      }
     },
     "metadata": {},
     "output_type": "display_data"
    }
   ],
   "source": [
    "#Let`s see if age has any effect\n",
    "\n",
    "px.data.gapminder()\n",
    "for templates in ['plotly_dark']:\n",
    " age_fig= px.histogram(main, x='Age', y='Total Revenue', color_discrete_sequence=px.colors.sequential.RdBu,\n",
    " title='Total age of people with high revenue and high referrals by age',  template=templates)\n",
    " age_fig.show()"
   ]
  },
  {
   "cell_type": "markdown",
   "metadata": {},
   "source": [
    "This is the age of people with high revenue and high referrals</p>\n",
    "This shows that younger people generated more revenue"
   ]
  },
  {
   "cell_type": "code",
   "execution_count": 80,
   "metadata": {},
   "outputs": [
    {
     "data": {
      "text/html": [
       "<div>\n",
       "<style scoped>\n",
       "    .dataframe tbody tr th:only-of-type {\n",
       "        vertical-align: middle;\n",
       "    }\n",
       "\n",
       "    .dataframe tbody tr th {\n",
       "        vertical-align: top;\n",
       "    }\n",
       "\n",
       "    .dataframe thead th {\n",
       "        text-align: right;\n",
       "    }\n",
       "</style>\n",
       "<table border=\"1\" class=\"dataframe\">\n",
       "  <thead>\n",
       "    <tr style=\"text-align: right;\">\n",
       "      <th></th>\n",
       "      <th>Customer ID</th>\n",
       "      <th>Gender</th>\n",
       "      <th>Age</th>\n",
       "      <th>Married</th>\n",
       "      <th>Number of Dependents</th>\n",
       "      <th>City</th>\n",
       "      <th>Zip Code</th>\n",
       "      <th>Latitude</th>\n",
       "      <th>Longitude</th>\n",
       "      <th>Number of Referrals</th>\n",
       "      <th>...</th>\n",
       "      <th>Payment Method</th>\n",
       "      <th>Monthly Charge</th>\n",
       "      <th>Total Charges</th>\n",
       "      <th>Total Refunds</th>\n",
       "      <th>Total Extra Data Charges</th>\n",
       "      <th>Total Long Distance Charges</th>\n",
       "      <th>Total Revenue</th>\n",
       "      <th>Customer Status</th>\n",
       "      <th>Churn Category</th>\n",
       "      <th>Churn Reason</th>\n",
       "    </tr>\n",
       "  </thead>\n",
       "  <tbody>\n",
       "    <tr>\n",
       "      <th>2466</th>\n",
       "      <td>3528-HFRIQ</td>\n",
       "      <td>Male</td>\n",
       "      <td>73</td>\n",
       "      <td>Yes</td>\n",
       "      <td>0</td>\n",
       "      <td>Los Angeles</td>\n",
       "      <td>90068</td>\n",
       "      <td>34.137411</td>\n",
       "      <td>-118.328915</td>\n",
       "      <td>10</td>\n",
       "      <td>...</td>\n",
       "      <td>Bank Withdrawal</td>\n",
       "      <td>52.30</td>\n",
       "      <td>3765.05</td>\n",
       "      <td>0.00</td>\n",
       "      <td>40</td>\n",
       "      <td>0.00</td>\n",
       "      <td>3805.05</td>\n",
       "      <td>Stayed</td>\n",
       "      <td>NaN</td>\n",
       "      <td>NaN</td>\n",
       "    </tr>\n",
       "    <tr>\n",
       "      <th>6135</th>\n",
       "      <td>8690-ZVLCL</td>\n",
       "      <td>Female</td>\n",
       "      <td>49</td>\n",
       "      <td>Yes</td>\n",
       "      <td>1</td>\n",
       "      <td>Los Angeles</td>\n",
       "      <td>90038</td>\n",
       "      <td>34.088017</td>\n",
       "      <td>-118.327168</td>\n",
       "      <td>10</td>\n",
       "      <td>...</td>\n",
       "      <td>Credit Card</td>\n",
       "      <td>88.00</td>\n",
       "      <td>6161.90</td>\n",
       "      <td>0.00</td>\n",
       "      <td>40</td>\n",
       "      <td>2958.68</td>\n",
       "      <td>9160.58</td>\n",
       "      <td>Stayed</td>\n",
       "      <td>NaN</td>\n",
       "      <td>NaN</td>\n",
       "    </tr>\n",
       "    <tr>\n",
       "      <th>3555</th>\n",
       "      <td>5038-ETMLM</td>\n",
       "      <td>Female</td>\n",
       "      <td>35</td>\n",
       "      <td>Yes</td>\n",
       "      <td>0</td>\n",
       "      <td>Sacramento</td>\n",
       "      <td>95823</td>\n",
       "      <td>38.475465</td>\n",
       "      <td>-121.443625</td>\n",
       "      <td>10</td>\n",
       "      <td>...</td>\n",
       "      <td>Bank Withdrawal</td>\n",
       "      <td>113.65</td>\n",
       "      <td>8182.75</td>\n",
       "      <td>0.00</td>\n",
       "      <td>0</td>\n",
       "      <td>2088.00</td>\n",
       "      <td>10270.75</td>\n",
       "      <td>Stayed</td>\n",
       "      <td>NaN</td>\n",
       "      <td>NaN</td>\n",
       "    </tr>\n",
       "    <tr>\n",
       "      <th>2327</th>\n",
       "      <td>3327-YBAKM</td>\n",
       "      <td>Female</td>\n",
       "      <td>31</td>\n",
       "      <td>Yes</td>\n",
       "      <td>0</td>\n",
       "      <td>San Diego</td>\n",
       "      <td>92131</td>\n",
       "      <td>32.893250</td>\n",
       "      <td>-117.087091</td>\n",
       "      <td>10</td>\n",
       "      <td>...</td>\n",
       "      <td>Credit Card</td>\n",
       "      <td>96.90</td>\n",
       "      <td>6314.35</td>\n",
       "      <td>13.37</td>\n",
       "      <td>0</td>\n",
       "      <td>1230.08</td>\n",
       "      <td>7531.06</td>\n",
       "      <td>Stayed</td>\n",
       "      <td>NaN</td>\n",
       "      <td>NaN</td>\n",
       "    </tr>\n",
       "    <tr>\n",
       "      <th>2198</th>\n",
       "      <td>3148-AOIQT</td>\n",
       "      <td>Female</td>\n",
       "      <td>23</td>\n",
       "      <td>Yes</td>\n",
       "      <td>0</td>\n",
       "      <td>Sacramento</td>\n",
       "      <td>95837</td>\n",
       "      <td>38.691607</td>\n",
       "      <td>-121.602284</td>\n",
       "      <td>10</td>\n",
       "      <td>...</td>\n",
       "      <td>Credit Card</td>\n",
       "      <td>24.95</td>\n",
       "      <td>1718.35</td>\n",
       "      <td>0.00</td>\n",
       "      <td>0</td>\n",
       "      <td>3113.28</td>\n",
       "      <td>4831.63</td>\n",
       "      <td>Stayed</td>\n",
       "      <td>NaN</td>\n",
       "      <td>NaN</td>\n",
       "    </tr>\n",
       "    <tr>\n",
       "      <th>6158</th>\n",
       "      <td>8722-PRFDV</td>\n",
       "      <td>Female</td>\n",
       "      <td>21</td>\n",
       "      <td>Yes</td>\n",
       "      <td>3</td>\n",
       "      <td>Los Angeles</td>\n",
       "      <td>90042</td>\n",
       "      <td>34.115720</td>\n",
       "      <td>-118.192754</td>\n",
       "      <td>10</td>\n",
       "      <td>...</td>\n",
       "      <td>Credit Card</td>\n",
       "      <td>77.55</td>\n",
       "      <td>5574.35</td>\n",
       "      <td>0.00</td>\n",
       "      <td>0</td>\n",
       "      <td>3461.96</td>\n",
       "      <td>9036.31</td>\n",
       "      <td>Stayed</td>\n",
       "      <td>NaN</td>\n",
       "      <td>NaN</td>\n",
       "    </tr>\n",
       "    <tr>\n",
       "      <th>6375</th>\n",
       "      <td>9031-ZVQPT</td>\n",
       "      <td>Male</td>\n",
       "      <td>21</td>\n",
       "      <td>Yes</td>\n",
       "      <td>0</td>\n",
       "      <td>San Francisco</td>\n",
       "      <td>94109</td>\n",
       "      <td>37.794487</td>\n",
       "      <td>-122.422270</td>\n",
       "      <td>10</td>\n",
       "      <td>...</td>\n",
       "      <td>Bank Withdrawal</td>\n",
       "      <td>108.20</td>\n",
       "      <td>7840.60</td>\n",
       "      <td>0.00</td>\n",
       "      <td>0</td>\n",
       "      <td>1021.68</td>\n",
       "      <td>8862.28</td>\n",
       "      <td>Stayed</td>\n",
       "      <td>NaN</td>\n",
       "      <td>NaN</td>\n",
       "    </tr>\n",
       "  </tbody>\n",
       "</table>\n",
       "<p>7 rows × 38 columns</p>\n",
       "</div>"
      ],
      "text/plain": [
       "     Customer ID  Gender  Age Married  Number of Dependents           City  \\\n",
       "2466  3528-HFRIQ    Male   73     Yes                     0    Los Angeles   \n",
       "6135  8690-ZVLCL  Female   49     Yes                     1    Los Angeles   \n",
       "3555  5038-ETMLM  Female   35     Yes                     0     Sacramento   \n",
       "2327  3327-YBAKM  Female   31     Yes                     0      San Diego   \n",
       "2198  3148-AOIQT  Female   23     Yes                     0     Sacramento   \n",
       "6158  8722-PRFDV  Female   21     Yes                     3    Los Angeles   \n",
       "6375  9031-ZVQPT    Male   21     Yes                     0  San Francisco   \n",
       "\n",
       "      Zip Code   Latitude   Longitude  Number of Referrals  ...  \\\n",
       "2466     90068  34.137411 -118.328915                   10  ...   \n",
       "6135     90038  34.088017 -118.327168                   10  ...   \n",
       "3555     95823  38.475465 -121.443625                   10  ...   \n",
       "2327     92131  32.893250 -117.087091                   10  ...   \n",
       "2198     95837  38.691607 -121.602284                   10  ...   \n",
       "6158     90042  34.115720 -118.192754                   10  ...   \n",
       "6375     94109  37.794487 -122.422270                   10  ...   \n",
       "\n",
       "       Payment Method Monthly Charge Total Charges  Total Refunds  \\\n",
       "2466  Bank Withdrawal          52.30       3765.05           0.00   \n",
       "6135      Credit Card          88.00       6161.90           0.00   \n",
       "3555  Bank Withdrawal         113.65       8182.75           0.00   \n",
       "2327      Credit Card          96.90       6314.35          13.37   \n",
       "2198      Credit Card          24.95       1718.35           0.00   \n",
       "6158      Credit Card          77.55       5574.35           0.00   \n",
       "6375  Bank Withdrawal         108.20       7840.60           0.00   \n",
       "\n",
       "     Total Extra Data Charges Total Long Distance Charges Total Revenue  \\\n",
       "2466                       40                        0.00       3805.05   \n",
       "6135                       40                     2958.68       9160.58   \n",
       "3555                        0                     2088.00      10270.75   \n",
       "2327                        0                     1230.08       7531.06   \n",
       "2198                        0                     3113.28       4831.63   \n",
       "6158                        0                     3461.96       9036.31   \n",
       "6375                        0                     1021.68       8862.28   \n",
       "\n",
       "      Customer Status Churn Category Churn Reason  \n",
       "2466           Stayed            NaN          NaN  \n",
       "6135           Stayed            NaN          NaN  \n",
       "3555           Stayed            NaN          NaN  \n",
       "2327           Stayed            NaN          NaN  \n",
       "2198           Stayed            NaN          NaN  \n",
       "6158           Stayed            NaN          NaN  \n",
       "6375           Stayed            NaN          NaN  \n",
       "\n",
       "[7 rows x 38 columns]"
      ]
     },
     "execution_count": 80,
     "metadata": {},
     "output_type": "execute_result"
    }
   ],
   "source": [
    "main1=main[main['Tenure in Months']>60].sort_values(by= 'Age', ascending=False)\n",
    "main1"
   ]
  },
  {
   "cell_type": "markdown",
   "metadata": {},
   "source": [
    "This shows that people that have stayed for close to 2 months have generated more revenue"
   ]
  },
  {
   "cell_type": "code",
   "execution_count": 81,
   "metadata": {},
   "outputs": [
    {
     "data": {
      "text/html": [
       "<div>\n",
       "<style scoped>\n",
       "    .dataframe tbody tr th:only-of-type {\n",
       "        vertical-align: middle;\n",
       "    }\n",
       "\n",
       "    .dataframe tbody tr th {\n",
       "        vertical-align: top;\n",
       "    }\n",
       "\n",
       "    .dataframe thead th {\n",
       "        text-align: right;\n",
       "    }\n",
       "</style>\n",
       "<table border=\"1\" class=\"dataframe\">\n",
       "  <thead>\n",
       "    <tr style=\"text-align: right;\">\n",
       "      <th></th>\n",
       "      <th>Customer ID</th>\n",
       "      <th>Tenure in Months</th>\n",
       "      <th>Contract</th>\n",
       "      <th>Total Revenue</th>\n",
       "    </tr>\n",
       "  </thead>\n",
       "  <tbody>\n",
       "    <tr>\n",
       "      <th>6135</th>\n",
       "      <td>8690-ZVLCL</td>\n",
       "      <td>68</td>\n",
       "      <td>Two Year</td>\n",
       "      <td>9160.58</td>\n",
       "    </tr>\n",
       "    <tr>\n",
       "      <th>3555</th>\n",
       "      <td>5038-ETMLM</td>\n",
       "      <td>72</td>\n",
       "      <td>Two Year</td>\n",
       "      <td>10270.75</td>\n",
       "    </tr>\n",
       "    <tr>\n",
       "      <th>2198</th>\n",
       "      <td>3148-AOIQT</td>\n",
       "      <td>69</td>\n",
       "      <td>Two Year</td>\n",
       "      <td>4831.63</td>\n",
       "    </tr>\n",
       "    <tr>\n",
       "      <th>6158</th>\n",
       "      <td>8722-PRFDV</td>\n",
       "      <td>71</td>\n",
       "      <td>Two Year</td>\n",
       "      <td>9036.31</td>\n",
       "    </tr>\n",
       "    <tr>\n",
       "      <th>6375</th>\n",
       "      <td>9031-ZVQPT</td>\n",
       "      <td>72</td>\n",
       "      <td>Two Year</td>\n",
       "      <td>8862.28</td>\n",
       "    </tr>\n",
       "    <tr>\n",
       "      <th>2327</th>\n",
       "      <td>3327-YBAKM</td>\n",
       "      <td>64</td>\n",
       "      <td>One Year</td>\n",
       "      <td>7531.06</td>\n",
       "    </tr>\n",
       "    <tr>\n",
       "      <th>2466</th>\n",
       "      <td>3528-HFRIQ</td>\n",
       "      <td>71</td>\n",
       "      <td>Month-to-Month</td>\n",
       "      <td>3805.05</td>\n",
       "    </tr>\n",
       "  </tbody>\n",
       "</table>\n",
       "</div>"
      ],
      "text/plain": [
       "     Customer ID  Tenure in Months        Contract  Total Revenue\n",
       "6135  8690-ZVLCL                68        Two Year        9160.58\n",
       "3555  5038-ETMLM                72        Two Year       10270.75\n",
       "2198  3148-AOIQT                69        Two Year        4831.63\n",
       "6158  8722-PRFDV                71        Two Year        9036.31\n",
       "6375  9031-ZVQPT                72        Two Year        8862.28\n",
       "2327  3327-YBAKM                64        One Year        7531.06\n",
       "2466  3528-HFRIQ                71  Month-to-Month        3805.05"
      ]
     },
     "execution_count": 81,
     "metadata": {},
     "output_type": "execute_result"
    }
   ],
   "source": [
    "#Let`s look at Tenure and contract period fo the customers \n",
    "main3= main1[[ 'Customer ID','Tenure in Months', 'Contract', 'Total Revenue']].sort_values(by= 'Contract', ascending=False)\n",
    "main3\n",
    "\n"
   ]
  },
  {
   "cell_type": "code",
   "execution_count": 82,
   "metadata": {},
   "outputs": [
    {
     "data": {
      "application/vnd.plotly.v1+json": {
       "config": {
        "plotlyServerURL": "https://plot.ly"
       },
       "data": [
        {
         "alignmentgroup": "True",
         "hovertemplate": "Contract=Two Year<br>Customer ID=%{x}<br>Total Revenue=%{y}<extra></extra>",
         "legendgroup": "Two Year",
         "marker": {
          "color": "rgb(103,0,31)",
          "pattern": {
           "shape": ""
          }
         },
         "name": "Two Year",
         "offsetgroup": "Two Year",
         "orientation": "v",
         "showlegend": true,
         "textposition": "auto",
         "type": "bar",
         "x": [
          "8690-ZVLCL",
          "5038-ETMLM",
          "3148-AOIQT",
          "8722-PRFDV",
          "9031-ZVQPT"
         ],
         "xaxis": "x",
         "y": [
          9160.58,
          10270.75,
          4831.63,
          9036.31,
          8862.28
         ],
         "yaxis": "y"
        },
        {
         "alignmentgroup": "True",
         "hovertemplate": "Contract=One Year<br>Customer ID=%{x}<br>Total Revenue=%{y}<extra></extra>",
         "legendgroup": "One Year",
         "marker": {
          "color": "rgb(178,24,43)",
          "pattern": {
           "shape": ""
          }
         },
         "name": "One Year",
         "offsetgroup": "One Year",
         "orientation": "v",
         "showlegend": true,
         "textposition": "auto",
         "type": "bar",
         "x": [
          "3327-YBAKM"
         ],
         "xaxis": "x",
         "y": [
          7531.06
         ],
         "yaxis": "y"
        },
        {
         "alignmentgroup": "True",
         "hovertemplate": "Contract=Month-to-Month<br>Customer ID=%{x}<br>Total Revenue=%{y}<extra></extra>",
         "legendgroup": "Month-to-Month",
         "marker": {
          "color": "rgb(214,96,77)",
          "pattern": {
           "shape": ""
          }
         },
         "name": "Month-to-Month",
         "offsetgroup": "Month-to-Month",
         "orientation": "v",
         "showlegend": true,
         "textposition": "auto",
         "type": "bar",
         "x": [
          "3528-HFRIQ"
         ],
         "xaxis": "x",
         "y": [
          3805.05
         ],
         "yaxis": "y"
        }
       ],
       "layout": {
        "barmode": "relative",
        "legend": {
         "title": {
          "text": "Contract"
         },
         "tracegroupgap": 0
        },
        "template": {
         "data": {
          "bar": [
           {
            "error_x": {
             "color": "#f2f5fa"
            },
            "error_y": {
             "color": "#f2f5fa"
            },
            "marker": {
             "line": {
              "color": "rgb(17,17,17)",
              "width": 0.5
             },
             "pattern": {
              "fillmode": "overlay",
              "size": 10,
              "solidity": 0.2
             }
            },
            "type": "bar"
           }
          ],
          "barpolar": [
           {
            "marker": {
             "line": {
              "color": "rgb(17,17,17)",
              "width": 0.5
             },
             "pattern": {
              "fillmode": "overlay",
              "size": 10,
              "solidity": 0.2
             }
            },
            "type": "barpolar"
           }
          ],
          "carpet": [
           {
            "aaxis": {
             "endlinecolor": "#A2B1C6",
             "gridcolor": "#506784",
             "linecolor": "#506784",
             "minorgridcolor": "#506784",
             "startlinecolor": "#A2B1C6"
            },
            "baxis": {
             "endlinecolor": "#A2B1C6",
             "gridcolor": "#506784",
             "linecolor": "#506784",
             "minorgridcolor": "#506784",
             "startlinecolor": "#A2B1C6"
            },
            "type": "carpet"
           }
          ],
          "choropleth": [
           {
            "colorbar": {
             "outlinewidth": 0,
             "ticks": ""
            },
            "type": "choropleth"
           }
          ],
          "contour": [
           {
            "colorbar": {
             "outlinewidth": 0,
             "ticks": ""
            },
            "colorscale": [
             [
              0,
              "#0d0887"
             ],
             [
              0.1111111111111111,
              "#46039f"
             ],
             [
              0.2222222222222222,
              "#7201a8"
             ],
             [
              0.3333333333333333,
              "#9c179e"
             ],
             [
              0.4444444444444444,
              "#bd3786"
             ],
             [
              0.5555555555555556,
              "#d8576b"
             ],
             [
              0.6666666666666666,
              "#ed7953"
             ],
             [
              0.7777777777777778,
              "#fb9f3a"
             ],
             [
              0.8888888888888888,
              "#fdca26"
             ],
             [
              1,
              "#f0f921"
             ]
            ],
            "type": "contour"
           }
          ],
          "contourcarpet": [
           {
            "colorbar": {
             "outlinewidth": 0,
             "ticks": ""
            },
            "type": "contourcarpet"
           }
          ],
          "heatmap": [
           {
            "colorbar": {
             "outlinewidth": 0,
             "ticks": ""
            },
            "colorscale": [
             [
              0,
              "#0d0887"
             ],
             [
              0.1111111111111111,
              "#46039f"
             ],
             [
              0.2222222222222222,
              "#7201a8"
             ],
             [
              0.3333333333333333,
              "#9c179e"
             ],
             [
              0.4444444444444444,
              "#bd3786"
             ],
             [
              0.5555555555555556,
              "#d8576b"
             ],
             [
              0.6666666666666666,
              "#ed7953"
             ],
             [
              0.7777777777777778,
              "#fb9f3a"
             ],
             [
              0.8888888888888888,
              "#fdca26"
             ],
             [
              1,
              "#f0f921"
             ]
            ],
            "type": "heatmap"
           }
          ],
          "heatmapgl": [
           {
            "colorbar": {
             "outlinewidth": 0,
             "ticks": ""
            },
            "colorscale": [
             [
              0,
              "#0d0887"
             ],
             [
              0.1111111111111111,
              "#46039f"
             ],
             [
              0.2222222222222222,
              "#7201a8"
             ],
             [
              0.3333333333333333,
              "#9c179e"
             ],
             [
              0.4444444444444444,
              "#bd3786"
             ],
             [
              0.5555555555555556,
              "#d8576b"
             ],
             [
              0.6666666666666666,
              "#ed7953"
             ],
             [
              0.7777777777777778,
              "#fb9f3a"
             ],
             [
              0.8888888888888888,
              "#fdca26"
             ],
             [
              1,
              "#f0f921"
             ]
            ],
            "type": "heatmapgl"
           }
          ],
          "histogram": [
           {
            "marker": {
             "pattern": {
              "fillmode": "overlay",
              "size": 10,
              "solidity": 0.2
             }
            },
            "type": "histogram"
           }
          ],
          "histogram2d": [
           {
            "colorbar": {
             "outlinewidth": 0,
             "ticks": ""
            },
            "colorscale": [
             [
              0,
              "#0d0887"
             ],
             [
              0.1111111111111111,
              "#46039f"
             ],
             [
              0.2222222222222222,
              "#7201a8"
             ],
             [
              0.3333333333333333,
              "#9c179e"
             ],
             [
              0.4444444444444444,
              "#bd3786"
             ],
             [
              0.5555555555555556,
              "#d8576b"
             ],
             [
              0.6666666666666666,
              "#ed7953"
             ],
             [
              0.7777777777777778,
              "#fb9f3a"
             ],
             [
              0.8888888888888888,
              "#fdca26"
             ],
             [
              1,
              "#f0f921"
             ]
            ],
            "type": "histogram2d"
           }
          ],
          "histogram2dcontour": [
           {
            "colorbar": {
             "outlinewidth": 0,
             "ticks": ""
            },
            "colorscale": [
             [
              0,
              "#0d0887"
             ],
             [
              0.1111111111111111,
              "#46039f"
             ],
             [
              0.2222222222222222,
              "#7201a8"
             ],
             [
              0.3333333333333333,
              "#9c179e"
             ],
             [
              0.4444444444444444,
              "#bd3786"
             ],
             [
              0.5555555555555556,
              "#d8576b"
             ],
             [
              0.6666666666666666,
              "#ed7953"
             ],
             [
              0.7777777777777778,
              "#fb9f3a"
             ],
             [
              0.8888888888888888,
              "#fdca26"
             ],
             [
              1,
              "#f0f921"
             ]
            ],
            "type": "histogram2dcontour"
           }
          ],
          "mesh3d": [
           {
            "colorbar": {
             "outlinewidth": 0,
             "ticks": ""
            },
            "type": "mesh3d"
           }
          ],
          "parcoords": [
           {
            "line": {
             "colorbar": {
              "outlinewidth": 0,
              "ticks": ""
             }
            },
            "type": "parcoords"
           }
          ],
          "pie": [
           {
            "automargin": true,
            "type": "pie"
           }
          ],
          "scatter": [
           {
            "marker": {
             "line": {
              "color": "#283442"
             }
            },
            "type": "scatter"
           }
          ],
          "scatter3d": [
           {
            "line": {
             "colorbar": {
              "outlinewidth": 0,
              "ticks": ""
             }
            },
            "marker": {
             "colorbar": {
              "outlinewidth": 0,
              "ticks": ""
             }
            },
            "type": "scatter3d"
           }
          ],
          "scattercarpet": [
           {
            "marker": {
             "colorbar": {
              "outlinewidth": 0,
              "ticks": ""
             }
            },
            "type": "scattercarpet"
           }
          ],
          "scattergeo": [
           {
            "marker": {
             "colorbar": {
              "outlinewidth": 0,
              "ticks": ""
             }
            },
            "type": "scattergeo"
           }
          ],
          "scattergl": [
           {
            "marker": {
             "line": {
              "color": "#283442"
             }
            },
            "type": "scattergl"
           }
          ],
          "scattermapbox": [
           {
            "marker": {
             "colorbar": {
              "outlinewidth": 0,
              "ticks": ""
             }
            },
            "type": "scattermapbox"
           }
          ],
          "scatterpolar": [
           {
            "marker": {
             "colorbar": {
              "outlinewidth": 0,
              "ticks": ""
             }
            },
            "type": "scatterpolar"
           }
          ],
          "scatterpolargl": [
           {
            "marker": {
             "colorbar": {
              "outlinewidth": 0,
              "ticks": ""
             }
            },
            "type": "scatterpolargl"
           }
          ],
          "scatterternary": [
           {
            "marker": {
             "colorbar": {
              "outlinewidth": 0,
              "ticks": ""
             }
            },
            "type": "scatterternary"
           }
          ],
          "surface": [
           {
            "colorbar": {
             "outlinewidth": 0,
             "ticks": ""
            },
            "colorscale": [
             [
              0,
              "#0d0887"
             ],
             [
              0.1111111111111111,
              "#46039f"
             ],
             [
              0.2222222222222222,
              "#7201a8"
             ],
             [
              0.3333333333333333,
              "#9c179e"
             ],
             [
              0.4444444444444444,
              "#bd3786"
             ],
             [
              0.5555555555555556,
              "#d8576b"
             ],
             [
              0.6666666666666666,
              "#ed7953"
             ],
             [
              0.7777777777777778,
              "#fb9f3a"
             ],
             [
              0.8888888888888888,
              "#fdca26"
             ],
             [
              1,
              "#f0f921"
             ]
            ],
            "type": "surface"
           }
          ],
          "table": [
           {
            "cells": {
             "fill": {
              "color": "#506784"
             },
             "line": {
              "color": "rgb(17,17,17)"
             }
            },
            "header": {
             "fill": {
              "color": "#2a3f5f"
             },
             "line": {
              "color": "rgb(17,17,17)"
             }
            },
            "type": "table"
           }
          ]
         },
         "layout": {
          "annotationdefaults": {
           "arrowcolor": "#f2f5fa",
           "arrowhead": 0,
           "arrowwidth": 1
          },
          "autotypenumbers": "strict",
          "coloraxis": {
           "colorbar": {
            "outlinewidth": 0,
            "ticks": ""
           }
          },
          "colorscale": {
           "diverging": [
            [
             0,
             "#8e0152"
            ],
            [
             0.1,
             "#c51b7d"
            ],
            [
             0.2,
             "#de77ae"
            ],
            [
             0.3,
             "#f1b6da"
            ],
            [
             0.4,
             "#fde0ef"
            ],
            [
             0.5,
             "#f7f7f7"
            ],
            [
             0.6,
             "#e6f5d0"
            ],
            [
             0.7,
             "#b8e186"
            ],
            [
             0.8,
             "#7fbc41"
            ],
            [
             0.9,
             "#4d9221"
            ],
            [
             1,
             "#276419"
            ]
           ],
           "sequential": [
            [
             0,
             "#0d0887"
            ],
            [
             0.1111111111111111,
             "#46039f"
            ],
            [
             0.2222222222222222,
             "#7201a8"
            ],
            [
             0.3333333333333333,
             "#9c179e"
            ],
            [
             0.4444444444444444,
             "#bd3786"
            ],
            [
             0.5555555555555556,
             "#d8576b"
            ],
            [
             0.6666666666666666,
             "#ed7953"
            ],
            [
             0.7777777777777778,
             "#fb9f3a"
            ],
            [
             0.8888888888888888,
             "#fdca26"
            ],
            [
             1,
             "#f0f921"
            ]
           ],
           "sequentialminus": [
            [
             0,
             "#0d0887"
            ],
            [
             0.1111111111111111,
             "#46039f"
            ],
            [
             0.2222222222222222,
             "#7201a8"
            ],
            [
             0.3333333333333333,
             "#9c179e"
            ],
            [
             0.4444444444444444,
             "#bd3786"
            ],
            [
             0.5555555555555556,
             "#d8576b"
            ],
            [
             0.6666666666666666,
             "#ed7953"
            ],
            [
             0.7777777777777778,
             "#fb9f3a"
            ],
            [
             0.8888888888888888,
             "#fdca26"
            ],
            [
             1,
             "#f0f921"
            ]
           ]
          },
          "colorway": [
           "#636efa",
           "#EF553B",
           "#00cc96",
           "#ab63fa",
           "#FFA15A",
           "#19d3f3",
           "#FF6692",
           "#B6E880",
           "#FF97FF",
           "#FECB52"
          ],
          "font": {
           "color": "#f2f5fa"
          },
          "geo": {
           "bgcolor": "rgb(17,17,17)",
           "lakecolor": "rgb(17,17,17)",
           "landcolor": "rgb(17,17,17)",
           "showlakes": true,
           "showland": true,
           "subunitcolor": "#506784"
          },
          "hoverlabel": {
           "align": "left"
          },
          "hovermode": "closest",
          "mapbox": {
           "style": "dark"
          },
          "paper_bgcolor": "rgb(17,17,17)",
          "plot_bgcolor": "rgb(17,17,17)",
          "polar": {
           "angularaxis": {
            "gridcolor": "#506784",
            "linecolor": "#506784",
            "ticks": ""
           },
           "bgcolor": "rgb(17,17,17)",
           "radialaxis": {
            "gridcolor": "#506784",
            "linecolor": "#506784",
            "ticks": ""
           }
          },
          "scene": {
           "xaxis": {
            "backgroundcolor": "rgb(17,17,17)",
            "gridcolor": "#506784",
            "gridwidth": 2,
            "linecolor": "#506784",
            "showbackground": true,
            "ticks": "",
            "zerolinecolor": "#C8D4E3"
           },
           "yaxis": {
            "backgroundcolor": "rgb(17,17,17)",
            "gridcolor": "#506784",
            "gridwidth": 2,
            "linecolor": "#506784",
            "showbackground": true,
            "ticks": "",
            "zerolinecolor": "#C8D4E3"
           },
           "zaxis": {
            "backgroundcolor": "rgb(17,17,17)",
            "gridcolor": "#506784",
            "gridwidth": 2,
            "linecolor": "#506784",
            "showbackground": true,
            "ticks": "",
            "zerolinecolor": "#C8D4E3"
           }
          },
          "shapedefaults": {
           "line": {
            "color": "#f2f5fa"
           }
          },
          "sliderdefaults": {
           "bgcolor": "#C8D4E3",
           "bordercolor": "rgb(17,17,17)",
           "borderwidth": 1,
           "tickwidth": 0
          },
          "ternary": {
           "aaxis": {
            "gridcolor": "#506784",
            "linecolor": "#506784",
            "ticks": ""
           },
           "baxis": {
            "gridcolor": "#506784",
            "linecolor": "#506784",
            "ticks": ""
           },
           "bgcolor": "rgb(17,17,17)",
           "caxis": {
            "gridcolor": "#506784",
            "linecolor": "#506784",
            "ticks": ""
           }
          },
          "title": {
           "x": 0.05
          },
          "updatemenudefaults": {
           "bgcolor": "#506784",
           "borderwidth": 0
          },
          "xaxis": {
           "automargin": true,
           "gridcolor": "#283442",
           "linecolor": "#506784",
           "ticks": "",
           "title": {
            "standoff": 15
           },
           "zerolinecolor": "#283442",
           "zerolinewidth": 2
          },
          "yaxis": {
           "automargin": true,
           "gridcolor": "#283442",
           "linecolor": "#506784",
           "ticks": "",
           "title": {
            "standoff": 15
           },
           "zerolinecolor": "#283442",
           "zerolinewidth": 2
          }
         }
        },
        "title": {
         "text": "Contract period of customers that have stayed for more than 2 months(60>days)"
        },
        "xaxis": {
         "anchor": "y",
         "domain": [
          0,
          1
         ],
         "title": {
          "text": "Customer ID"
         }
        },
        "yaxis": {
         "anchor": "x",
         "domain": [
          0,
          1
         ],
         "title": {
          "text": "Total Revenue"
         }
        }
       }
      }
     },
     "metadata": {},
     "output_type": "display_data"
    }
   ],
   "source": [
    "px.data.gapminder()\n",
    "for templates in ['plotly_dark']:\n",
    " contract_period_fig=px.bar(main3, x='Customer ID', y='Total Revenue', color= 'Contract',color_discrete_sequence=px.colors.sequential.RdBu, \n",
    "title= 'Contract period of customers that have stayed for more than 2 months(60>days)', template=templates )\n",
    "contract_period_fig.show()"
   ]
  },
  {
   "cell_type": "markdown",
   "metadata": {},
   "source": [
    "5038-ETMLM, 8690-ZVLCL, 8722-PRFDV, 9031-ZVQPT, 3327-YBAKM, 3148-AOIQT and 3528-HFRIQ are likely the high valued customers because they have referred more people, generated high revenue and have stayed for a long time with the company"
   ]
  },
  {
   "cell_type": "code",
   "execution_count": 83,
   "metadata": {},
   "outputs": [],
   "source": [
    "import pandas as pd\n",
    "from jupyter_dash import JupyterDash\n",
    "from dash import dcc\n",
    "from dash import html\n",
    "from dash.dependencies import Input, Output"
   ]
  },
  {
   "cell_type": "code",
   "execution_count": 84,
   "metadata": {},
   "outputs": [
    {
     "data": {
      "text/plain": [
       "Templates configuration\n",
       "-----------------------\n",
       "    Default template: 'plotly'\n",
       "    Available templates:\n",
       "        ['ggplot2', 'seaborn', 'simple_white', 'plotly',\n",
       "         'plotly_white', 'plotly_dark', 'presentation', 'xgridoff',\n",
       "         'ygridoff', 'gridon', 'none']"
      ]
     },
     "execution_count": 84,
     "metadata": {},
     "output_type": "execute_result"
    }
   ],
   "source": [
    "import plotly.io as pio\n",
    "pio.templates"
   ]
  },
  {
   "cell_type": "code",
   "execution_count": 96,
   "metadata": {},
   "outputs": [
    {
     "name": "stdout",
     "output_type": "stream",
     "text": [
      "Dash app running on http://127.0.0.1:8099/\n"
     ]
    }
   ],
   "source": [
    "# Import required library\n",
    "import dash\n",
    "from jupyter_dash import JupyterDash\n",
    "from dash import dcc\n",
    "from dash import html\n",
    "from dash.dependencies import Input, Output\n",
    "import dash_bootstrap_components as dbc\n",
    "import plotly.io as pio \n",
    "\n",
    "\n",
    "\n",
    "\n",
    "# Create a dash application\n",
    "app = JupyterDash(__name__)\n",
    "\n",
    "colors={\n",
    "    'background':'#121212'\n",
    "}\n",
    "\n",
    "# Build dash app layout\n",
    "app.layout = html.Div(style={'backgroundColor': colors['background']},children=[html.H1('Identifying high valued customers Statistics',\n",
    "                                        style={'textAlign': 'center', 'color': '#503D36',\n",
    "                                               'font-size': 30}),\n",
    "                                html.Div([\"Input Year: \", dcc.Input(id='input-year', value='2022',\n",
    "                                                                    type='number',\n",
    "                                                                    style={'height': '35px', 'font-size': 30}), ],\n",
    "                                         style={'font-size': 30, 'color':'white'}),\n",
    "                                html.Br(),\n",
    "                                html.Br(),\n",
    "                                \n",
    "                                # Segment 1\n",
    "                                html.Div([\n",
    "                                    html.Div(dcc.Graph(id='Categories-plot')),\n",
    "                                    html.Div(dcc.Graph(id='Reason-plot'))\n",
    "                                ], style={'display': 'flex'}),\n",
    "                                # Segment 2\n",
    "                                html.Div([\n",
    "                                    html.Div(dcc.Graph(id='Customers-plot')),\n",
    "                                    html.Div(dcc.Graph(id='Marital-plot'))\n",
    "                                ], style={'display': 'flex'}),\n",
    "                                # Segment 3\n",
    "                                html.Div([\n",
    "                                    html.Div(dcc.Graph(id='Age-plot')),\n",
    "                                    html.Div(dcc.Graph(id='Period-plot'))\n",
    "                                ], style={'display': 'flex'}),\n",
    "                                # Segment 4\n",
    "                                html.Div([\n",
    "                                html.Div(dcc.Graph(id='offer-plot')),\n",
    "                                html.Div(dcc.Graph(id='city-plot'))\n",
    "                                ], style={'display': 'flex'}),\n",
    "\n",
    "                                html.Div([dcc.Markdown('''\n",
    "\n",
    "                                    ### Insights and recommendations\n",
    "                                    \n",
    "                                    \n",
    "                                    * Large number of customers switched because they got better offer and most of them got 'Offer E' so review and improve 'Offer E'.\n",
    "                                    * Married people should be highly valued because they have higher percentage of people that stayed and it will be good to note that all the customers with high referrals and high revenue are all married\n",
    "                                    * Customers that have been in the company for more than 60 days with 2 years contract are also high valued because they generate more revenue.\n",
    "                                    * Younger people (20-40) generated more revenue and had higher referrals so could be considered as high valued customers \n",
    "                                    * In conclusion, **5038-ETMLM, 8690-ZVLCL, 8722-PRFDV, 9031-ZVQPT, 3327-YBAKM, 3148-AOIQT and 3528-HFRIQ** are likely the high valued customers because \n",
    "                                    they have referred more people, generated high revenue and have stayed for a long time with the company.\n",
    "                                ''')\n",
    "\n",
    "                                ], style={'color':'#F1F1F1'})\n",
    "\n",
    "                                ])\n",
    "\n",
    "\"\"\" Compute_info function description\n",
    "\n",
    "This function takes in Telecommunication churn data and selected year as an input and performs computation for creating charts and plots.\n",
    "\n",
    "Arguments:\n",
    "    Telecommunication churn data: Input customers data.\n",
    "    entered_year: Input year for which computation needs to be performed.\n",
    "\n",
    "Returns:\n",
    "    Computed average dataframes for charts of the above analysis, insights and recommendations\n",
    "\n",
    "\"\"\"\n",
    "\n",
    "\n",
    "def compute_info(customer_churn):\n",
    " \n",
    "    # Compute the above analysis\n",
    " churn_cat = easy1\n",
    " churn_res = comp1\n",
    " city_val=bubble\n",
    " high_val = rev10\n",
    " marital_stats = top\n",
    " rev_age = main\n",
    " off_type=offer\n",
    " cus_per=main3\n",
    " return churn_cat, churn_res, high_val, marital_stats, rev_age, off_type, cus_per, city_val\n",
    "\n",
    "\n",
    "\"\"\"Callback Function\n",
    "\n",
    "Function that returns figures using the provided input year.\n",
    "\n",
    "Arguments:\n",
    "\n",
    "    entered_year: Input year provided by the user.\n",
    "\n",
    "Returns:\n",
    "\n",
    "    List of figures computed using the provided helper function `compute_info`.\n",
    "\"\"\"\n",
    "\n",
    "\n",
    "# Callback decorator\n",
    "@app.callback([\n",
    "    Output('Categories-plot','figure'),\n",
    "    Output('Reason-plot','figure'),\n",
    "    Output('Customers-plot','figure'),\n",
    "    Output('Marital-plot','figure'),\n",
    "    Output('Age-plot','figure'),\n",
    "    Output('offer-plot', 'figure'),\n",
    "    Output('Period-plot','figure'),\n",
    "    Output('city-plot','figure'),\n",
    "],\n",
    "    Input(component_id='input-year', component_property='value'))\n",
    "# Computation to callback function and return graph\n",
    "def get_graph(customer_churn):\n",
    "    # Compute required information for creating graph from the data\n",
    "    churn_cat, churn_res, high_val, marital_stats, rev_age, city_val, cus_per, off_type= compute_info(customer_churn)\n",
    "\n",
    "    # Bar plot for category of churned customers\n",
    "    cat_fig=category_fig\n",
    "    # Horizontal bar plot for reasons why people leave\n",
    "    res_fig=reason_for_leaving_fig\n",
    "    # Bar plot of people with high referrals and high revenue\n",
    "    cusID_fig=highest_no_rev_fig\n",
    "    # Doughnut chart of marital status\n",
    "    mar_fig=marital_fig\n",
    "    # Horizontal plot of the top cities with higher number of customers\n",
    "    city_fig=top_city_fig\n",
    "    # Histogram plot of the age of customers with highest number of revenue and high referrals \n",
    "    revage_fig=age_fig\n",
    "    #Scatter plot of offers given to the churned customers\n",
    "    offer_fig=offer_no_fig\n",
    "    #Bar plot of customers tenure\n",
    "    ctc_fig=contract_period_fig\n",
    "\n",
    "    return[cat_fig, res_fig,offer_fig, cusID_fig, mar_fig,revage_fig,city_fig, ctc_fig]\n",
    "\n",
    "\n",
    "# Run the app\n",
    "if __name__ == '__main__':\n",
    "    app.run_server(debug=True, port=8099)\n",
    "\n"
   ]
  }
 ],
 "metadata": {
  "kernelspec": {
   "display_name": "Python 3.10.5 64-bit",
   "language": "python",
   "name": "python3"
  },
  "language_info": {
   "codemirror_mode": {
    "name": "ipython",
    "version": 3
   },
   "file_extension": ".py",
   "mimetype": "text/x-python",
   "name": "python",
   "nbconvert_exporter": "python",
   "pygments_lexer": "ipython3",
   "version": "3.10.5"
  },
  "orig_nbformat": 4,
  "vscode": {
   "interpreter": {
    "hash": "d037db767888ca20f162af57146859b2817597c9f7de8a360c3aa09f6e1c4877"
   }
  }
 },
 "nbformat": 4,
 "nbformat_minor": 2
}
